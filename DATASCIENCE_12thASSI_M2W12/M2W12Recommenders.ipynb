{
 "cells": [
  {
   "cell_type": "markdown",
   "metadata": {
    "collapsed": true
   },
   "source": [
    "## -----------Start M2-Week 12 Assignment/21th Nov 2016------------------------------\n",
    "<li><strong>Title:</strong> Module 2 / Week 12: Recommenders  \n",
    "<li><strong>Purpose:</strong>Recommenders with Movie review Dataset\n",
    "<li><strong>Name:</strong>RAJESH ASHOK JAISWAL UIN:669012329\n",
    "<li><strong>DATED:</strong>11/21/2016"
   ]
  },
  {
   "cell_type": "markdown",
   "metadata": {},
   "source": [
    "#### Here I am going to import all required parameters and classifier"
   ]
  },
  {
   "cell_type": "code",
   "execution_count": 1,
   "metadata": {
    "collapsed": true
   },
   "outputs": [],
   "source": [
    "import pandas as pd\n",
    "import numpy as np\n",
    "%matplotlib inline"
   ]
  },
  {
   "cell_type": "markdown",
   "metadata": {
    "collapsed": true
   },
   "source": [
    "### -------------------------------------What is Recommender System--------------------------------\n",
    "Recommender systems or recommendation systems (sometimes replacing \"system\" with a synonym such as platform or engine) are a subclass of information filtering system that seek to predict the \"rating\" or \"preference\" that a user would give to an item.\n",
    "\n",
    "Recommender systems have become extremely common in recent years, and are utilized in a variety of areas: some popular applications include movies, music, news, books, research articles, search queries, social tags, and products in general. There are also recommender systems for experts,collaborators, jokes, restaurants, garments, financial services life insurance, romantic partners (online dating), and Twitter pages."
   ]
  },
  {
   "cell_type": "markdown",
   "metadata": {},
   "source": [
    "### -------------------------------How we are working---------------------------------------------\n",
    "<li> Will download data from moview rating google document and load it into local dataframe 'MData'"
   ]
  },
  {
   "cell_type": "code",
   "execution_count": 2,
   "metadata": {
    "collapsed": false
   },
   "outputs": [],
   "source": [
    "# Here I am going to fetch our class student rating into dataframe \"MData'\n",
    "MData = pd.read_csv('MovieReviews.csv',index_col=0)"
   ]
  },
  {
   "cell_type": "code",
   "execution_count": 3,
   "metadata": {
    "collapsed": false
   },
   "outputs": [
    {
     "data": {
      "text/html": [
       "<div>\n",
       "<table border=\"1\" class=\"dataframe\">\n",
       "  <thead>\n",
       "    <tr style=\"text-align: right;\">\n",
       "      <th></th>\n",
       "      <th>American Sniper</th>\n",
       "      <th>The Hunger Games: Mockingjay - Part 1</th>\n",
       "      <th>Guardians of the Galaxy</th>\n",
       "      <th>The Lego Movie</th>\n",
       "      <th>The Hobbit</th>\n",
       "      <th>Transformers</th>\n",
       "      <th>Malificent</th>\n",
       "      <th>Big Hero 6</th>\n",
       "      <th>Godzilla</th>\n",
       "      <th>Interstellar</th>\n",
       "      <th>How to Train your Dragon 2</th>\n",
       "      <th>Gone Girl</th>\n",
       "      <th>Divergent</th>\n",
       "      <th>The Fault in Our Stars</th>\n",
       "      <th>Unbroken</th>\n",
       "      <th>300: Rise of an Empire</th>\n",
       "    </tr>\n",
       "  </thead>\n",
       "  <tbody>\n",
       "    <tr>\n",
       "      <th>Aarti Jaiswal</th>\n",
       "      <td>4.0</td>\n",
       "      <td>NaN</td>\n",
       "      <td>NaN</td>\n",
       "      <td>NaN</td>\n",
       "      <td>4.0</td>\n",
       "      <td>3.0</td>\n",
       "      <td>NaN</td>\n",
       "      <td>5.0</td>\n",
       "      <td>NaN</td>\n",
       "      <td>NaN</td>\n",
       "      <td>NaN</td>\n",
       "      <td>4.0</td>\n",
       "      <td>NaN</td>\n",
       "      <td>NaN</td>\n",
       "      <td>NaN</td>\n",
       "      <td>NaN</td>\n",
       "    </tr>\n",
       "    <tr>\n",
       "      <th>Aditya Dharmasagar</th>\n",
       "      <td>5.0</td>\n",
       "      <td>NaN</td>\n",
       "      <td>NaN</td>\n",
       "      <td>4.0</td>\n",
       "      <td>5.0</td>\n",
       "      <td>4.0</td>\n",
       "      <td>4.0</td>\n",
       "      <td>NaN</td>\n",
       "      <td>4.0</td>\n",
       "      <td>5.0</td>\n",
       "      <td>5.0</td>\n",
       "      <td>5.0</td>\n",
       "      <td>4.0</td>\n",
       "      <td>4.0</td>\n",
       "      <td>NaN</td>\n",
       "      <td>5.0</td>\n",
       "    </tr>\n",
       "    <tr>\n",
       "      <th>Adrian Cavallaris</th>\n",
       "      <td>NaN</td>\n",
       "      <td>4.0</td>\n",
       "      <td>3.0</td>\n",
       "      <td>NaN</td>\n",
       "      <td>4.0</td>\n",
       "      <td>2.0</td>\n",
       "      <td>NaN</td>\n",
       "      <td>NaN</td>\n",
       "      <td>NaN</td>\n",
       "      <td>NaN</td>\n",
       "      <td>NaN</td>\n",
       "      <td>NaN</td>\n",
       "      <td>4.0</td>\n",
       "      <td>NaN</td>\n",
       "      <td>NaN</td>\n",
       "      <td>NaN</td>\n",
       "    </tr>\n",
       "    <tr>\n",
       "      <th>Ahmed Muheebuddin</th>\n",
       "      <td>5.0</td>\n",
       "      <td>NaN</td>\n",
       "      <td>4.0</td>\n",
       "      <td>NaN</td>\n",
       "      <td>3.0</td>\n",
       "      <td>NaN</td>\n",
       "      <td>NaN</td>\n",
       "      <td>NaN</td>\n",
       "      <td>NaN</td>\n",
       "      <td>NaN</td>\n",
       "      <td>NaN</td>\n",
       "      <td>NaN</td>\n",
       "      <td>NaN</td>\n",
       "      <td>NaN</td>\n",
       "      <td>NaN</td>\n",
       "      <td>NaN</td>\n",
       "    </tr>\n",
       "    <tr>\n",
       "      <th>Aishwarya reddy</th>\n",
       "      <td>NaN</td>\n",
       "      <td>3.0</td>\n",
       "      <td>4.0</td>\n",
       "      <td>3.0</td>\n",
       "      <td>4.0</td>\n",
       "      <td>4.0</td>\n",
       "      <td>3.0</td>\n",
       "      <td>NaN</td>\n",
       "      <td>4.0</td>\n",
       "      <td>4.0</td>\n",
       "      <td>3.0</td>\n",
       "      <td>5.0</td>\n",
       "      <td>NaN</td>\n",
       "      <td>4.0</td>\n",
       "      <td>NaN</td>\n",
       "      <td>3.0</td>\n",
       "    </tr>\n",
       "    <tr>\n",
       "      <th>Akhilesh</th>\n",
       "      <td>NaN</td>\n",
       "      <td>NaN</td>\n",
       "      <td>4.0</td>\n",
       "      <td>3.0</td>\n",
       "      <td>5.0</td>\n",
       "      <td>4.0</td>\n",
       "      <td>NaN</td>\n",
       "      <td>NaN</td>\n",
       "      <td>NaN</td>\n",
       "      <td>5.0</td>\n",
       "      <td>NaN</td>\n",
       "      <td>3.0</td>\n",
       "      <td>NaN</td>\n",
       "      <td>NaN</td>\n",
       "      <td>NaN</td>\n",
       "      <td>5.0</td>\n",
       "    </tr>\n",
       "    <tr>\n",
       "      <th>Andrew Webb</th>\n",
       "      <td>4.0</td>\n",
       "      <td>3.0</td>\n",
       "      <td>4.0</td>\n",
       "      <td>3.0</td>\n",
       "      <td>3.0</td>\n",
       "      <td>2.0</td>\n",
       "      <td>NaN</td>\n",
       "      <td>4.0</td>\n",
       "      <td>3.0</td>\n",
       "      <td>4.0</td>\n",
       "      <td>3.0</td>\n",
       "      <td>4.0</td>\n",
       "      <td>2.0</td>\n",
       "      <td>3.0</td>\n",
       "      <td>NaN</td>\n",
       "      <td>3.0</td>\n",
       "    </tr>\n",
       "    <tr>\n",
       "      <th>Anirudh</th>\n",
       "      <td>3.0</td>\n",
       "      <td>4.0</td>\n",
       "      <td>5.0</td>\n",
       "      <td>3.0</td>\n",
       "      <td>5.0</td>\n",
       "      <td>3.0</td>\n",
       "      <td>5.0</td>\n",
       "      <td>NaN</td>\n",
       "      <td>4.0</td>\n",
       "      <td>NaN</td>\n",
       "      <td>NaN</td>\n",
       "      <td>2.0</td>\n",
       "      <td>3.0</td>\n",
       "      <td>4.0</td>\n",
       "      <td>NaN</td>\n",
       "      <td>2.0</td>\n",
       "    </tr>\n",
       "    <tr>\n",
       "      <th>Anirudh Thota</th>\n",
       "      <td>NaN</td>\n",
       "      <td>3.0</td>\n",
       "      <td>4.0</td>\n",
       "      <td>3.0</td>\n",
       "      <td>3.0</td>\n",
       "      <td>4.0</td>\n",
       "      <td>NaN</td>\n",
       "      <td>NaN</td>\n",
       "      <td>3.0</td>\n",
       "      <td>4.0</td>\n",
       "      <td>3.0</td>\n",
       "      <td>NaN</td>\n",
       "      <td>NaN</td>\n",
       "      <td>NaN</td>\n",
       "      <td>NaN</td>\n",
       "      <td>4.0</td>\n",
       "    </tr>\n",
       "    <tr>\n",
       "      <th>anurag</th>\n",
       "      <td>4.0</td>\n",
       "      <td>NaN</td>\n",
       "      <td>NaN</td>\n",
       "      <td>NaN</td>\n",
       "      <td>3.0</td>\n",
       "      <td>NaN</td>\n",
       "      <td>NaN</td>\n",
       "      <td>NaN</td>\n",
       "      <td>5.0</td>\n",
       "      <td>NaN</td>\n",
       "      <td>3.0</td>\n",
       "      <td>NaN</td>\n",
       "      <td>3.0</td>\n",
       "      <td>NaN</td>\n",
       "      <td>NaN</td>\n",
       "      <td>5.0</td>\n",
       "    </tr>\n",
       "  </tbody>\n",
       "</table>\n",
       "</div>"
      ],
      "text/plain": [
       "                    American Sniper  The Hunger Games: Mockingjay - Part 1  \\\n",
       "Aarti Jaiswal                   4.0                                    NaN   \n",
       "Aditya Dharmasagar              5.0                                    NaN   \n",
       "Adrian Cavallaris               NaN                                    4.0   \n",
       "Ahmed Muheebuddin               5.0                                    NaN   \n",
       "Aishwarya reddy                 NaN                                    3.0   \n",
       "Akhilesh                        NaN                                    NaN   \n",
       "Andrew Webb                     4.0                                    3.0   \n",
       "Anirudh                         3.0                                    4.0   \n",
       "Anirudh Thota                   NaN                                    3.0   \n",
       "anurag                          4.0                                    NaN   \n",
       "\n",
       "                    Guardians of the Galaxy  The Lego Movie  The Hobbit  \\\n",
       "Aarti Jaiswal                           NaN             NaN         4.0   \n",
       "Aditya Dharmasagar                      NaN             4.0         5.0   \n",
       "Adrian Cavallaris                       3.0             NaN         4.0   \n",
       "Ahmed Muheebuddin                       4.0             NaN         3.0   \n",
       "Aishwarya reddy                         4.0             3.0         4.0   \n",
       "Akhilesh                                4.0             3.0         5.0   \n",
       "Andrew Webb                             4.0             3.0         3.0   \n",
       "Anirudh                                 5.0             3.0         5.0   \n",
       "Anirudh Thota                           4.0             3.0         3.0   \n",
       "anurag                                  NaN             NaN         3.0   \n",
       "\n",
       "                    Transformers  Malificent  Big Hero 6  Godzilla  \\\n",
       "Aarti Jaiswal                3.0         NaN         5.0       NaN   \n",
       "Aditya Dharmasagar           4.0         4.0         NaN       4.0   \n",
       "Adrian Cavallaris            2.0         NaN         NaN       NaN   \n",
       "Ahmed Muheebuddin            NaN         NaN         NaN       NaN   \n",
       "Aishwarya reddy              4.0         3.0         NaN       4.0   \n",
       "Akhilesh                     4.0         NaN         NaN       NaN   \n",
       "Andrew Webb                  2.0         NaN         4.0       3.0   \n",
       "Anirudh                      3.0         5.0         NaN       4.0   \n",
       "Anirudh Thota                4.0         NaN         NaN       3.0   \n",
       "anurag                       NaN         NaN         NaN       5.0   \n",
       "\n",
       "                    Interstellar  How to Train your Dragon 2  Gone Girl  \\\n",
       "Aarti Jaiswal                NaN                         NaN        4.0   \n",
       "Aditya Dharmasagar           5.0                         5.0        5.0   \n",
       "Adrian Cavallaris            NaN                         NaN        NaN   \n",
       "Ahmed Muheebuddin            NaN                         NaN        NaN   \n",
       "Aishwarya reddy              4.0                         3.0        5.0   \n",
       "Akhilesh                     5.0                         NaN        3.0   \n",
       "Andrew Webb                  4.0                         3.0        4.0   \n",
       "Anirudh                      NaN                         NaN        2.0   \n",
       "Anirudh Thota                4.0                         3.0        NaN   \n",
       "anurag                       NaN                         3.0        NaN   \n",
       "\n",
       "                    Divergent  The Fault in Our Stars  Unbroken  \\\n",
       "Aarti Jaiswal             NaN                     NaN       NaN   \n",
       "Aditya Dharmasagar        4.0                     4.0       NaN   \n",
       "Adrian Cavallaris         4.0                     NaN       NaN   \n",
       "Ahmed Muheebuddin         NaN                     NaN       NaN   \n",
       "Aishwarya reddy           NaN                     4.0       NaN   \n",
       "Akhilesh                  NaN                     NaN       NaN   \n",
       "Andrew Webb               2.0                     3.0       NaN   \n",
       "Anirudh                   3.0                     4.0       NaN   \n",
       "Anirudh Thota             NaN                     NaN       NaN   \n",
       "anurag                    3.0                     NaN       NaN   \n",
       "\n",
       "                    300: Rise of an Empire  \n",
       "Aarti Jaiswal                          NaN  \n",
       "Aditya Dharmasagar                     5.0  \n",
       "Adrian Cavallaris                      NaN  \n",
       "Ahmed Muheebuddin                      NaN  \n",
       "Aishwarya reddy                        3.0  \n",
       "Akhilesh                               5.0  \n",
       "Andrew Webb                            3.0  \n",
       "Anirudh                                2.0  \n",
       "Anirudh Thota                          4.0  \n",
       "anurag                                 5.0  "
      ]
     },
     "execution_count": 3,
     "metadata": {},
     "output_type": "execute_result"
    }
   ],
   "source": [
    "#Display data \n",
    "MData.head(10)"
   ]
  },
  {
   "cell_type": "markdown",
   "metadata": {},
   "source": [
    "### -------------------will handle missing data of continous columns ---------------------------\n",
    "<li>Here I am going to replace each missing value of each column by its mean value"
   ]
  },
  {
   "cell_type": "code",
   "execution_count": 4,
   "metadata": {
    "collapsed": false
   },
   "outputs": [
    {
     "data": {
      "text/plain": [
       "['American Sniper',\n",
       " 'The Hunger Games: Mockingjay - Part 1',\n",
       " 'Guardians of the Galaxy',\n",
       " 'The Lego Movie',\n",
       " 'The Hobbit',\n",
       " 'Transformers',\n",
       " 'Malificent',\n",
       " 'Big Hero 6',\n",
       " 'Godzilla',\n",
       " 'Interstellar',\n",
       " 'How to Train your Dragon 2',\n",
       " 'Gone Girl',\n",
       " 'Divergent',\n",
       " 'The Fault in Our Stars',\n",
       " 'Unbroken',\n",
       " '300: Rise of an Empire']"
      ]
     },
     "execution_count": 4,
     "metadata": {},
     "output_type": "execute_result"
    }
   ],
   "source": [
    "#here i going to check is there any continous column present in Tdata dataframe with missing values.\n",
    "#will check is there any missing values\n",
    "[col for col in MData.columns \n",
    "     if MData[col].isnull().any()]"
   ]
  },
  {
   "cell_type": "code",
   "execution_count": 5,
   "metadata": {
    "collapsed": true
   },
   "outputs": [],
   "source": [
    "#will use for loop to fill missing value with its mean value for each column\n",
    "for col in MData.columns: \n",
    "     if MData[col].isnull().any():\n",
    "            MData[col].fillna(MData[col].mean(), inplace=True)"
   ]
  },
  {
   "cell_type": "code",
   "execution_count": 6,
   "metadata": {
    "collapsed": false
   },
   "outputs": [
    {
     "data": {
      "text/plain": [
       "[]"
      ]
     },
     "execution_count": 6,
     "metadata": {},
     "output_type": "execute_result"
    }
   ],
   "source": [
    "#will check is there any missing values after handling\n",
    "[col for col in MData.columns \n",
    "     if MData[col].isnull().any()]"
   ]
  },
  {
   "cell_type": "markdown",
   "metadata": {},
   "source": [
    "##          --------------------------Pearson Value Calculation-----------------------------\n",
    "$$r =  \\frac{\\sum {(x-\\overline{x})(y-\\overline{y})}}{\\sigma_x \\sigma_y}$$\n",
    "\n",
    "and returns a value of 1 for strongly corellated data, -1 for strongly negatively correlated, and 0 for no correlation"
   ]
  },
  {
   "cell_type": "code",
   "execution_count": 8,
   "metadata": {
    "collapsed": true
   },
   "outputs": [],
   "source": [
    "#Here we will Define one function to calculate person value to check comparision\n",
    "def pearson(s1, s2):\n",
    "    \"\"\"Take two pd.Series objects and return a pearson correlation.\"\"\"\n",
    "    s1_c = s1 - s1.mean()\n",
    "    s2_c = s2 - s2.mean()\n",
    "    return np.sum(s1_c * s2_c) / np.sqrt(np.sum(s1_c ** 2) * np.sum(s2_c ** 2))"
   ]
  },
  {
   "cell_type": "markdown",
   "metadata": {},
   "source": [
    "#### Here we are going to apply recommender method"
   ]
  },
  {
   "cell_type": "code",
   "execution_count": 9,
   "metadata": {
    "collapsed": true
   },
   "outputs": [],
   "source": [
    "def get_recs(movie_name, MData, num):\n",
    "\n",
    "    import numpy as np\n",
    "    reviews = []\n",
    "    for title in MData.columns:\n",
    "        if title == movie_name:\n",
    "            continue\n",
    "        cor = pearson(MData[movie_name], MData[title])\n",
    "        if np.isnan(cor):\n",
    "            continue\n",
    "        else:\n",
    "            reviews.append((title, cor))\n",
    "    \n",
    "    reviews.sort(key=lambda tup: tup[1], reverse=True)\n",
    "    return reviews[:num]"
   ]
  },
  {
   "cell_type": "markdown",
   "metadata": {},
   "source": [
    "## ----------------------------------Evaluation of Questions-----------------------------------\n",
    "\n",
    "### Question 1:  What movie is most Similar to 'The fault in our stars' (60 pts)\n",
    "\n",
    "I am going to follow below mentioned steps\n",
    "<li> Using get_recs function defined above will calculate 10 moviee which are more similar to 'The Fault in Our Stars' Movie"
   ]
  },
  {
   "cell_type": "code",
   "execution_count": 10,
   "metadata": {
    "collapsed": false
   },
   "outputs": [],
   "source": [
    "MostSimilarMovie = get_recs('The Fault in Our Stars', MData, 10)"
   ]
  },
  {
   "cell_type": "code",
   "execution_count": 11,
   "metadata": {
    "collapsed": false
   },
   "outputs": [
    {
     "data": {
      "text/plain": [
       "[('Malificent', 0.98990351718511904),\n",
       " ('How to Train your Dragon 2', 0.98751790476733559),\n",
       " ('Divergent', 0.98732713190836674),\n",
       " ('Guardians of the Galaxy', 0.98703006291143658),\n",
       " ('Interstellar', 0.98680894154585141),\n",
       " ('Gone Girl', 0.98676951446375116),\n",
       " ('300: Rise of an Empire', 0.98589462187265253),\n",
       " ('The Hobbit', 0.98573338062470472),\n",
       " ('Godzilla', 0.98539085689089734),\n",
       " ('The Lego Movie', 0.9851910606274612)]"
      ]
     },
     "execution_count": 11,
     "metadata": {},
     "output_type": "execute_result"
    }
   ],
   "source": [
    "MostSimilarMovie[:10]"
   ]
  },
  {
   "cell_type": "markdown",
   "metadata": {},
   "source": [
    "### Conclusion for Question 1:\n",
    "<li> Movie <strong>'Malificent'</strong>is most similar movie like 'The Fault in Our Stars'\n",
    "<li> Movies like 'How to Train your Dragon 2','Divergent','Guardians of the Galaxy' also similar to movie ''The Fault in Our Stars' as they are lagging behind by very less margin as per the ratings"
   ]
  },
  {
   "cell_type": "markdown",
   "metadata": {},
   "source": [
    "### ---------------A movie,which is  dissimilar to 'The fault in our stars'----------------------------------------"
   ]
  },
  {
   "cell_type": "code",
   "execution_count": 12,
   "metadata": {
    "collapsed": true
   },
   "outputs": [],
   "source": [
    "DisSimilarMovie = get_recs('The Fault in Our Stars', MData, 16)"
   ]
  },
  {
   "cell_type": "code",
   "execution_count": 13,
   "metadata": {
    "collapsed": false
   },
   "outputs": [
    {
     "data": {
      "text/plain": [
       "[('Gone Girl', 0.98676951446375116),\n",
       " ('300: Rise of an Empire', 0.98589462187265253),\n",
       " ('The Hobbit', 0.98573338062470472),\n",
       " ('Godzilla', 0.98539085689089734),\n",
       " ('The Lego Movie', 0.9851910606274612),\n",
       " ('Big Hero 6', 0.98497553269169802),\n",
       " ('The Hunger Games: Mockingjay - Part 1', 0.98437494284422389),\n",
       " ('Transformers', 0.98433042850761121),\n",
       " ('American Sniper', 0.98397397967031597),\n",
       " ('Unbroken', 0.98040866079834033)]"
      ]
     },
     "execution_count": 13,
     "metadata": {},
     "output_type": "execute_result"
    }
   ],
   "source": [
    "DisSimilarMovie[-10:]"
   ]
  },
  {
   "cell_type": "markdown",
   "metadata": {},
   "source": [
    "### Movies Such as 'Gone Girl',300: Rise of an Empire' are most dissimilar to movie The Fault in Our Stars as per the rating results "
   ]
  },
  {
   "cell_type": "markdown",
   "metadata": {},
   "source": [
    "## -------------------------- Question 2:----------------------------------------------------------  \n",
    "### Which movie(s) would you most like to see, based on your classmates experience? (40 pts)\n",
    "To draw a result for this question i will follow below steps\n",
    "<li> Fisrt will found my ratings and arrange them as per the rating given by me.\n",
    "<li> Then will Calculate average rating of each movie and will arrange them descending order.\n",
    "<li> Then those movies have most ratings I will like to see with my friends"
   ]
  },
  {
   "cell_type": "markdown",
   "metadata": {},
   "source": [
    "### Will Calculate My rating and will order them as per my ratings"
   ]
  },
  {
   "cell_type": "code",
   "execution_count": 14,
   "metadata": {
    "collapsed": true
   },
   "outputs": [],
   "source": [
    "#My Ratings\n",
    "My_ratings = MData.ix['Rajesh Jaiswal'].dropna()"
   ]
  },
  {
   "cell_type": "code",
   "execution_count": 15,
   "metadata": {
    "collapsed": false
   },
   "outputs": [
    {
     "data": {
      "text/plain": [
       "American Sniper                          4.0\n",
       "The Hunger Games: Mockingjay - Part 1    3.0\n",
       "Guardians of the Galaxy                  3.0\n",
       "The Lego Movie                           4.0\n",
       "The Hobbit                               4.0\n",
       "Transformers                             5.0\n",
       "Malificent                               4.0\n",
       "Big Hero 6                               5.0\n",
       "Godzilla                                 4.0\n",
       "Interstellar                             5.0\n",
       "How to Train your Dragon 2               5.0\n",
       "Gone Girl                                3.0\n",
       "Divergent                                3.0\n",
       "The Fault in Our Stars                   3.0\n",
       "Unbroken                                 5.0\n",
       "300: Rise of an Empire                   5.0\n",
       "Name: Rajesh Jaiswal, dtype: float64"
      ]
     },
     "execution_count": 15,
     "metadata": {},
     "output_type": "execute_result"
    }
   ],
   "source": [
    "My_ratings"
   ]
  },
  {
   "cell_type": "code",
   "execution_count": 16,
   "metadata": {
    "collapsed": false
   },
   "outputs": [
    {
     "name": "stderr",
     "output_type": "stream",
     "text": [
      "/Users/rajeshjaiswal/anaconda/lib/python2.7/site-packages/ipykernel/__main__.py:1: FutureWarning: sort is deprecated, use sort_values(inplace=True) for INPLACE sorting\n",
      "  if __name__ == '__main__':\n"
     ]
    }
   ],
   "source": [
    "My_ratings.sort(ascending=False)"
   ]
  },
  {
   "cell_type": "code",
   "execution_count": 17,
   "metadata": {
    "collapsed": false
   },
   "outputs": [],
   "source": [
    "My_Fav_Movie_Name = My_ratings"
   ]
  },
  {
   "cell_type": "code",
   "execution_count": 18,
   "metadata": {
    "collapsed": false
   },
   "outputs": [
    {
     "data": {
      "text/plain": [
       "300: Rise of an Empire                   5.0\n",
       "Unbroken                                 5.0\n",
       "How to Train your Dragon 2               5.0\n",
       "Interstellar                             5.0\n",
       "Big Hero 6                               5.0\n",
       "Transformers                             5.0\n",
       "Godzilla                                 4.0\n",
       "Malificent                               4.0\n",
       "The Hobbit                               4.0\n",
       "The Lego Movie                           4.0\n",
       "American Sniper                          4.0\n",
       "The Fault in Our Stars                   3.0\n",
       "Divergent                                3.0\n",
       "Gone Girl                                3.0\n",
       "Guardians of the Galaxy                  3.0\n",
       "The Hunger Games: Mockingjay - Part 1    3.0\n",
       "Name: Rajesh Jaiswal, dtype: float64"
      ]
     },
     "execution_count": 18,
     "metadata": {},
     "output_type": "execute_result"
    }
   ],
   "source": [
    "My_Fav_Movie_Name"
   ]
  },
  {
   "cell_type": "markdown",
   "metadata": {},
   "source": [
    "### ----------------- Will calculate average rating of each movie-------------------------------------"
   ]
  },
  {
   "cell_type": "code",
   "execution_count": 19,
   "metadata": {
    "collapsed": false
   },
   "outputs": [
    {
     "data": {
      "text/plain": [
       "American Sniper                          7.787302\n",
       "The Hunger Games: Mockingjay - Part 1    6.412676\n",
       "Guardians of the Galaxy                  7.739241\n",
       "The Lego Movie                           6.513559\n",
       "The Hobbit                               7.865854\n",
       "Transformers                             7.013095\n",
       "Malificent                               6.354237\n",
       "Big Hero 6                               7.197872\n",
       "Godzilla                                 6.572603\n",
       "Interstellar                             8.378571\n",
       "How to Train your Dragon 2               6.994366\n",
       "Gone Girl                                7.134483\n",
       "Divergent                                6.036066\n",
       "The Fault in Our Stars                   6.341463\n",
       "Unbroken                                 5.800000\n",
       "300: Rise of an Empire                   7.151351\n",
       "dtype: float64"
      ]
     },
     "execution_count": 19,
     "metadata": {},
     "output_type": "execute_result"
    }
   ],
   "source": [
    "# Calculate average rating using mean function\n",
    "MData.mean()"
   ]
  },
  {
   "cell_type": "code",
   "execution_count": 20,
   "metadata": {
    "collapsed": false
   },
   "outputs": [
    {
     "name": "stderr",
     "output_type": "stream",
     "text": [
      "/Users/rajeshjaiswal/anaconda/lib/python2.7/site-packages/ipykernel/__main__.py:2: FutureWarning: order is deprecated, use sort_values(...)\n",
      "  from ipykernel import kernelapp as app\n"
     ]
    },
    {
     "data": {
      "text/plain": [
       "Unbroken                                 5.800000\n",
       "Divergent                                6.036066\n",
       "The Fault in Our Stars                   6.341463\n",
       "Malificent                               6.354237\n",
       "The Hunger Games: Mockingjay - Part 1    6.412676\n",
       "The Lego Movie                           6.513559\n",
       "Godzilla                                 6.572603\n",
       "How to Train your Dragon 2               6.994366\n",
       "Transformers                             7.013095\n",
       "Gone Girl                                7.134483\n",
       "300: Rise of an Empire                   7.151351\n",
       "Big Hero 6                               7.197872\n",
       "Guardians of the Galaxy                  7.739241\n",
       "American Sniper                          7.787302\n",
       "The Hobbit                               7.865854\n",
       "Interstellar                             8.378571\n",
       "dtype: float64"
      ]
     },
     "execution_count": 20,
     "metadata": {},
     "output_type": "execute_result"
    }
   ],
   "source": [
    "# Will order them ascending order\n",
    "MData.mean().order()"
   ]
  },
  {
   "cell_type": "code",
   "execution_count": 21,
   "metadata": {
    "collapsed": false
   },
   "outputs": [
    {
     "name": "stderr",
     "output_type": "stream",
     "text": [
      "/Users/rajeshjaiswal/anaconda/lib/python2.7/site-packages/ipykernel/__main__.py:3: FutureWarning: order is deprecated, use sort_values(...)\n",
      "  app.launch_new_instance()\n"
     ]
    },
    {
     "data": {
      "text/plain": [
       "<matplotlib.axes._subplots.AxesSubplot at 0x1123aab10>"
      ]
     },
     "execution_count": 21,
     "metadata": {},
     "output_type": "execute_result"
    },
    {
     "data": {
      "image/png": "[encoded data removed]",
      "text/plain": [
       "<matplotlib.figure.Figure at 0x1122ced10>"
      ]
     },
     "metadata": {},
     "output_type": "display_data"
    }
   ],
   "source": [
    "#Will plot average graph of mean values\n",
    "%matplotlib inline\n",
    "MData.mean().order().plot(kind='bar')"
   ]
  },
  {
   "cell_type": "markdown",
   "metadata": {
    "collapsed": false
   },
   "source": [
    "## Conclusion(Result ) of Question2:\n",
    "<li> As per the result of output[18],I like below movies very much those having rating '5 out of 5'\n",
    "<pre>\n",
    "                <strong>300: Rise of an Empire                   5.0</strong>\n",
    "                <strong>Unbroken                                 5.0</strong>\n",
    "                <strong>How to Train your Dragon 2               5.0</strong>\n",
    "                <strong>Interstellar                             5.0</strong>\n",
    "                <strong>Big Hero 6                               5.0</strong>\n",
    "                <strong>Transformers                             5.0</strong>\n",
    "</pre>                \n",
    "<li> And as per output of [20] the averager rating of movies of class below movies have highest ratings\n",
    "<pre>\n",
    "                <strong>Guardians of the Galaxy                  7.739241</strong>\n",
    "                <strong>American Sniper                          7.787302</strong>\n",
    "                <strong>The Hobbit                               7.865854</strong>\n",
    "                <strong>Interstellar                             8.378571</strong>\n",
    "</pre>                              \n",
    "<li> <strong>My Conclusion<strong> I would like to see those movie which belongs to both categories mentioned above\n",
    "movies such as:\n",
    "<pre>\n",
    "                    <strong>Interstellar</strong>\n",
    "                    <strong>The Hobbit</strong>\n",
    "</pre>                    "
   ]
  },
  {
   "cell_type": "markdown",
   "metadata": {},
   "source": [
    "## Question 3:Bonus Question...  \n",
    "### For all the movies you haven't seen, can you predict how you'd rate them using your\n",
    "### the class reviews? (10 pts) :\n",
    "To work on this problem i will follow below steps:\n",
    "<li> Will consider average rating of each movie.\n",
    "<li> Also consider the most similar movies those i liked.\n",
    "<li> Will rate movies\n"
   ]
  },
  {
   "cell_type": "code",
   "execution_count": 22,
   "metadata": {
    "collapsed": false
   },
   "outputs": [
    {
     "name": "stderr",
     "output_type": "stream",
     "text": [
      "/Users/rajeshjaiswal/anaconda/lib/python2.7/site-packages/ipykernel/__main__.py:2: FutureWarning: order is deprecated, use sort_values(...)\n",
      "  from ipykernel import kernelapp as app\n"
     ]
    },
    {
     "data": {
      "text/plain": [
       "Unbroken                                 5.800000\n",
       "Divergent                                6.036066\n",
       "The Fault in Our Stars                   6.341463\n",
       "Malificent                               6.354237\n",
       "The Hunger Games: Mockingjay - Part 1    6.412676\n",
       "The Lego Movie                           6.513559\n",
       "Godzilla                                 6.572603\n",
       "How to Train your Dragon 2               6.994366\n",
       "Transformers                             7.013095\n",
       "Gone Girl                                7.134483\n",
       "300: Rise of an Empire                   7.151351\n",
       "Big Hero 6                               7.197872\n",
       "Guardians of the Galaxy                  7.739241\n",
       "American Sniper                          7.787302\n",
       "The Hobbit                               7.865854\n",
       "Interstellar                             8.378571\n",
       "dtype: float64"
      ]
     },
     "execution_count": 22,
     "metadata": {},
     "output_type": "execute_result"
    }
   ],
   "source": [
    "#Display average ratings of each movie:\n",
    "MData.mean().order()"
   ]
  },
  {
   "cell_type": "code",
   "execution_count": 23,
   "metadata": {
    "collapsed": true
   },
   "outputs": [],
   "source": [
    "#Similar to movies those i liked.\n",
    "MostSimilarMovie = get_recs('300: Rise of an Empire', MData, 10)"
   ]
  },
  {
   "cell_type": "code",
   "execution_count": 24,
   "metadata": {
    "collapsed": false
   },
   "outputs": [
    {
     "data": {
      "text/plain": [
       "[('Godzilla', 0.99474310999059301),\n",
       " ('How to Train your Dragon 2', 0.99353342418272128),\n",
       " ('Transformers', 0.99333405627962257),\n",
       " ('The Hobbit', 0.9930312632560172),\n",
       " ('Guardians of the Galaxy', 0.99272107142378396),\n",
       " ('Interstellar', 0.99249568285216316),\n",
       " ('The Hunger Games: Mockingjay - Part 1', 0.99211854358072726),\n",
       " ('American Sniper', 0.99181961419860631),\n",
       " ('Malificent', 0.99123514764264908),\n",
       " ('Divergent', 0.9907550621125395)]"
      ]
     },
     "execution_count": 24,
     "metadata": {},
     "output_type": "execute_result"
    }
   ],
   "source": [
    "MostSimilarMovie[:10]"
   ]
  },
  {
   "cell_type": "markdown",
   "metadata": {},
   "source": [
    "## Conclusion(Result) Question 3:\n",
    "<li> I will rate movies those I haven't seen using combination of average rating and similarity pattern with movie I have seen.\n",
    "<li> Such as i will rate high ratings to below mentioned movies:\n",
    "<pre>\n",
    "   <strong>Guardians of the Galaxy</strong>\n",
    "   <strong>American Sniper</strong>\n",
    "</pre>   "
   ]
  },
  {
   "cell_type": "markdown",
   "metadata": {},
   "source": [
    "## ------------------------------------End of Assignment--------------------------------------------"
   ]
  }
 ],
 "metadata": {
  "anaconda-cloud": {},
  "kernelspec": {
   "display_name": "Python [Root]",
   "language": "python",
   "name": "Python [Root]"
  },
  "language_info": {
   "codemirror_mode": {
    "name": "ipython",
    "version": 2
   },
   "file_extension": ".py",
   "mimetype": "text/x-python",
   "name": "python",
   "nbconvert_exporter": "python",
   "pygments_lexer": "ipython2",
   "version": "2.7.12"
  }
 },
 "nbformat": 4,
 "nbformat_minor": 0
}
