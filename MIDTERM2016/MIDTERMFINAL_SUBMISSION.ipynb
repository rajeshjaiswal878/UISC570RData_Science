{
 "cells": [
  {
   "cell_type": "markdown",
   "metadata": {},
   "source": [
    "## -----------Start of Mid-Term Assignment/24th Oct 2016------------------------------\n",
    "<li><strong>Title:</strong>CS570 Midterm Challenge\n",
    "<li>DATA SCIENCE Midterm\n",
    "<li><strong>Name:</strong>RAJESH ASHOK JAISWAL UIN:669012329\n",
    "<li><strong>DATED:</strong>10/24/2016"
   ]
  },
  {
   "cell_type": "markdown",
   "metadata": {},
   "source": [
    "#### ---------------------------------------Data loading and Creation of Local DataFrame---------------------------------------\n",
    "<li> Will create Local Dataframe 'Tdata' for train dataset \n",
    "<li> Then load data from 'midterm_train.csv to 'Tdata'"
   ]
  },
  {
   "cell_type": "code",
   "execution_count": 1,
   "metadata": {
    "collapsed": false
   },
   "outputs": [
    {
     "name": "stdout",
     "output_type": "stream",
     "text": [
      "Populating the interactive namespace from numpy and matplotlib\n"
     ]
    }
   ],
   "source": [
    "#Here will import required pandas api or function\n",
    "import pandas as pd\n",
    "%pylab inline"
   ]
  },
  {
   "cell_type": "code",
   "execution_count": 2,
   "metadata": {
    "collapsed": true
   },
   "outputs": [],
   "source": [
    "#Creattion of 'Tdata' dataframe \n",
    "Tdata = pd.read_csv(\"midterm_train.csv\")"
   ]
  },
  {
   "cell_type": "code",
   "execution_count": 3,
   "metadata": {
    "collapsed": false
   },
   "outputs": [
    {
     "data": {
      "text/html": [
       "<div>\n",
       "<table border=\"1\" class=\"dataframe\">\n",
       "  <thead>\n",
       "    <tr style=\"text-align: right;\">\n",
       "      <th></th>\n",
       "      <th>x0</th>\n",
       "      <th>x1</th>\n",
       "      <th>x2</th>\n",
       "      <th>x3</th>\n",
       "      <th>x4</th>\n",
       "      <th>x5</th>\n",
       "      <th>x6</th>\n",
       "      <th>x7</th>\n",
       "      <th>x8</th>\n",
       "      <th>x9</th>\n",
       "      <th>...</th>\n",
       "      <th>x41</th>\n",
       "      <th>x42</th>\n",
       "      <th>x43</th>\n",
       "      <th>x44</th>\n",
       "      <th>x45</th>\n",
       "      <th>x46</th>\n",
       "      <th>x47</th>\n",
       "      <th>x48</th>\n",
       "      <th>x49</th>\n",
       "      <th>y</th>\n",
       "    </tr>\n",
       "  </thead>\n",
       "  <tbody>\n",
       "    <tr>\n",
       "      <th>0</th>\n",
       "      <td>-0.166563</td>\n",
       "      <td>-3.961588</td>\n",
       "      <td>4.621113</td>\n",
       "      <td>2.481908</td>\n",
       "      <td>-1.800135</td>\n",
       "      <td>0.804684</td>\n",
       "      <td>6.718751</td>\n",
       "      <td>-14.789997</td>\n",
       "      <td>-1.040673</td>\n",
       "      <td>-4.204950</td>\n",
       "      <td>...</td>\n",
       "      <td>-1.497117</td>\n",
       "      <td>5.414063</td>\n",
       "      <td>-2.325655</td>\n",
       "      <td>1.674827</td>\n",
       "      <td>-0.264332</td>\n",
       "      <td>60.781427</td>\n",
       "      <td>-7.689696</td>\n",
       "      <td>0.151589</td>\n",
       "      <td>-8.040166</td>\n",
       "      <td>0</td>\n",
       "    </tr>\n",
       "    <tr>\n",
       "      <th>1</th>\n",
       "      <td>-0.149894</td>\n",
       "      <td>-0.585676</td>\n",
       "      <td>27.839856</td>\n",
       "      <td>4.152333</td>\n",
       "      <td>6.426802</td>\n",
       "      <td>-2.426943</td>\n",
       "      <td>40.477058</td>\n",
       "      <td>-6.725709</td>\n",
       "      <td>0.896421</td>\n",
       "      <td>0.330165</td>\n",
       "      <td>...</td>\n",
       "      <td>36.292790</td>\n",
       "      <td>4.490915</td>\n",
       "      <td>0.762561</td>\n",
       "      <td>6.526662</td>\n",
       "      <td>1.007927</td>\n",
       "      <td>15.805696</td>\n",
       "      <td>-4.896678</td>\n",
       "      <td>-0.320283</td>\n",
       "      <td>16.719974</td>\n",
       "      <td>0</td>\n",
       "    </tr>\n",
       "    <tr>\n",
       "      <th>2</th>\n",
       "      <td>-0.321707</td>\n",
       "      <td>-1.429819</td>\n",
       "      <td>12.251561</td>\n",
       "      <td>6.586874</td>\n",
       "      <td>-5.304647</td>\n",
       "      <td>-11.311090</td>\n",
       "      <td>17.812850</td>\n",
       "      <td>11.060572</td>\n",
       "      <td>5.325880</td>\n",
       "      <td>-2.632984</td>\n",
       "      <td>...</td>\n",
       "      <td>-0.368491</td>\n",
       "      <td>9.088864</td>\n",
       "      <td>-0.689886</td>\n",
       "      <td>-2.731118</td>\n",
       "      <td>0.754200</td>\n",
       "      <td>30.856417</td>\n",
       "      <td>-7.428573</td>\n",
       "      <td>-2.090804</td>\n",
       "      <td>-7.869421</td>\n",
       "      <td>0</td>\n",
       "    </tr>\n",
       "    <tr>\n",
       "      <th>3</th>\n",
       "      <td>-0.245594</td>\n",
       "      <td>5.076677</td>\n",
       "      <td>-24.149632</td>\n",
       "      <td>3.637307</td>\n",
       "      <td>6.505811</td>\n",
       "      <td>2.290224</td>\n",
       "      <td>-35.111751</td>\n",
       "      <td>-18.913592</td>\n",
       "      <td>-0.337041</td>\n",
       "      <td>-5.568076</td>\n",
       "      <td>...</td>\n",
       "      <td>15.691546</td>\n",
       "      <td>-7.467775</td>\n",
       "      <td>2.940789</td>\n",
       "      <td>-6.424112</td>\n",
       "      <td>0.419776</td>\n",
       "      <td>-72.424569</td>\n",
       "      <td>5.361375</td>\n",
       "      <td>1.806070</td>\n",
       "      <td>-7.670847</td>\n",
       "      <td>0</td>\n",
       "    </tr>\n",
       "    <tr>\n",
       "      <th>4</th>\n",
       "      <td>-0.273366</td>\n",
       "      <td>0.306326</td>\n",
       "      <td>-11.352593</td>\n",
       "      <td>1.676758</td>\n",
       "      <td>2.928441</td>\n",
       "      <td>-0.616824</td>\n",
       "      <td>-16.505817</td>\n",
       "      <td>27.532281</td>\n",
       "      <td>1.199715</td>\n",
       "      <td>-4.309105</td>\n",
       "      <td>...</td>\n",
       "      <td>-13.911297</td>\n",
       "      <td>-5.229937</td>\n",
       "      <td>1.783928</td>\n",
       "      <td>3.957801</td>\n",
       "      <td>-0.096988</td>\n",
       "      <td>-14.085435</td>\n",
       "      <td>-0.208351</td>\n",
       "      <td>-0.894942</td>\n",
       "      <td>15.724742</td>\n",
       "      <td>1</td>\n",
       "    </tr>\n",
       "  </tbody>\n",
       "</table>\n",
       "<p>5 rows × 51 columns</p>\n",
       "</div>"
      ],
      "text/plain": [
       "         x0        x1         x2        x3        x4         x5         x6  \\\n",
       "0 -0.166563 -3.961588   4.621113  2.481908 -1.800135   0.804684   6.718751   \n",
       "1 -0.149894 -0.585676  27.839856  4.152333  6.426802  -2.426943  40.477058   \n",
       "2 -0.321707 -1.429819  12.251561  6.586874 -5.304647 -11.311090  17.812850   \n",
       "3 -0.245594  5.076677 -24.149632  3.637307  6.505811   2.290224 -35.111751   \n",
       "4 -0.273366  0.306326 -11.352593  1.676758  2.928441  -0.616824 -16.505817   \n",
       "\n",
       "          x7        x8        x9 ...        x41       x42       x43       x44  \\\n",
       "0 -14.789997 -1.040673 -4.204950 ...  -1.497117  5.414063 -2.325655  1.674827   \n",
       "1  -6.725709  0.896421  0.330165 ...  36.292790  4.490915  0.762561  6.526662   \n",
       "2  11.060572  5.325880 -2.632984 ...  -0.368491  9.088864 -0.689886 -2.731118   \n",
       "3 -18.913592 -0.337041 -5.568076 ...  15.691546 -7.467775  2.940789 -6.424112   \n",
       "4  27.532281  1.199715 -4.309105 ... -13.911297 -5.229937  1.783928  3.957801   \n",
       "\n",
       "        x45        x46       x47       x48        x49  y  \n",
       "0 -0.264332  60.781427 -7.689696  0.151589  -8.040166  0  \n",
       "1  1.007927  15.805696 -4.896678 -0.320283  16.719974  0  \n",
       "2  0.754200  30.856417 -7.428573 -2.090804  -7.869421  0  \n",
       "3  0.419776 -72.424569  5.361375  1.806070  -7.670847  0  \n",
       "4 -0.096988 -14.085435 -0.208351 -0.894942  15.724742  1  \n",
       "\n",
       "[5 rows x 51 columns]"
      ]
     },
     "execution_count": 3,
     "metadata": {},
     "output_type": "execute_result"
    }
   ],
   "source": [
    "#Display column name,column number\n",
    "Tdata.head()"
   ]
  },
  {
   "cell_type": "markdown",
   "metadata": {},
   "source": [
    "### ------------------------------EDA on Train Dataset---------------------------------------\n",
    "<li> will check type of columns(categorial or continous)\n",
    "<li> Here will do EDA on all dataset except every column\n",
    "<li> Will check missing values and handle them"
   ]
  },
  {
   "cell_type": "code",
   "execution_count": 4,
   "metadata": {
    "collapsed": false
   },
   "outputs": [
    {
     "data": {
      "text/html": [
       "<div>\n",
       "<table border=\"1\" class=\"dataframe\">\n",
       "  <thead>\n",
       "    <tr style=\"text-align: right;\">\n",
       "      <th></th>\n",
       "      <th>x0</th>\n",
       "      <th>x1</th>\n",
       "      <th>x2</th>\n",
       "      <th>x3</th>\n",
       "      <th>x4</th>\n",
       "      <th>x5</th>\n",
       "      <th>x6</th>\n",
       "      <th>x7</th>\n",
       "      <th>x8</th>\n",
       "      <th>x9</th>\n",
       "      <th>...</th>\n",
       "      <th>x41</th>\n",
       "      <th>x42</th>\n",
       "      <th>x43</th>\n",
       "      <th>x44</th>\n",
       "      <th>x45</th>\n",
       "      <th>x46</th>\n",
       "      <th>x47</th>\n",
       "      <th>x48</th>\n",
       "      <th>x49</th>\n",
       "      <th>y</th>\n",
       "    </tr>\n",
       "  </thead>\n",
       "  <tbody>\n",
       "    <tr>\n",
       "      <th>0</th>\n",
       "      <td>-0.166563</td>\n",
       "      <td>-3.961588</td>\n",
       "      <td>4.621113</td>\n",
       "      <td>2.481908</td>\n",
       "      <td>-1.800135</td>\n",
       "      <td>0.804684</td>\n",
       "      <td>6.718751</td>\n",
       "      <td>-14.789997</td>\n",
       "      <td>-1.040673</td>\n",
       "      <td>-4.204950</td>\n",
       "      <td>...</td>\n",
       "      <td>-1.497117</td>\n",
       "      <td>5.414063</td>\n",
       "      <td>-2.325655</td>\n",
       "      <td>1.674827</td>\n",
       "      <td>-0.264332</td>\n",
       "      <td>60.781427</td>\n",
       "      <td>-7.689696</td>\n",
       "      <td>0.151589</td>\n",
       "      <td>-8.040166</td>\n",
       "      <td>0</td>\n",
       "    </tr>\n",
       "    <tr>\n",
       "      <th>1</th>\n",
       "      <td>-0.149894</td>\n",
       "      <td>-0.585676</td>\n",
       "      <td>27.839856</td>\n",
       "      <td>4.152333</td>\n",
       "      <td>6.426802</td>\n",
       "      <td>-2.426943</td>\n",
       "      <td>40.477058</td>\n",
       "      <td>-6.725709</td>\n",
       "      <td>0.896421</td>\n",
       "      <td>0.330165</td>\n",
       "      <td>...</td>\n",
       "      <td>36.292790</td>\n",
       "      <td>4.490915</td>\n",
       "      <td>0.762561</td>\n",
       "      <td>6.526662</td>\n",
       "      <td>1.007927</td>\n",
       "      <td>15.805696</td>\n",
       "      <td>-4.896678</td>\n",
       "      <td>-0.320283</td>\n",
       "      <td>16.719974</td>\n",
       "      <td>0</td>\n",
       "    </tr>\n",
       "    <tr>\n",
       "      <th>2</th>\n",
       "      <td>-0.321707</td>\n",
       "      <td>-1.429819</td>\n",
       "      <td>12.251561</td>\n",
       "      <td>6.586874</td>\n",
       "      <td>-5.304647</td>\n",
       "      <td>-11.311090</td>\n",
       "      <td>17.812850</td>\n",
       "      <td>11.060572</td>\n",
       "      <td>5.325880</td>\n",
       "      <td>-2.632984</td>\n",
       "      <td>...</td>\n",
       "      <td>-0.368491</td>\n",
       "      <td>9.088864</td>\n",
       "      <td>-0.689886</td>\n",
       "      <td>-2.731118</td>\n",
       "      <td>0.754200</td>\n",
       "      <td>30.856417</td>\n",
       "      <td>-7.428573</td>\n",
       "      <td>-2.090804</td>\n",
       "      <td>-7.869421</td>\n",
       "      <td>0</td>\n",
       "    </tr>\n",
       "    <tr>\n",
       "      <th>3</th>\n",
       "      <td>-0.245594</td>\n",
       "      <td>5.076677</td>\n",
       "      <td>-24.149632</td>\n",
       "      <td>3.637307</td>\n",
       "      <td>6.505811</td>\n",
       "      <td>2.290224</td>\n",
       "      <td>-35.111751</td>\n",
       "      <td>-18.913592</td>\n",
       "      <td>-0.337041</td>\n",
       "      <td>-5.568076</td>\n",
       "      <td>...</td>\n",
       "      <td>15.691546</td>\n",
       "      <td>-7.467775</td>\n",
       "      <td>2.940789</td>\n",
       "      <td>-6.424112</td>\n",
       "      <td>0.419776</td>\n",
       "      <td>-72.424569</td>\n",
       "      <td>5.361375</td>\n",
       "      <td>1.806070</td>\n",
       "      <td>-7.670847</td>\n",
       "      <td>0</td>\n",
       "    </tr>\n",
       "    <tr>\n",
       "      <th>4</th>\n",
       "      <td>-0.273366</td>\n",
       "      <td>0.306326</td>\n",
       "      <td>-11.352593</td>\n",
       "      <td>1.676758</td>\n",
       "      <td>2.928441</td>\n",
       "      <td>-0.616824</td>\n",
       "      <td>-16.505817</td>\n",
       "      <td>27.532281</td>\n",
       "      <td>1.199715</td>\n",
       "      <td>-4.309105</td>\n",
       "      <td>...</td>\n",
       "      <td>-13.911297</td>\n",
       "      <td>-5.229937</td>\n",
       "      <td>1.783928</td>\n",
       "      <td>3.957801</td>\n",
       "      <td>-0.096988</td>\n",
       "      <td>-14.085435</td>\n",
       "      <td>-0.208351</td>\n",
       "      <td>-0.894942</td>\n",
       "      <td>15.724742</td>\n",
       "      <td>1</td>\n",
       "    </tr>\n",
       "  </tbody>\n",
       "</table>\n",
       "<p>5 rows × 46 columns</p>\n",
       "</div>"
      ],
      "text/plain": [
       "         x0        x1         x2        x3        x4         x5         x6  \\\n",
       "0 -0.166563 -3.961588   4.621113  2.481908 -1.800135   0.804684   6.718751   \n",
       "1 -0.149894 -0.585676  27.839856  4.152333  6.426802  -2.426943  40.477058   \n",
       "2 -0.321707 -1.429819  12.251561  6.586874 -5.304647 -11.311090  17.812850   \n",
       "3 -0.245594  5.076677 -24.149632  3.637307  6.505811   2.290224 -35.111751   \n",
       "4 -0.273366  0.306326 -11.352593  1.676758  2.928441  -0.616824 -16.505817   \n",
       "\n",
       "          x7        x8        x9 ...        x41       x42       x43       x44  \\\n",
       "0 -14.789997 -1.040673 -4.204950 ...  -1.497117  5.414063 -2.325655  1.674827   \n",
       "1  -6.725709  0.896421  0.330165 ...  36.292790  4.490915  0.762561  6.526662   \n",
       "2  11.060572  5.325880 -2.632984 ...  -0.368491  9.088864 -0.689886 -2.731118   \n",
       "3 -18.913592 -0.337041 -5.568076 ...  15.691546 -7.467775  2.940789 -6.424112   \n",
       "4  27.532281  1.199715 -4.309105 ... -13.911297 -5.229937  1.783928  3.957801   \n",
       "\n",
       "        x45        x46       x47       x48        x49  y  \n",
       "0 -0.264332  60.781427 -7.689696  0.151589  -8.040166  0  \n",
       "1  1.007927  15.805696 -4.896678 -0.320283  16.719974  0  \n",
       "2  0.754200  30.856417 -7.428573 -2.090804  -7.869421  0  \n",
       "3  0.419776 -72.424569  5.361375  1.806070  -7.670847  0  \n",
       "4 -0.096988 -14.085435 -0.208351 -0.894942  15.724742  1  \n",
       "\n",
       "[5 rows x 46 columns]"
      ]
     },
     "execution_count": 4,
     "metadata": {},
     "output_type": "execute_result"
    }
   ],
   "source": [
    "#Will check column datatypes\n",
    "#first will check numerical columns\n",
    "numeric_variables = list(Tdata.dtypes[Tdata.dtypes != \"object\"].index)\n",
    "Tdata[numeric_variables].head()"
   ]
  },
  {
   "cell_type": "code",
   "execution_count": 5,
   "metadata": {
    "collapsed": false
   },
   "outputs": [
    {
     "data": {
      "text/plain": [
       "['x0',\n",
       " 'x1',\n",
       " 'x2',\n",
       " 'x3',\n",
       " 'x4',\n",
       " 'x5',\n",
       " 'x6',\n",
       " 'x7',\n",
       " 'x8',\n",
       " 'x9',\n",
       " 'x10',\n",
       " 'x11',\n",
       " 'x12',\n",
       " 'x13',\n",
       " 'x14',\n",
       " 'x15',\n",
       " 'x16',\n",
       " 'x17',\n",
       " 'x18',\n",
       " 'x19',\n",
       " 'x20',\n",
       " 'x21',\n",
       " 'x22',\n",
       " 'x23',\n",
       " 'x24',\n",
       " 'x25',\n",
       " 'x26',\n",
       " 'x27',\n",
       " 'x28',\n",
       " 'x29',\n",
       " 'x30',\n",
       " 'x31',\n",
       " 'x32',\n",
       " 'x33',\n",
       " 'x34',\n",
       " 'x35',\n",
       " 'x36',\n",
       " 'x37',\n",
       " 'x38',\n",
       " 'x39',\n",
       " 'x40',\n",
       " 'x41',\n",
       " 'x42',\n",
       " 'x43',\n",
       " 'x44',\n",
       " 'x45',\n",
       " 'x46',\n",
       " 'x47',\n",
       " 'x48',\n",
       " 'x49']"
      ]
     },
     "execution_count": 5,
     "metadata": {},
     "output_type": "execute_result"
    }
   ],
   "source": [
    "#will check is there any missing values\n",
    "[col for col in Tdata.columns \n",
    "     if Tdata[col].isnull().any()]"
   ]
  },
  {
   "cell_type": "code",
   "execution_count": 6,
   "metadata": {
    "collapsed": true
   },
   "outputs": [],
   "source": [
    "#Here I am going to track categorial column of 'Tdata'\n",
    "# Here is a simple function to show descriptive stats on the categorical variables\n",
    "def describe_categorical(Tdata):\n",
    "    from IPython.display import display, HTML\n",
    "    display(HTML(Tdata[Tdata.columns[Tdata.dtypes == \"object\"]].describe().to_html()))"
   ]
  },
  {
   "cell_type": "code",
   "execution_count": 7,
   "metadata": {
    "collapsed": false
   },
   "outputs": [
    {
     "data": {
      "text/html": [
       "<table border=\"1\" class=\"dataframe\">\n",
       "  <thead>\n",
       "    <tr style=\"text-align: right;\">\n",
       "      <th></th>\n",
       "      <th>x24</th>\n",
       "      <th>x29</th>\n",
       "      <th>x30</th>\n",
       "      <th>x32</th>\n",
       "      <th>x37</th>\n",
       "    </tr>\n",
       "  </thead>\n",
       "  <tbody>\n",
       "    <tr>\n",
       "      <th>count</th>\n",
       "      <td>159972</td>\n",
       "      <td>159970</td>\n",
       "      <td>159970</td>\n",
       "      <td>159969</td>\n",
       "      <td>159977</td>\n",
       "    </tr>\n",
       "    <tr>\n",
       "      <th>unique</th>\n",
       "      <td>3</td>\n",
       "      <td>12</td>\n",
       "      <td>5</td>\n",
       "      <td>12</td>\n",
       "      <td>129198</td>\n",
       "    </tr>\n",
       "    <tr>\n",
       "      <th>top</th>\n",
       "      <td>asia</td>\n",
       "      <td>July</td>\n",
       "      <td>wednesday</td>\n",
       "      <td>0.01%</td>\n",
       "      <td>$237.4</td>\n",
       "    </tr>\n",
       "    <tr>\n",
       "      <th>freq</th>\n",
       "      <td>138965</td>\n",
       "      <td>45569</td>\n",
       "      <td>101535</td>\n",
       "      <td>40767</td>\n",
       "      <td>6</td>\n",
       "    </tr>\n",
       "  </tbody>\n",
       "</table>"
      ],
      "text/plain": [
       "<IPython.core.display.HTML object>"
      ]
     },
     "metadata": {},
     "output_type": "display_data"
    }
   ],
   "source": [
    "describe_categorical(Tdata)"
   ]
  },
  {
   "cell_type": "markdown",
   "metadata": {},
   "source": [
    "#### Here to generate a model I am going to use continous columns only \n",
    "#### Not going to use categorial column for model building\n",
    "#### Will store above five categorial columns into new data frame and then will drop them from 'Tdata' training dataset for remaining work\n",
    "#### Will use them in later part of this assignment"
   ]
  },
  {
   "cell_type": "code",
   "execution_count": 8,
   "metadata": {
    "collapsed": false
   },
   "outputs": [],
   "source": [
    "# Will use new dataframe 'Cdata' for categorial variables\n",
    "Cdata=pd.DataFrame()\n",
    "Cdata['x24']=Tdata['x24']\n",
    "Cdata['x29']=Tdata['x29']\n",
    "Cdata['x30']=Tdata['x30']\n",
    "Cdata['x32']=Tdata['x32']\n",
    "Cdata['x37']=Tdata['x37']"
   ]
  },
  {
   "cell_type": "code",
   "execution_count": 9,
   "metadata": {
    "collapsed": false
   },
   "outputs": [
    {
     "data": {
      "text/html": [
       "<div>\n",
       "<table border=\"1\" class=\"dataframe\">\n",
       "  <thead>\n",
       "    <tr style=\"text-align: right;\">\n",
       "      <th></th>\n",
       "      <th>x24</th>\n",
       "      <th>x29</th>\n",
       "      <th>x30</th>\n",
       "      <th>x32</th>\n",
       "      <th>x37</th>\n",
       "    </tr>\n",
       "  </thead>\n",
       "  <tbody>\n",
       "    <tr>\n",
       "      <th>0</th>\n",
       "      <td>euorpe</td>\n",
       "      <td>July</td>\n",
       "      <td>tuesday</td>\n",
       "      <td>0.0%</td>\n",
       "      <td>$1313.96</td>\n",
       "    </tr>\n",
       "    <tr>\n",
       "      <th>1</th>\n",
       "      <td>asia</td>\n",
       "      <td>Aug</td>\n",
       "      <td>wednesday</td>\n",
       "      <td>-0.02%</td>\n",
       "      <td>$1962.78</td>\n",
       "    </tr>\n",
       "    <tr>\n",
       "      <th>2</th>\n",
       "      <td>asia</td>\n",
       "      <td>July</td>\n",
       "      <td>wednesday</td>\n",
       "      <td>-0.01%</td>\n",
       "      <td>$430.47</td>\n",
       "    </tr>\n",
       "    <tr>\n",
       "      <th>3</th>\n",
       "      <td>asia</td>\n",
       "      <td>July</td>\n",
       "      <td>wednesday</td>\n",
       "      <td>0.01%</td>\n",
       "      <td>$-2366.29</td>\n",
       "    </tr>\n",
       "    <tr>\n",
       "      <th>4</th>\n",
       "      <td>asia</td>\n",
       "      <td>July</td>\n",
       "      <td>tuesday</td>\n",
       "      <td>0.01%</td>\n",
       "      <td>$-620.66</td>\n",
       "    </tr>\n",
       "  </tbody>\n",
       "</table>\n",
       "</div>"
      ],
      "text/plain": [
       "      x24   x29        x30     x32        x37\n",
       "0  euorpe  July    tuesday    0.0%   $1313.96\n",
       "1    asia   Aug  wednesday  -0.02%   $1962.78\n",
       "2    asia  July  wednesday  -0.01%    $430.47\n",
       "3    asia  July  wednesday   0.01%  $-2366.29\n",
       "4    asia  July    tuesday   0.01%   $-620.66"
      ]
     },
     "execution_count": 9,
     "metadata": {},
     "output_type": "execute_result"
    }
   ],
   "source": [
    "#Diaplay new categorial variable dataframe 'Cdata'\n",
    "Cdata.head()"
   ]
  },
  {
   "cell_type": "code",
   "execution_count": 10,
   "metadata": {
    "collapsed": true
   },
   "outputs": [],
   "source": [
    "#Here I am going to drop this categorial columns from'Tdata' so that I can use them for model building\n",
    "del Tdata['x24']\n",
    "del Tdata['x29']\n",
    "del Tdata['x30']\n",
    "del Tdata['x32']\n",
    "del Tdata['x37']"
   ]
  },
  {
   "cell_type": "markdown",
   "metadata": {},
   "source": [
    "### -------------------will handle missing data of continous columns ---------------------------\n",
    "<li>Here I am going to replace each missing value of each column by its mean value"
   ]
  },
  {
   "cell_type": "code",
   "execution_count": 11,
   "metadata": {
    "collapsed": false
   },
   "outputs": [],
   "source": [
    "#will use for loop to fill missing value with its mean value for each column\n",
    "for col in Tdata.columns: \n",
    "     if Tdata[col].isnull().any():\n",
    "            Tdata[col].fillna(Tdata[col].mean(), inplace=True)"
   ]
  },
  {
   "cell_type": "code",
   "execution_count": 12,
   "metadata": {
    "collapsed": false
   },
   "outputs": [
    {
     "data": {
      "text/html": [
       "<div>\n",
       "<table border=\"1\" class=\"dataframe\">\n",
       "  <thead>\n",
       "    <tr style=\"text-align: right;\">\n",
       "      <th></th>\n",
       "      <th>x0</th>\n",
       "      <th>x1</th>\n",
       "      <th>x2</th>\n",
       "      <th>x3</th>\n",
       "      <th>x4</th>\n",
       "      <th>x5</th>\n",
       "      <th>x6</th>\n",
       "      <th>x7</th>\n",
       "      <th>x8</th>\n",
       "      <th>x9</th>\n",
       "      <th>...</th>\n",
       "      <th>x41</th>\n",
       "      <th>x42</th>\n",
       "      <th>x43</th>\n",
       "      <th>x44</th>\n",
       "      <th>x45</th>\n",
       "      <th>x46</th>\n",
       "      <th>x47</th>\n",
       "      <th>x48</th>\n",
       "      <th>x49</th>\n",
       "      <th>y</th>\n",
       "    </tr>\n",
       "  </thead>\n",
       "  <tbody>\n",
       "    <tr>\n",
       "      <th>count</th>\n",
       "      <td>160000.000000</td>\n",
       "      <td>160000.000000</td>\n",
       "      <td>160000.000000</td>\n",
       "      <td>160000.000000</td>\n",
       "      <td>160000.000000</td>\n",
       "      <td>160000.000000</td>\n",
       "      <td>160000.000000</td>\n",
       "      <td>160000.000000</td>\n",
       "      <td>160000.000000</td>\n",
       "      <td>160000.000000</td>\n",
       "      <td>...</td>\n",
       "      <td>160000.000000</td>\n",
       "      <td>160000.000000</td>\n",
       "      <td>160000.000000</td>\n",
       "      <td>160000.000000</td>\n",
       "      <td>160000.000000</td>\n",
       "      <td>160000.000000</td>\n",
       "      <td>160000.000000</td>\n",
       "      <td>160000.000000</td>\n",
       "      <td>160000.000000</td>\n",
       "      <td>160000.000000</td>\n",
       "    </tr>\n",
       "    <tr>\n",
       "      <th>mean</th>\n",
       "      <td>-0.001028</td>\n",
       "      <td>0.001358</td>\n",
       "      <td>-1.150145</td>\n",
       "      <td>-0.024637</td>\n",
       "      <td>-0.000549</td>\n",
       "      <td>0.013582</td>\n",
       "      <td>-1.670670</td>\n",
       "      <td>-7.692795</td>\n",
       "      <td>-0.030540</td>\n",
       "      <td>0.005462</td>\n",
       "      <td>...</td>\n",
       "      <td>6.701076</td>\n",
       "      <td>-1.833820</td>\n",
       "      <td>-0.002091</td>\n",
       "      <td>-0.006250</td>\n",
       "      <td>0.000885</td>\n",
       "      <td>-12.755395</td>\n",
       "      <td>0.028622</td>\n",
       "      <td>-0.000224</td>\n",
       "      <td>-0.674224</td>\n",
       "      <td>0.401231</td>\n",
       "    </tr>\n",
       "    <tr>\n",
       "      <th>std</th>\n",
       "      <td>0.371107</td>\n",
       "      <td>6.340137</td>\n",
       "      <td>13.271904</td>\n",
       "      <td>8.064099</td>\n",
       "      <td>6.381775</td>\n",
       "      <td>7.669189</td>\n",
       "      <td>19.297096</td>\n",
       "      <td>30.539687</td>\n",
       "      <td>8.900601</td>\n",
       "      <td>6.354444</td>\n",
       "      <td>...</td>\n",
       "      <td>18.677861</td>\n",
       "      <td>5.110290</td>\n",
       "      <td>1.534775</td>\n",
       "      <td>4.164075</td>\n",
       "      <td>0.396585</td>\n",
       "      <td>36.605095</td>\n",
       "      <td>4.787604</td>\n",
       "      <td>1.935308</td>\n",
       "      <td>15.035234</td>\n",
       "      <td>0.490149</td>\n",
       "    </tr>\n",
       "    <tr>\n",
       "      <th>min</th>\n",
       "      <td>-1.592635</td>\n",
       "      <td>-26.278302</td>\n",
       "      <td>-59.394048</td>\n",
       "      <td>-35.476594</td>\n",
       "      <td>-28.467536</td>\n",
       "      <td>-33.822988</td>\n",
       "      <td>-86.354483</td>\n",
       "      <td>-181.506976</td>\n",
       "      <td>-37.691045</td>\n",
       "      <td>-27.980659</td>\n",
       "      <td>...</td>\n",
       "      <td>-82.167224</td>\n",
       "      <td>-27.933750</td>\n",
       "      <td>-6.876234</td>\n",
       "      <td>-17.983487</td>\n",
       "      <td>-1.753221</td>\n",
       "      <td>-201.826828</td>\n",
       "      <td>-21.086333</td>\n",
       "      <td>-8.490155</td>\n",
       "      <td>-65.791191</td>\n",
       "      <td>0.000000</td>\n",
       "    </tr>\n",
       "    <tr>\n",
       "      <th>25%</th>\n",
       "      <td>-0.251574</td>\n",
       "      <td>-4.260377</td>\n",
       "      <td>-10.163721</td>\n",
       "      <td>-5.452183</td>\n",
       "      <td>-4.312029</td>\n",
       "      <td>-5.147177</td>\n",
       "      <td>-14.777287</td>\n",
       "      <td>-27.318385</td>\n",
       "      <td>-6.030219</td>\n",
       "      <td>-4.259907</td>\n",
       "      <td>...</td>\n",
       "      <td>-5.801423</td>\n",
       "      <td>-5.162268</td>\n",
       "      <td>-1.039482</td>\n",
       "      <td>-2.811242</td>\n",
       "      <td>-0.266411</td>\n",
       "      <td>-36.425835</td>\n",
       "      <td>-3.214765</td>\n",
       "      <td>-1.320470</td>\n",
       "      <td>-10.930261</td>\n",
       "      <td>0.000000</td>\n",
       "    </tr>\n",
       "    <tr>\n",
       "      <th>50%</th>\n",
       "      <td>-0.001980</td>\n",
       "      <td>0.004056</td>\n",
       "      <td>-1.336542</td>\n",
       "      <td>-0.028386</td>\n",
       "      <td>-0.000105</td>\n",
       "      <td>0.013582</td>\n",
       "      <td>-1.943830</td>\n",
       "      <td>-6.961396</td>\n",
       "      <td>-0.018784</td>\n",
       "      <td>0.005462</td>\n",
       "      <td>...</td>\n",
       "      <td>6.835074</td>\n",
       "      <td>-1.923107</td>\n",
       "      <td>-0.004096</td>\n",
       "      <td>-0.009104</td>\n",
       "      <td>0.001542</td>\n",
       "      <td>-12.973676</td>\n",
       "      <td>0.034732</td>\n",
       "      <td>-0.011225</td>\n",
       "      <td>-0.577987</td>\n",
       "      <td>0.000000</td>\n",
       "    </tr>\n",
       "    <tr>\n",
       "      <th>75%</th>\n",
       "      <td>0.248505</td>\n",
       "      <td>4.282958</td>\n",
       "      <td>7.868661</td>\n",
       "      <td>5.443760</td>\n",
       "      <td>4.305730</td>\n",
       "      <td>5.188709</td>\n",
       "      <td>11.444045</td>\n",
       "      <td>12.213263</td>\n",
       "      <td>5.971778</td>\n",
       "      <td>4.305071</td>\n",
       "      <td>...</td>\n",
       "      <td>19.263639</td>\n",
       "      <td>1.452664</td>\n",
       "      <td>1.032992</td>\n",
       "      <td>2.782384</td>\n",
       "      <td>0.268985</td>\n",
       "      <td>11.437354</td>\n",
       "      <td>3.266938</td>\n",
       "      <td>1.317397</td>\n",
       "      <td>9.649149</td>\n",
       "      <td>1.000000</td>\n",
       "    </tr>\n",
       "    <tr>\n",
       "      <th>max</th>\n",
       "      <td>1.600849</td>\n",
       "      <td>27.988178</td>\n",
       "      <td>63.545653</td>\n",
       "      <td>38.906025</td>\n",
       "      <td>26.247812</td>\n",
       "      <td>35.550110</td>\n",
       "      <td>92.390605</td>\n",
       "      <td>149.150634</td>\n",
       "      <td>39.049831</td>\n",
       "      <td>27.377842</td>\n",
       "      <td>...</td>\n",
       "      <td>100.050432</td>\n",
       "      <td>22.668041</td>\n",
       "      <td>6.680922</td>\n",
       "      <td>19.069759</td>\n",
       "      <td>1.669205</td>\n",
       "      <td>150.859415</td>\n",
       "      <td>20.836854</td>\n",
       "      <td>8.226552</td>\n",
       "      <td>66.877604</td>\n",
       "      <td>1.000000</td>\n",
       "    </tr>\n",
       "  </tbody>\n",
       "</table>\n",
       "<p>8 rows × 46 columns</p>\n",
       "</div>"
      ],
      "text/plain": [
       "                  x0             x1             x2             x3  \\\n",
       "count  160000.000000  160000.000000  160000.000000  160000.000000   \n",
       "mean       -0.001028       0.001358      -1.150145      -0.024637   \n",
       "std         0.371107       6.340137      13.271904       8.064099   \n",
       "min        -1.592635     -26.278302     -59.394048     -35.476594   \n",
       "25%        -0.251574      -4.260377     -10.163721      -5.452183   \n",
       "50%        -0.001980       0.004056      -1.336542      -0.028386   \n",
       "75%         0.248505       4.282958       7.868661       5.443760   \n",
       "max         1.600849      27.988178      63.545653      38.906025   \n",
       "\n",
       "                  x4             x5             x6             x7  \\\n",
       "count  160000.000000  160000.000000  160000.000000  160000.000000   \n",
       "mean       -0.000549       0.013582      -1.670670      -7.692795   \n",
       "std         6.381775       7.669189      19.297096      30.539687   \n",
       "min       -28.467536     -33.822988     -86.354483    -181.506976   \n",
       "25%        -4.312029      -5.147177     -14.777287     -27.318385   \n",
       "50%        -0.000105       0.013582      -1.943830      -6.961396   \n",
       "75%         4.305730       5.188709      11.444045      12.213263   \n",
       "max        26.247812      35.550110      92.390605     149.150634   \n",
       "\n",
       "                  x8             x9      ...                  x41  \\\n",
       "count  160000.000000  160000.000000      ...        160000.000000   \n",
       "mean       -0.030540       0.005462      ...             6.701076   \n",
       "std         8.900601       6.354444      ...            18.677861   \n",
       "min       -37.691045     -27.980659      ...           -82.167224   \n",
       "25%        -6.030219      -4.259907      ...            -5.801423   \n",
       "50%        -0.018784       0.005462      ...             6.835074   \n",
       "75%         5.971778       4.305071      ...            19.263639   \n",
       "max        39.049831      27.377842      ...           100.050432   \n",
       "\n",
       "                 x42            x43            x44            x45  \\\n",
       "count  160000.000000  160000.000000  160000.000000  160000.000000   \n",
       "mean       -1.833820      -0.002091      -0.006250       0.000885   \n",
       "std         5.110290       1.534775       4.164075       0.396585   \n",
       "min       -27.933750      -6.876234     -17.983487      -1.753221   \n",
       "25%        -5.162268      -1.039482      -2.811242      -0.266411   \n",
       "50%        -1.923107      -0.004096      -0.009104       0.001542   \n",
       "75%         1.452664       1.032992       2.782384       0.268985   \n",
       "max        22.668041       6.680922      19.069759       1.669205   \n",
       "\n",
       "                 x46            x47            x48            x49  \\\n",
       "count  160000.000000  160000.000000  160000.000000  160000.000000   \n",
       "mean      -12.755395       0.028622      -0.000224      -0.674224   \n",
       "std        36.605095       4.787604       1.935308      15.035234   \n",
       "min      -201.826828     -21.086333      -8.490155     -65.791191   \n",
       "25%       -36.425835      -3.214765      -1.320470     -10.930261   \n",
       "50%       -12.973676       0.034732      -0.011225      -0.577987   \n",
       "75%        11.437354       3.266938       1.317397       9.649149   \n",
       "max       150.859415      20.836854       8.226552      66.877604   \n",
       "\n",
       "                   y  \n",
       "count  160000.000000  \n",
       "mean        0.401231  \n",
       "std         0.490149  \n",
       "min         0.000000  \n",
       "25%         0.000000  \n",
       "50%         0.000000  \n",
       "75%         1.000000  \n",
       "max         1.000000  \n",
       "\n",
       "[8 rows x 46 columns]"
      ]
     },
     "execution_count": 12,
     "metadata": {},
     "output_type": "execute_result"
    }
   ],
   "source": [
    "#will check min,max,std and mean of all continous columns\n",
    "Tdata.describe()"
   ]
  },
  {
   "cell_type": "code",
   "execution_count": 13,
   "metadata": {
    "collapsed": false
   },
   "outputs": [
    {
     "data": {
      "text/plain": [
       "[]"
      ]
     },
     "execution_count": 13,
     "metadata": {},
     "output_type": "execute_result"
    }
   ],
   "source": [
    "#here i going to check is there any continous column present in Tdata dataframe with missing values.\n",
    "#will check is there any missing values\n",
    "[col for col in Tdata.columns \n",
    "     if Tdata[col].isnull().any()]"
   ]
  },
  {
   "cell_type": "markdown",
   "metadata": {},
   "source": [
    "As per the result of out[13]: there are no columns in Tdata those are having missing values.\n",
    "Now I am going to build Random forest for Train Data"
   ]
  },
  {
   "cell_type": "markdown",
   "metadata": {},
   "source": [
    "### -----------------------------Building of different classification model---------------------------\n",
    "<li> Will check <strong>Linear Regression</strong> on Tdata(train data)\n",
    "<li> Will check <strong>Decision Tree</strong> on Tdata(train data)\n",
    "<li> Then generate <strong>Random Forest </strong>to solve this Midterm assignment"
   ]
  },
  {
   "cell_type": "markdown",
   "metadata": {},
   "source": [
    "### --------------------------Spliting Traindata into X,Y---------------------\n",
    "##Lets split Train dataset \"Tdata' into X,Y as we are predicting 'y' column value \n",
    "##for this midterm will keep it in 'Ytrain'\n",
    "##And remaining Data into 'Xtrain'"
   ]
  },
  {
   "cell_type": "code",
   "execution_count": 14,
   "metadata": {
    "collapsed": false
   },
   "outputs": [],
   "source": [
    "#Here we are going to separate 'y' column from Tdata\n",
    "Ytrain=Tdata.pop(\"y\")"
   ]
  },
  {
   "cell_type": "code",
   "execution_count": 15,
   "metadata": {
    "collapsed": true
   },
   "outputs": [],
   "source": [
    "#Here I am going to store remaining tdata into 'Xtrain'\n",
    "Xtrain=Tdata"
   ]
  },
  {
   "cell_type": "code",
   "execution_count": 16,
   "metadata": {
    "collapsed": false
   },
   "outputs": [
    {
     "data": {
      "text/html": [
       "<div>\n",
       "<table border=\"1\" class=\"dataframe\">\n",
       "  <thead>\n",
       "    <tr style=\"text-align: right;\">\n",
       "      <th></th>\n",
       "      <th>x0</th>\n",
       "      <th>x1</th>\n",
       "      <th>x2</th>\n",
       "      <th>x3</th>\n",
       "      <th>x4</th>\n",
       "      <th>x5</th>\n",
       "      <th>x6</th>\n",
       "      <th>x7</th>\n",
       "      <th>x8</th>\n",
       "      <th>x9</th>\n",
       "      <th>...</th>\n",
       "      <th>x40</th>\n",
       "      <th>x41</th>\n",
       "      <th>x42</th>\n",
       "      <th>x43</th>\n",
       "      <th>x44</th>\n",
       "      <th>x45</th>\n",
       "      <th>x46</th>\n",
       "      <th>x47</th>\n",
       "      <th>x48</th>\n",
       "      <th>x49</th>\n",
       "    </tr>\n",
       "  </thead>\n",
       "  <tbody>\n",
       "    <tr>\n",
       "      <th>0</th>\n",
       "      <td>-0.166563</td>\n",
       "      <td>-3.961588</td>\n",
       "      <td>4.621113</td>\n",
       "      <td>2.481908</td>\n",
       "      <td>-1.800135</td>\n",
       "      <td>0.804684</td>\n",
       "      <td>6.718751</td>\n",
       "      <td>-14.789997</td>\n",
       "      <td>-1.040673</td>\n",
       "      <td>-4.204950</td>\n",
       "      <td>...</td>\n",
       "      <td>-10.612200</td>\n",
       "      <td>-1.497117</td>\n",
       "      <td>5.414063</td>\n",
       "      <td>-2.325655</td>\n",
       "      <td>1.674827</td>\n",
       "      <td>-0.264332</td>\n",
       "      <td>60.781427</td>\n",
       "      <td>-7.689696</td>\n",
       "      <td>0.151589</td>\n",
       "      <td>-8.040166</td>\n",
       "    </tr>\n",
       "    <tr>\n",
       "      <th>1</th>\n",
       "      <td>-0.149894</td>\n",
       "      <td>-0.585676</td>\n",
       "      <td>27.839856</td>\n",
       "      <td>4.152333</td>\n",
       "      <td>6.426802</td>\n",
       "      <td>-2.426943</td>\n",
       "      <td>40.477058</td>\n",
       "      <td>-6.725709</td>\n",
       "      <td>0.896421</td>\n",
       "      <td>0.330165</td>\n",
       "      <td>...</td>\n",
       "      <td>2.147427</td>\n",
       "      <td>36.292790</td>\n",
       "      <td>4.490915</td>\n",
       "      <td>0.762561</td>\n",
       "      <td>6.526662</td>\n",
       "      <td>1.007927</td>\n",
       "      <td>15.805696</td>\n",
       "      <td>-4.896678</td>\n",
       "      <td>-0.320283</td>\n",
       "      <td>16.719974</td>\n",
       "    </tr>\n",
       "    <tr>\n",
       "      <th>2</th>\n",
       "      <td>-0.321707</td>\n",
       "      <td>-1.429819</td>\n",
       "      <td>12.251561</td>\n",
       "      <td>6.586874</td>\n",
       "      <td>-5.304647</td>\n",
       "      <td>-11.311090</td>\n",
       "      <td>17.812850</td>\n",
       "      <td>11.060572</td>\n",
       "      <td>5.325880</td>\n",
       "      <td>-2.632984</td>\n",
       "      <td>...</td>\n",
       "      <td>-0.863137</td>\n",
       "      <td>-0.368491</td>\n",
       "      <td>9.088864</td>\n",
       "      <td>-0.689886</td>\n",
       "      <td>-2.731118</td>\n",
       "      <td>0.754200</td>\n",
       "      <td>30.856417</td>\n",
       "      <td>-7.428573</td>\n",
       "      <td>-2.090804</td>\n",
       "      <td>-7.869421</td>\n",
       "    </tr>\n",
       "    <tr>\n",
       "      <th>3</th>\n",
       "      <td>-0.245594</td>\n",
       "      <td>5.076677</td>\n",
       "      <td>-24.149632</td>\n",
       "      <td>3.637307</td>\n",
       "      <td>6.505811</td>\n",
       "      <td>2.290224</td>\n",
       "      <td>-35.111751</td>\n",
       "      <td>-18.913592</td>\n",
       "      <td>-0.337041</td>\n",
       "      <td>-5.568076</td>\n",
       "      <td>...</td>\n",
       "      <td>12.084421</td>\n",
       "      <td>15.691546</td>\n",
       "      <td>-7.467775</td>\n",
       "      <td>2.940789</td>\n",
       "      <td>-6.424112</td>\n",
       "      <td>0.419776</td>\n",
       "      <td>-72.424569</td>\n",
       "      <td>5.361375</td>\n",
       "      <td>1.806070</td>\n",
       "      <td>-7.670847</td>\n",
       "    </tr>\n",
       "    <tr>\n",
       "      <th>4</th>\n",
       "      <td>-0.273366</td>\n",
       "      <td>0.306326</td>\n",
       "      <td>-11.352593</td>\n",
       "      <td>1.676758</td>\n",
       "      <td>2.928441</td>\n",
       "      <td>-0.616824</td>\n",
       "      <td>-16.505817</td>\n",
       "      <td>27.532281</td>\n",
       "      <td>1.199715</td>\n",
       "      <td>-4.309105</td>\n",
       "      <td>...</td>\n",
       "      <td>30.004727</td>\n",
       "      <td>-13.911297</td>\n",
       "      <td>-5.229937</td>\n",
       "      <td>1.783928</td>\n",
       "      <td>3.957801</td>\n",
       "      <td>-0.096988</td>\n",
       "      <td>-14.085435</td>\n",
       "      <td>-0.208351</td>\n",
       "      <td>-0.894942</td>\n",
       "      <td>15.724742</td>\n",
       "    </tr>\n",
       "  </tbody>\n",
       "</table>\n",
       "<p>5 rows × 45 columns</p>\n",
       "</div>"
      ],
      "text/plain": [
       "         x0        x1         x2        x3        x4         x5         x6  \\\n",
       "0 -0.166563 -3.961588   4.621113  2.481908 -1.800135   0.804684   6.718751   \n",
       "1 -0.149894 -0.585676  27.839856  4.152333  6.426802  -2.426943  40.477058   \n",
       "2 -0.321707 -1.429819  12.251561  6.586874 -5.304647 -11.311090  17.812850   \n",
       "3 -0.245594  5.076677 -24.149632  3.637307  6.505811   2.290224 -35.111751   \n",
       "4 -0.273366  0.306326 -11.352593  1.676758  2.928441  -0.616824 -16.505817   \n",
       "\n",
       "          x7        x8        x9    ...            x40        x41       x42  \\\n",
       "0 -14.789997 -1.040673 -4.204950    ...     -10.612200  -1.497117  5.414063   \n",
       "1  -6.725709  0.896421  0.330165    ...       2.147427  36.292790  4.490915   \n",
       "2  11.060572  5.325880 -2.632984    ...      -0.863137  -0.368491  9.088864   \n",
       "3 -18.913592 -0.337041 -5.568076    ...      12.084421  15.691546 -7.467775   \n",
       "4  27.532281  1.199715 -4.309105    ...      30.004727 -13.911297 -5.229937   \n",
       "\n",
       "        x43       x44       x45        x46       x47       x48        x49  \n",
       "0 -2.325655  1.674827 -0.264332  60.781427 -7.689696  0.151589  -8.040166  \n",
       "1  0.762561  6.526662  1.007927  15.805696 -4.896678 -0.320283  16.719974  \n",
       "2 -0.689886 -2.731118  0.754200  30.856417 -7.428573 -2.090804  -7.869421  \n",
       "3  2.940789 -6.424112  0.419776 -72.424569  5.361375  1.806070  -7.670847  \n",
       "4  1.783928  3.957801 -0.096988 -14.085435 -0.208351 -0.894942  15.724742  \n",
       "\n",
       "[5 rows x 45 columns]"
      ]
     },
     "execution_count": 16,
     "metadata": {},
     "output_type": "execute_result"
    }
   ],
   "source": [
    "#Display 'XTrain'\n",
    "Xtrain.head()"
   ]
  },
  {
   "cell_type": "markdown",
   "metadata": {},
   "source": [
    "## Linear Regression"
   ]
  },
  {
   "cell_type": "code",
   "execution_count": 17,
   "metadata": {
    "collapsed": true
   },
   "outputs": [],
   "source": [
    "# Make train and test datasets\n",
    "from sklearn.cross_validation import train_test_split\n",
    "import numpy as np\n",
    "np.random.seed(100)\n",
    "X_train, X_test, y_train, y_test = train_test_split(Xtrain, Ytrain, test_size=.2)"
   ]
  },
  {
   "cell_type": "code",
   "execution_count": 18,
   "metadata": {
    "collapsed": false
   },
   "outputs": [
    {
     "name": "stdout",
     "output_type": "stream",
     "text": [
      "R^2: 0.19\n"
     ]
    }
   ],
   "source": [
    "from sklearn.linear_model import LinearRegression\n",
    "model = LinearRegression()\n",
    "model.fit(X_train, y_train)\n",
    "print \"R^2:\", model.score(X_test, y_test).round(2)"
   ]
  },
  {
   "cell_type": "markdown",
   "metadata": {},
   "source": [
    "### Decision Tree"
   ]
  },
  {
   "cell_type": "code",
   "execution_count": 19,
   "metadata": {
    "collapsed": false
   },
   "outputs": [
    {
     "name": "stdout",
     "output_type": "stream",
     "text": [
      "R^2: 0.34\n"
     ]
    }
   ],
   "source": [
    "from sklearn.tree import DecisionTreeRegressor\n",
    "model = DecisionTreeRegressor()\n",
    "model.fit(X_train, y_train)\n",
    "print \"R^2:\", model.score(X_test, y_test).round(2)"
   ]
  },
  {
   "cell_type": "markdown",
   "metadata": {},
   "source": [
    "### Random Forest with defaults"
   ]
  },
  {
   "cell_type": "code",
   "execution_count": 20,
   "metadata": {
    "collapsed": false
   },
   "outputs": [
    {
     "name": "stdout",
     "output_type": "stream",
     "text": [
      "R^2: 0.67\n"
     ]
    }
   ],
   "source": [
    "from sklearn.ensemble import RandomForestRegressor\n",
    "model = RandomForestRegressor(random_state=42)\n",
    "model.fit(X_train, y_train)\n",
    "print \"R^2:\", model.score(X_test, y_test).round(2)"
   ]
  },
  {
   "cell_type": "markdown",
   "metadata": {},
   "source": [
    "## Building Our own The Random Forest Algorithm\n",
    "\n",
    "Will Make change as they tune model for greater accuracy of prediction\n",
    "\n",
    "## Most important parameters (and what they mean)\n",
    " * ### Parameters that will make your model better\n",
    "  * <b>n_estimators</b>: The number of trees in the forest. Choose as high of a number as your computer can handle.\n",
    "  * <b>max_features</b>: The number of features to consider when looking for the best split. Try [\"auto\", \"None\", \"sqrt\", \"log2\", 0.9, and 0.2]\n",
    "  * <b>min_samples_leaf</b>: The minimum number of samples in newly created leaves.Try [1, 2, 3]. If 3 is the best, try higher numbers.\n",
    " * ### Parameters that will make it easier to train your model\n",
    "  * <b>n_jobs</b>: Determines if multiple processors should be used to train and test the model. Always set this to -1 and %%timeit vs. if it is set to 1. It should be much faster (especially when many trees are trained).\n",
    "  * <b>random_state</b>: Set this to 42 if you want to be cool AND want others to be able to replicate your results.\n",
    "  * <b>oob_score</b>: THE BEST THING EVER. Random Forest's custom validation method: out-of-bag predictions.\n"
   ]
  },
  {
   "cell_type": "code",
   "execution_count": 17,
   "metadata": {
    "collapsed": true
   },
   "outputs": [],
   "source": [
    "import pandas as pd\n",
    "import numpy as np\n",
    "from sklearn.ensemble import RandomForestClassifier\n",
    "from sklearn.grid_search import GridSearchCV\n",
    "from sklearn.cross_validation import train_test_split\n",
    "from sklearn.metrics import roc_auc_score\n",
    "from sklearn.metrics import classification_report\n",
    "from sklearn.metrics import confusion_matrix\n",
    "from sklearn.metrics import accuracy_score\n",
    "from sklearn.metrics import roc_curve\n",
    "import math"
   ]
  },
  {
   "cell_type": "code",
   "execution_count": 22,
   "metadata": {
    "collapsed": false
   },
   "outputs": [
    {
     "name": "stdout",
     "output_type": "stream",
     "text": [
      "C-stat:  0.968735813086\n"
     ]
    }
   ],
   "source": [
    "#will generate default model with low specification\n",
    "\n",
    "from sklearn.ensemble import RandomForestRegressor\n",
    "from sklearn.metrics import roc_auc_score\n",
    "\n",
    "model = RandomForestRegressor(100, oob_score=True, n_jobs=-1, random_state=42)\n",
    "model.fit(Xtrain, Ytrain)\n",
    "print \"C-stat: \", roc_auc_score(Ytrain, model.oob_prediction_)"
   ]
  },
  {
   "cell_type": "code",
   "execution_count": 23,
   "metadata": {
    "collapsed": false
   },
   "outputs": [
    {
     "name": "stdout",
     "output_type": "stream",
     "text": [
      "C-stat:  0.969104023876\n"
     ]
    }
   ],
   "source": [
    "modelM21 = RandomForestRegressor(100, oob_score=True, n_jobs=-1, random_state=52)\n",
    "modelM21.fit(Xtrain, Ytrain)\n",
    "print \"C-stat: \", roc_auc_score(Ytrain, modelM21.oob_prediction_)"
   ]
  },
  {
   "cell_type": "code",
   "execution_count": 24,
   "metadata": {
    "collapsed": false
   },
   "outputs": [
    {
     "name": "stdout",
     "output_type": "stream",
     "text": [
      "C-stat:  0.968732852238\n"
     ]
    }
   ],
   "source": [
    "modelM22 = RandomForestRegressor(100, oob_score=True, n_jobs=-1, random_state=62)\n",
    "modelM22.fit(Xtrain, Ytrain)\n",
    "print \"C-stat: \", roc_auc_score(Ytrain, modelM22.oob_prediction_)"
   ]
  },
  {
   "cell_type": "code",
   "execution_count": 19,
   "metadata": {
    "collapsed": false
   },
   "outputs": [
    {
     "name": "stdout",
     "output_type": "stream",
     "text": [
      "C-stat:  0.969249046972\n"
     ]
    }
   ],
   "source": [
    "#will generate default model with low specification\n",
    "\n",
    "from sklearn.ensemble import RandomForestRegressor\n",
    "from sklearn.metrics import roc_auc_score\n",
    "\n",
    "modelM31 = RandomForestRegressor(100, oob_score=True, n_jobs=-1, random_state=32)\n",
    "modelM31.fit(Xtrain, Ytrain)\n",
    "print \"C-stat: \", roc_auc_score(Ytrain, modelM31.oob_prediction_)"
   ]
  },
  {
   "cell_type": "code",
   "execution_count": 20,
   "metadata": {
    "collapsed": false
   },
   "outputs": [
    {
     "name": "stdout",
     "output_type": "stream",
     "text": [
      "C-stat:  0.969110772609\n"
     ]
    }
   ],
   "source": [
    "modelM32 = RandomForestRegressor(100, oob_score=True, n_jobs=-1, random_state=72)\n",
    "modelM32.fit(Xtrain, Ytrain)\n",
    "print \"C-stat: \", roc_auc_score(Ytrain, modelM32.oob_prediction_)"
   ]
  },
  {
   "cell_type": "code",
   "execution_count": 21,
   "metadata": {
    "collapsed": false
   },
   "outputs": [
    {
     "name": "stdout",
     "output_type": "stream",
     "text": [
      "C-stat:  0.969080233601\n"
     ]
    }
   ],
   "source": [
    "modelM33 = RandomForestRegressor(100, oob_score=True, n_jobs=-1, random_state=82)\n",
    "modelM33.fit(Xtrain, Ytrain)\n",
    "print \"C-stat: \", roc_auc_score(Ytrain, modelM33.oob_prediction_)"
   ]
  },
  {
   "cell_type": "markdown",
   "metadata": {},
   "source": [
    "## --------------------Going Forward I will Keep my random_state 52---------------\n",
    "#### --------Will change other parameters for gretter accuracy."
   ]
  },
  {
   "cell_type": "code",
   "execution_count": 22,
   "metadata": {
    "collapsed": false
   },
   "outputs": [
    {
     "name": "stderr",
     "output_type": "stream",
     "text": [
      "/Users/rajeshjaiswal/anaconda/lib/python2.7/site-packages/ipykernel/__main__.py:3: FutureWarning: sort is deprecated, use sort_values(inplace=True) for INPLACE sorting\n",
      "  app.launch_new_instance()\n"
     ]
    },
    {
     "data": {
      "image/png": "[encoded data removed]",
      "text/plain": [
       "<matplotlib.figure.Figure at 0x116ddd190>"
      ]
     },
     "metadata": {},
     "output_type": "display_data"
    }
   ],
   "source": [
    "# Simple version that shows all of the variables\n",
    "feature_importances = pd.Series(modelM31.feature_importances_, index=Xtrain.columns)\n",
    "feature_importances.sort()\n",
    "feature_importances.plot(kind=\"barh\", figsize=(7,6));"
   ]
  },
  {
   "cell_type": "markdown",
   "metadata": {},
   "source": [
    "### As above improtance graph given a column names which have greater collinerity with y means they are good candidate for prediction of Ytrain value\n",
    "#### I am going to drop other columns from Xtrain and will update Random forest model now"
   ]
  },
  {
   "cell_type": "code",
   "execution_count": 23,
   "metadata": {
    "collapsed": true
   },
   "outputs": [],
   "source": [
    "#Dropping less important column\n",
    "del Xtrain['x44']\n",
    "del Xtrain['x8']\n",
    "del Xtrain['x5']\n",
    "del Xtrain['x33']\n",
    "del Xtrain['x43']\n",
    "del Xtrain['x1']\n",
    "del Xtrain['x13']\n",
    "del Xtrain['x39']\n",
    "del Xtrain['x4']\n",
    "del Xtrain['x35']\n",
    "del Xtrain['x16']\n",
    "del Xtrain['x9']\n",
    "del Xtrain['x19']\n",
    "del Xtrain['x31']\n",
    "del Xtrain['x15']\n",
    "del Xtrain['x3']\n",
    "del Xtrain['x18']\n",
    "del Xtrain['x36']\n",
    "del Xtrain['x47']\n",
    "del Xtrain['x11']\n",
    "del Xtrain['x10']\n",
    "del Xtrain['x14']\n",
    "del Xtrain['x22']\n",
    "del Xtrain['x45']\n",
    "del Xtrain['x17']\n",
    "del Xtrain['x26']\n",
    "del Xtrain['x34']\n",
    "del Xtrain['x0']\n",
    "del Xtrain['x21']\n",
    "del Xtrain['x25']"
   ]
  },
  {
   "cell_type": "code",
   "execution_count": 24,
   "metadata": {
    "collapsed": false
   },
   "outputs": [
    {
     "data": {
      "text/html": [
       "<div>\n",
       "<table border=\"1\" class=\"dataframe\">\n",
       "  <thead>\n",
       "    <tr style=\"text-align: right;\">\n",
       "      <th></th>\n",
       "      <th>x2</th>\n",
       "      <th>x6</th>\n",
       "      <th>x7</th>\n",
       "      <th>x12</th>\n",
       "      <th>x20</th>\n",
       "      <th>x23</th>\n",
       "      <th>x27</th>\n",
       "      <th>x28</th>\n",
       "      <th>x38</th>\n",
       "      <th>x40</th>\n",
       "      <th>x41</th>\n",
       "      <th>x42</th>\n",
       "      <th>x46</th>\n",
       "      <th>x48</th>\n",
       "      <th>x49</th>\n",
       "    </tr>\n",
       "  </thead>\n",
       "  <tbody>\n",
       "    <tr>\n",
       "      <th>0</th>\n",
       "      <td>4.621113</td>\n",
       "      <td>6.718751</td>\n",
       "      <td>-14.789997</td>\n",
       "      <td>25.665413</td>\n",
       "      <td>-1.909114</td>\n",
       "      <td>3.553013</td>\n",
       "      <td>1.005131</td>\n",
       "      <td>-18.473784</td>\n",
       "      <td>-1.353729</td>\n",
       "      <td>-10.612200</td>\n",
       "      <td>-1.497117</td>\n",
       "      <td>5.414063</td>\n",
       "      <td>60.781427</td>\n",
       "      <td>0.151589</td>\n",
       "      <td>-8.040166</td>\n",
       "    </tr>\n",
       "    <tr>\n",
       "      <th>1</th>\n",
       "      <td>27.839856</td>\n",
       "      <td>40.477058</td>\n",
       "      <td>-6.725709</td>\n",
       "      <td>-25.014934</td>\n",
       "      <td>-5.809984</td>\n",
       "      <td>10.590601</td>\n",
       "      <td>0.751086</td>\n",
       "      <td>3.749377</td>\n",
       "      <td>32.816804</td>\n",
       "      <td>2.147427</td>\n",
       "      <td>36.292790</td>\n",
       "      <td>4.490915</td>\n",
       "      <td>15.805696</td>\n",
       "      <td>-0.320283</td>\n",
       "      <td>16.719974</td>\n",
       "    </tr>\n",
       "    <tr>\n",
       "      <th>2</th>\n",
       "      <td>12.251561</td>\n",
       "      <td>17.812850</td>\n",
       "      <td>11.060572</td>\n",
       "      <td>12.078602</td>\n",
       "      <td>1.700321</td>\n",
       "      <td>-5.270615</td>\n",
       "      <td>4.171088</td>\n",
       "      <td>11.522448</td>\n",
       "      <td>-0.333199</td>\n",
       "      <td>-0.863137</td>\n",
       "      <td>-0.368491</td>\n",
       "      <td>9.088864</td>\n",
       "      <td>30.856417</td>\n",
       "      <td>-2.090804</td>\n",
       "      <td>-7.869421</td>\n",
       "    </tr>\n",
       "    <tr>\n",
       "      <th>3</th>\n",
       "      <td>-24.149632</td>\n",
       "      <td>-35.111751</td>\n",
       "      <td>-18.913592</td>\n",
       "      <td>10.995330</td>\n",
       "      <td>1.923670</td>\n",
       "      <td>-11.484431</td>\n",
       "      <td>9.215569</td>\n",
       "      <td>30.595226</td>\n",
       "      <td>14.188669</td>\n",
       "      <td>12.084421</td>\n",
       "      <td>15.691546</td>\n",
       "      <td>-7.467775</td>\n",
       "      <td>-72.424569</td>\n",
       "      <td>1.806070</td>\n",
       "      <td>-7.670847</td>\n",
       "    </tr>\n",
       "    <tr>\n",
       "      <th>4</th>\n",
       "      <td>-11.352593</td>\n",
       "      <td>-16.505817</td>\n",
       "      <td>27.532281</td>\n",
       "      <td>-28.106348</td>\n",
       "      <td>-9.026317</td>\n",
       "      <td>-15.998166</td>\n",
       "      <td>1.811182</td>\n",
       "      <td>-4.094084</td>\n",
       "      <td>-12.578926</td>\n",
       "      <td>30.004727</td>\n",
       "      <td>-13.911297</td>\n",
       "      <td>-5.229937</td>\n",
       "      <td>-14.085435</td>\n",
       "      <td>-0.894942</td>\n",
       "      <td>15.724742</td>\n",
       "    </tr>\n",
       "  </tbody>\n",
       "</table>\n",
       "</div>"
      ],
      "text/plain": [
       "          x2         x6         x7        x12       x20        x23       x27  \\\n",
       "0   4.621113   6.718751 -14.789997  25.665413 -1.909114   3.553013  1.005131   \n",
       "1  27.839856  40.477058  -6.725709 -25.014934 -5.809984  10.590601  0.751086   \n",
       "2  12.251561  17.812850  11.060572  12.078602  1.700321  -5.270615  4.171088   \n",
       "3 -24.149632 -35.111751 -18.913592  10.995330  1.923670 -11.484431  9.215569   \n",
       "4 -11.352593 -16.505817  27.532281 -28.106348 -9.026317 -15.998166  1.811182   \n",
       "\n",
       "         x28        x38        x40        x41       x42        x46       x48  \\\n",
       "0 -18.473784  -1.353729 -10.612200  -1.497117  5.414063  60.781427  0.151589   \n",
       "1   3.749377  32.816804   2.147427  36.292790  4.490915  15.805696 -0.320283   \n",
       "2  11.522448  -0.333199  -0.863137  -0.368491  9.088864  30.856417 -2.090804   \n",
       "3  30.595226  14.188669  12.084421  15.691546 -7.467775 -72.424569  1.806070   \n",
       "4  -4.094084 -12.578926  30.004727 -13.911297 -5.229937 -14.085435 -0.894942   \n",
       "\n",
       "         x49  \n",
       "0  -8.040166  \n",
       "1  16.719974  \n",
       "2  -7.869421  \n",
       "3  -7.670847  \n",
       "4  15.724742  "
      ]
     },
     "execution_count": 24,
     "metadata": {},
     "output_type": "execute_result"
    }
   ],
   "source": [
    "#display updated 'Xtrain' Dataframe with highly important columns only\n",
    "Xtrain.head()"
   ]
  },
  {
   "cell_type": "markdown",
   "metadata": {},
   "source": [
    "### ----------------------------------In this section will do more modification------------------------\n",
    "<li>Change of n_estimators, max_features,min_samples_leaf parameters accordingly \n",
    "                              \n",
    "                            \n",
    "                             \n",
    "                             "
   ]
  },
  {
   "cell_type": "code",
   "execution_count": 30,
   "metadata": {
    "collapsed": false
   },
   "outputs": [
    {
     "name": "stdout",
     "output_type": "stream",
     "text": [
      "C-stat:  0.976795250681\n"
     ]
    }
   ],
   "source": [
    "modelM23 = RandomForestRegressor(n_estimators=200, \n",
    "                              oob_score=True, \n",
    "                              n_jobs=-1, \n",
    "                              random_state=52, \n",
    "                              max_features=\"auto\", \n",
    "                              min_samples_leaf=5)\n",
    "modelM23.fit(Xtrain, Ytrain)\n",
    "roc = roc_auc_score(Ytrain, modelM23.oob_prediction_)\n",
    "print \"C-stat: \", roc"
   ]
  },
  {
   "cell_type": "code",
   "execution_count": 32,
   "metadata": {
    "collapsed": false
   },
   "outputs": [
    {
     "name": "stdout",
     "output_type": "stream",
     "text": [
      "C-stat:  0.980689117004\n"
     ]
    }
   ],
   "source": [
    "modelM24 = RandomForestRegressor(n_estimators=500, \n",
    "                              oob_score=True, \n",
    "                              n_jobs=-1, \n",
    "                              random_state=52, \n",
    "                              max_features=\"sqrt\", \n",
    "                              min_samples_leaf=1)\n",
    "modelM24.fit(Xtrain, Ytrain)\n",
    "roc = roc_auc_score(Ytrain, modelM24.oob_prediction_)\n",
    "print \"C-stat: \", roc"
   ]
  },
  {
   "cell_type": "code",
   "execution_count": 34,
   "metadata": {
    "collapsed": false
   },
   "outputs": [
    {
     "name": "stdout",
     "output_type": "stream",
     "text": [
      "C-stat:  0.980951484471\n"
     ]
    }
   ],
   "source": [
    "modelM25 = RandomForestRegressor(n_estimators=800, \n",
    "                              oob_score=True, \n",
    "                              n_jobs=-1, \n",
    "                              random_state=52, \n",
    "                              max_features=\"sqrt\", \n",
    "                              min_samples_leaf=1)\n",
    "modelM25.fit(Xtrain, Ytrain)\n",
    "roc = roc_auc_score(Ytrain, modelM25.oob_prediction_)\n",
    "print \"C-stat: \", roc"
   ]
  },
  {
   "cell_type": "code",
   "execution_count": 35,
   "metadata": {
    "collapsed": false
   },
   "outputs": [
    {
     "name": "stdout",
     "output_type": "stream",
     "text": [
      "C-stat:  0.980965533458\n"
     ]
    }
   ],
   "source": [
    "modelM26 = RandomForestRegressor(n_estimators=800, \n",
    "                              oob_score=True, \n",
    "                              n_jobs=-1, \n",
    "                              random_state=62, \n",
    "                              max_features=\"sqrt\", \n",
    "                              min_samples_leaf=1)\n",
    "modelM26.fit(Xtrain, Ytrain)\n",
    "roc = roc_auc_score(Ytrain, modelM26.oob_prediction_)\n",
    "print \"C-stat: \", roc"
   ]
  },
  {
   "cell_type": "code",
   "execution_count": 36,
   "metadata": {
    "collapsed": false
   },
   "outputs": [
    {
     "name": "stdout",
     "output_type": "stream",
     "text": [
      "C-stat:  0.980999387121\n"
     ]
    }
   ],
   "source": [
    "modelM27 = RandomForestRegressor(n_estimators=800, \n",
    "                              oob_score=True, \n",
    "                              n_jobs=-1, \n",
    "                              random_state=72, \n",
    "                              max_features=\"sqrt\", \n",
    "                              min_samples_leaf=1)\n",
    "modelM27.fit(Xtrain, Ytrain)\n",
    "roc = roc_auc_score(Ytrain, modelM27.oob_prediction_)\n",
    "print \"C-stat: \", roc"
   ]
  },
  {
   "cell_type": "code",
   "execution_count": 37,
   "metadata": {
    "collapsed": false
   },
   "outputs": [
    {
     "name": "stdout",
     "output_type": "stream",
     "text": [
      "C-stat:  0.981056530022\n"
     ]
    }
   ],
   "source": [
    "modelM28 = RandomForestRegressor(n_estimators=1000, \n",
    "                              oob_score=True, \n",
    "                              n_jobs=-1, \n",
    "                              random_state=72, \n",
    "                              max_features=\"sqrt\", \n",
    "                              min_samples_leaf=1)\n",
    "modelM28.fit(Xtrain, Ytrain)\n",
    "roc = roc_auc_score(Ytrain, modelM28.oob_prediction_)\n",
    "print \"C-stat: \", roc"
   ]
  },
  {
   "cell_type": "code",
   "execution_count": 38,
   "metadata": {
    "collapsed": false
   },
   "outputs": [
    {
     "name": "stdout",
     "output_type": "stream",
     "text": [
      "C-stat:  0.981049069938\n"
     ]
    }
   ],
   "source": [
    "modelM29 = RandomForestRegressor(n_estimators=1000, \n",
    "                              oob_score=True, \n",
    "                              n_jobs=-1, \n",
    "                              random_state=52, \n",
    "                              max_features=\"sqrt\", \n",
    "                              min_samples_leaf=1)\n",
    "modelM29.fit(Xtrain, Ytrain)\n",
    "roc = roc_auc_score(Ytrain, modelM29.oob_prediction_)\n",
    "print \"C-stat: \", roc"
   ]
  },
  {
   "cell_type": "code",
   "execution_count": 25,
   "metadata": {
    "collapsed": false
   },
   "outputs": [
    {
     "name": "stdout",
     "output_type": "stream",
     "text": [
      "C-stat:  0.976917040958\n"
     ]
    }
   ],
   "source": [
    "modelM31 = RandomForestRegressor(n_estimators=100, \n",
    "                              oob_score=True, \n",
    "                              n_jobs=-1, \n",
    "                              random_state=32, \n",
    "                              max_features=\"sqrt\", \n",
    "                              min_samples_leaf=5)\n",
    "modelM31.fit(Xtrain, Ytrain)\n",
    "roc = roc_auc_score(Ytrain, modelM31.oob_prediction_)\n",
    "print \"C-stat: \", roc"
   ]
  },
  {
   "cell_type": "code",
   "execution_count": 26,
   "metadata": {
    "collapsed": false
   },
   "outputs": [
    {
     "name": "stdout",
     "output_type": "stream",
     "text": [
      "C-stat:  0.978004086442\n"
     ]
    }
   ],
   "source": [
    "modelM32 = RandomForestRegressor(n_estimators=200, \n",
    "                              oob_score=True, \n",
    "                              n_jobs=-1, \n",
    "                              random_state=32, \n",
    "                              max_features=\"sqrt\", \n",
    "                              min_samples_leaf=5)\n",
    "modelM32.fit(Xtrain, Ytrain)\n",
    "roc = roc_auc_score(Ytrain, modelM32.oob_prediction_)\n",
    "print \"C-stat: \", roc"
   ]
  },
  {
   "cell_type": "code",
   "execution_count": 27,
   "metadata": {
    "collapsed": false
   },
   "outputs": [
    {
     "name": "stdout",
     "output_type": "stream",
     "text": [
      "C-stat:  0.979786661934\n"
     ]
    }
   ],
   "source": [
    "modelM33 = RandomForestRegressor(n_estimators=200, \n",
    "                              oob_score=True, \n",
    "                              n_jobs=-1, \n",
    "                              random_state=32, \n",
    "                              max_features=\"sqrt\", \n",
    "                              min_samples_leaf=1)\n",
    "modelM33.fit(Xtrain, Ytrain)\n",
    "roc = roc_auc_score(Ytrain, modelM33.oob_prediction_)\n",
    "print \"C-stat: \", roc"
   ]
  },
  {
   "cell_type": "code",
   "execution_count": 28,
   "metadata": {
    "collapsed": false
   },
   "outputs": [
    {
     "name": "stdout",
     "output_type": "stream",
     "text": [
      "C-stat:  0.9810045934\n"
     ]
    }
   ],
   "source": [
    "modelM34 = RandomForestRegressor(n_estimators=1000, \n",
    "                              oob_score=True, \n",
    "                              n_jobs=-1, \n",
    "                              random_state=32, \n",
    "                              max_features=\"sqrt\", \n",
    "                              min_samples_leaf=1)\n",
    "modelM34.fit(Xtrain, Ytrain)\n",
    "roc = roc_auc_score(Ytrain, modelM34.oob_prediction_)\n",
    "print \"C-stat: \", roc"
   ]
  },
  {
   "cell_type": "code",
   "execution_count": 29,
   "metadata": {
    "collapsed": false
   },
   "outputs": [
    {
     "name": "stdout",
     "output_type": "stream",
     "text": [
      "C-stat:  0.980543823594\n"
     ]
    }
   ],
   "source": [
    "modelM35 = RandomForestRegressor(n_estimators=1000, \n",
    "                              oob_score=True, \n",
    "                              n_jobs=-1, \n",
    "                              random_state=32, \n",
    "                              max_features=\"sqrt\", \n",
    "                              min_samples_leaf=2)\n",
    "modelM35.fit(Xtrain, Ytrain)\n",
    "roc = roc_auc_score(Ytrain, modelM35.oob_prediction_)\n",
    "print \"C-stat: \", roc"
   ]
  },
  {
   "cell_type": "code",
   "execution_count": 30,
   "metadata": {
    "collapsed": false
   },
   "outputs": [
    {
     "name": "stdout",
     "output_type": "stream",
     "text": [
      "C-stat:  0.981102207971\n"
     ]
    }
   ],
   "source": [
    "modelM36 = RandomForestRegressor(n_estimators=1500, \n",
    "                              oob_score=True, \n",
    "                              n_jobs=-1, \n",
    "                              random_state=32, \n",
    "                              max_features=\"sqrt\", \n",
    "                              min_samples_leaf=1)\n",
    "modelM36.fit(Xtrain, Ytrain)\n",
    "roc = roc_auc_score(Ytrain, modelM36.oob_prediction_)\n",
    "print \"C-stat: \", roc"
   ]
  },
  {
   "cell_type": "code",
   "execution_count": 31,
   "metadata": {
    "collapsed": false
   },
   "outputs": [
    {
     "name": "stdout",
     "output_type": "stream",
     "text": [
      "C-stat:  0.981167703684\n"
     ]
    }
   ],
   "source": [
    "modelM37 = RandomForestRegressor(n_estimators=2000, \n",
    "                              oob_score=True, \n",
    "                              n_jobs=-1, \n",
    "                              random_state=32, \n",
    "                              max_features=\"sqrt\", \n",
    "                              min_samples_leaf=1)\n",
    "modelM37.fit(Xtrain, Ytrain)\n",
    "roc = roc_auc_score(Ytrain, modelM37.oob_prediction_)\n",
    "print \"C-stat: \", roc"
   ]
  },
  {
   "cell_type": "code",
   "execution_count": 32,
   "metadata": {
    "collapsed": false
   },
   "outputs": [
    {
     "name": "stdout",
     "output_type": "stream",
     "text": [
      "C-stat:  0.981230742673\n"
     ]
    }
   ],
   "source": [
    "modelM38 = RandomForestRegressor(n_estimators=2000, \n",
    "                              oob_score=True, \n",
    "                              n_jobs=-1, \n",
    "                              random_state=62, \n",
    "                              max_features=\"sqrt\", \n",
    "                              min_samples_leaf=1)\n",
    "modelM38.fit(Xtrain, Ytrain)\n",
    "roc = roc_auc_score(Ytrain, modelM38.oob_prediction_)\n",
    "print \"C-stat: \", roc"
   ]
  },
  {
   "cell_type": "markdown",
   "metadata": {},
   "source": [
    "### --------------------------- I have build model )--------------------------------\n",
    "I am going to use it now will work towrds test data."
   ]
  },
  {
   "cell_type": "markdown",
   "metadata": {},
   "source": [
    "#### ---------------------------------------Data loading and Creation of Local DataFrame---------------------------------------\n",
    "<li> Will create Local Dataframe 'TTdata' for test dataset \n",
    "<li> Then load data from 'midterm_test.csv to 'TTdata'"
   ]
  },
  {
   "cell_type": "code",
   "execution_count": 33,
   "metadata": {
    "collapsed": true
   },
   "outputs": [],
   "source": [
    "#Creattion of 'Tdata' dataframe \n",
    "TTdata = pd.read_csv(\"midterm_test.csv\")"
   ]
  },
  {
   "cell_type": "code",
   "execution_count": 34,
   "metadata": {
    "collapsed": false
   },
   "outputs": [
    {
     "data": {
      "text/html": [
       "<div>\n",
       "<table border=\"1\" class=\"dataframe\">\n",
       "  <thead>\n",
       "    <tr style=\"text-align: right;\">\n",
       "      <th></th>\n",
       "      <th>x0</th>\n",
       "      <th>x1</th>\n",
       "      <th>x2</th>\n",
       "      <th>x3</th>\n",
       "      <th>x4</th>\n",
       "      <th>x5</th>\n",
       "      <th>x6</th>\n",
       "      <th>x7</th>\n",
       "      <th>x8</th>\n",
       "      <th>x9</th>\n",
       "      <th>...</th>\n",
       "      <th>x40</th>\n",
       "      <th>x41</th>\n",
       "      <th>x42</th>\n",
       "      <th>x43</th>\n",
       "      <th>x44</th>\n",
       "      <th>x45</th>\n",
       "      <th>x46</th>\n",
       "      <th>x47</th>\n",
       "      <th>x48</th>\n",
       "      <th>x49</th>\n",
       "    </tr>\n",
       "  </thead>\n",
       "  <tbody>\n",
       "    <tr>\n",
       "      <th>0</th>\n",
       "      <td>-0.522582</td>\n",
       "      <td>1.285266</td>\n",
       "      <td>-3.211278</td>\n",
       "      <td>6.435478</td>\n",
       "      <td>-3.355995</td>\n",
       "      <td>-6.222153</td>\n",
       "      <td>-4.668957</td>\n",
       "      <td>26.648275</td>\n",
       "      <td>-9.493768</td>\n",
       "      <td>-15.919583</td>\n",
       "      <td>...</td>\n",
       "      <td>6.597750</td>\n",
       "      <td>-0.197808</td>\n",
       "      <td>-4.138974</td>\n",
       "      <td>1.148979</td>\n",
       "      <td>0.127080</td>\n",
       "      <td>-0.032610</td>\n",
       "      <td>-39.456039</td>\n",
       "      <td>-0.623131</td>\n",
       "      <td>0.405111</td>\n",
       "      <td>0.565209</td>\n",
       "    </tr>\n",
       "    <tr>\n",
       "      <th>1</th>\n",
       "      <td>-0.327133</td>\n",
       "      <td>-2.874201</td>\n",
       "      <td>-8.628286</td>\n",
       "      <td>-4.543222</td>\n",
       "      <td>-0.687731</td>\n",
       "      <td>-0.306087</td>\n",
       "      <td>-12.544880</td>\n",
       "      <td>9.719749</td>\n",
       "      <td>-14.072453</td>\n",
       "      <td>3.763146</td>\n",
       "      <td>...</td>\n",
       "      <td>6.235120</td>\n",
       "      <td>-11.226443</td>\n",
       "      <td>-1.727902</td>\n",
       "      <td>2.983166</td>\n",
       "      <td>5.918433</td>\n",
       "      <td>-0.207522</td>\n",
       "      <td>-15.453140</td>\n",
       "      <td>-5.715456</td>\n",
       "      <td>2.596948</td>\n",
       "      <td>-13.330898</td>\n",
       "    </tr>\n",
       "    <tr>\n",
       "      <th>2</th>\n",
       "      <td>-0.173731</td>\n",
       "      <td>-11.401446</td>\n",
       "      <td>7.633143</td>\n",
       "      <td>7.298406</td>\n",
       "      <td>-5.554917</td>\n",
       "      <td>-17.192158</td>\n",
       "      <td>11.098016</td>\n",
       "      <td>-41.911009</td>\n",
       "      <td>12.719480</td>\n",
       "      <td>-7.320119</td>\n",
       "      <td>...</td>\n",
       "      <td>-13.414719</td>\n",
       "      <td>28.987108</td>\n",
       "      <td>-3.532879</td>\n",
       "      <td>0.806915</td>\n",
       "      <td>0.476301</td>\n",
       "      <td>0.154757</td>\n",
       "      <td>-63.918116</td>\n",
       "      <td>1.310607</td>\n",
       "      <td>0.609384</td>\n",
       "      <td>-21.962528</td>\n",
       "    </tr>\n",
       "    <tr>\n",
       "      <th>3</th>\n",
       "      <td>-0.130836</td>\n",
       "      <td>4.716583</td>\n",
       "      <td>-18.537297</td>\n",
       "      <td>-2.334537</td>\n",
       "      <td>-3.697804</td>\n",
       "      <td>-0.162074</td>\n",
       "      <td>-26.951837</td>\n",
       "      <td>-21.238950</td>\n",
       "      <td>3.145513</td>\n",
       "      <td>0.661810</td>\n",
       "      <td>...</td>\n",
       "      <td>2.890234</td>\n",
       "      <td>5.023080</td>\n",
       "      <td>-7.140230</td>\n",
       "      <td>0.208304</td>\n",
       "      <td>3.621499</td>\n",
       "      <td>-0.386714</td>\n",
       "      <td>-66.901730</td>\n",
       "      <td>-1.991627</td>\n",
       "      <td>1.363681</td>\n",
       "      <td>-1.916557</td>\n",
       "    </tr>\n",
       "    <tr>\n",
       "      <th>4</th>\n",
       "      <td>0.035572</td>\n",
       "      <td>-0.141469</td>\n",
       "      <td>7.792464</td>\n",
       "      <td>-4.398339</td>\n",
       "      <td>0.823660</td>\n",
       "      <td>-0.665133</td>\n",
       "      <td>11.329657</td>\n",
       "      <td>-12.837209</td>\n",
       "      <td>-5.064350</td>\n",
       "      <td>-3.699563</td>\n",
       "      <td>...</td>\n",
       "      <td>-8.381609</td>\n",
       "      <td>-2.068961</td>\n",
       "      <td>8.671673</td>\n",
       "      <td>1.373791</td>\n",
       "      <td>-1.182293</td>\n",
       "      <td>-0.110082</td>\n",
       "      <td>46.273615</td>\n",
       "      <td>2.625769</td>\n",
       "      <td>-3.100504</td>\n",
       "      <td>-1.482507</td>\n",
       "    </tr>\n",
       "  </tbody>\n",
       "</table>\n",
       "<p>5 rows × 50 columns</p>\n",
       "</div>"
      ],
      "text/plain": [
       "         x0         x1         x2        x3        x4         x5         x6  \\\n",
       "0 -0.522582   1.285266  -3.211278  6.435478 -3.355995  -6.222153  -4.668957   \n",
       "1 -0.327133  -2.874201  -8.628286 -4.543222 -0.687731  -0.306087 -12.544880   \n",
       "2 -0.173731 -11.401446   7.633143  7.298406 -5.554917 -17.192158  11.098016   \n",
       "3 -0.130836   4.716583 -18.537297 -2.334537 -3.697804  -0.162074 -26.951837   \n",
       "4  0.035572  -0.141469   7.792464 -4.398339  0.823660  -0.665133  11.329657   \n",
       "\n",
       "          x7         x8         x9    ...            x40        x41       x42  \\\n",
       "0  26.648275  -9.493768 -15.919583    ...       6.597750  -0.197808 -4.138974   \n",
       "1   9.719749 -14.072453   3.763146    ...       6.235120 -11.226443 -1.727902   \n",
       "2 -41.911009  12.719480  -7.320119    ...     -13.414719  28.987108 -3.532879   \n",
       "3 -21.238950   3.145513   0.661810    ...       2.890234   5.023080 -7.140230   \n",
       "4 -12.837209  -5.064350  -3.699563    ...      -8.381609  -2.068961  8.671673   \n",
       "\n",
       "        x43       x44       x45        x46       x47       x48        x49  \n",
       "0  1.148979  0.127080 -0.032610 -39.456039 -0.623131  0.405111   0.565209  \n",
       "1  2.983166  5.918433 -0.207522 -15.453140 -5.715456  2.596948 -13.330898  \n",
       "2  0.806915  0.476301  0.154757 -63.918116  1.310607  0.609384 -21.962528  \n",
       "3  0.208304  3.621499 -0.386714 -66.901730 -1.991627  1.363681  -1.916557  \n",
       "4  1.373791 -1.182293 -0.110082  46.273615  2.625769 -3.100504  -1.482507  \n",
       "\n",
       "[5 rows x 50 columns]"
      ]
     },
     "execution_count": 34,
     "metadata": {},
     "output_type": "execute_result"
    }
   ],
   "source": [
    "#Display test dataset\n",
    "TTdata.head()"
   ]
  },
  {
   "cell_type": "markdown",
   "metadata": {},
   "source": [
    "## ------------------------------EDA on Test Dataset---------------------------------------\n",
    "<li>will check type of columns(categorial or continous)\n",
    "<li>Here will do EDA on all dataset except every column\n",
    "<li>Will check missing values and handle them"
   ]
  },
  {
   "cell_type": "code",
   "execution_count": 35,
   "metadata": {
    "collapsed": false
   },
   "outputs": [
    {
     "data": {
      "text/html": [
       "<div>\n",
       "<table border=\"1\" class=\"dataframe\">\n",
       "  <thead>\n",
       "    <tr style=\"text-align: right;\">\n",
       "      <th></th>\n",
       "      <th>x0</th>\n",
       "      <th>x1</th>\n",
       "      <th>x2</th>\n",
       "      <th>x3</th>\n",
       "      <th>x4</th>\n",
       "      <th>x5</th>\n",
       "      <th>x6</th>\n",
       "      <th>x7</th>\n",
       "      <th>x8</th>\n",
       "      <th>x9</th>\n",
       "      <th>...</th>\n",
       "      <th>x40</th>\n",
       "      <th>x41</th>\n",
       "      <th>x42</th>\n",
       "      <th>x43</th>\n",
       "      <th>x44</th>\n",
       "      <th>x45</th>\n",
       "      <th>x46</th>\n",
       "      <th>x47</th>\n",
       "      <th>x48</th>\n",
       "      <th>x49</th>\n",
       "    </tr>\n",
       "  </thead>\n",
       "  <tbody>\n",
       "    <tr>\n",
       "      <th>0</th>\n",
       "      <td>-0.522582</td>\n",
       "      <td>1.285266</td>\n",
       "      <td>-3.211278</td>\n",
       "      <td>6.435478</td>\n",
       "      <td>-3.355995</td>\n",
       "      <td>-6.222153</td>\n",
       "      <td>-4.668957</td>\n",
       "      <td>26.648275</td>\n",
       "      <td>-9.493768</td>\n",
       "      <td>-15.919583</td>\n",
       "      <td>...</td>\n",
       "      <td>6.597750</td>\n",
       "      <td>-0.197808</td>\n",
       "      <td>-4.138974</td>\n",
       "      <td>1.148979</td>\n",
       "      <td>0.127080</td>\n",
       "      <td>-0.032610</td>\n",
       "      <td>-39.456039</td>\n",
       "      <td>-0.623131</td>\n",
       "      <td>0.405111</td>\n",
       "      <td>0.565209</td>\n",
       "    </tr>\n",
       "    <tr>\n",
       "      <th>1</th>\n",
       "      <td>-0.327133</td>\n",
       "      <td>-2.874201</td>\n",
       "      <td>-8.628286</td>\n",
       "      <td>-4.543222</td>\n",
       "      <td>-0.687731</td>\n",
       "      <td>-0.306087</td>\n",
       "      <td>-12.544880</td>\n",
       "      <td>9.719749</td>\n",
       "      <td>-14.072453</td>\n",
       "      <td>3.763146</td>\n",
       "      <td>...</td>\n",
       "      <td>6.235120</td>\n",
       "      <td>-11.226443</td>\n",
       "      <td>-1.727902</td>\n",
       "      <td>2.983166</td>\n",
       "      <td>5.918433</td>\n",
       "      <td>-0.207522</td>\n",
       "      <td>-15.453140</td>\n",
       "      <td>-5.715456</td>\n",
       "      <td>2.596948</td>\n",
       "      <td>-13.330898</td>\n",
       "    </tr>\n",
       "    <tr>\n",
       "      <th>2</th>\n",
       "      <td>-0.173731</td>\n",
       "      <td>-11.401446</td>\n",
       "      <td>7.633143</td>\n",
       "      <td>7.298406</td>\n",
       "      <td>-5.554917</td>\n",
       "      <td>-17.192158</td>\n",
       "      <td>11.098016</td>\n",
       "      <td>-41.911009</td>\n",
       "      <td>12.719480</td>\n",
       "      <td>-7.320119</td>\n",
       "      <td>...</td>\n",
       "      <td>-13.414719</td>\n",
       "      <td>28.987108</td>\n",
       "      <td>-3.532879</td>\n",
       "      <td>0.806915</td>\n",
       "      <td>0.476301</td>\n",
       "      <td>0.154757</td>\n",
       "      <td>-63.918116</td>\n",
       "      <td>1.310607</td>\n",
       "      <td>0.609384</td>\n",
       "      <td>-21.962528</td>\n",
       "    </tr>\n",
       "    <tr>\n",
       "      <th>3</th>\n",
       "      <td>-0.130836</td>\n",
       "      <td>4.716583</td>\n",
       "      <td>-18.537297</td>\n",
       "      <td>-2.334537</td>\n",
       "      <td>-3.697804</td>\n",
       "      <td>-0.162074</td>\n",
       "      <td>-26.951837</td>\n",
       "      <td>-21.238950</td>\n",
       "      <td>3.145513</td>\n",
       "      <td>0.661810</td>\n",
       "      <td>...</td>\n",
       "      <td>2.890234</td>\n",
       "      <td>5.023080</td>\n",
       "      <td>-7.140230</td>\n",
       "      <td>0.208304</td>\n",
       "      <td>3.621499</td>\n",
       "      <td>-0.386714</td>\n",
       "      <td>-66.901730</td>\n",
       "      <td>-1.991627</td>\n",
       "      <td>1.363681</td>\n",
       "      <td>-1.916557</td>\n",
       "    </tr>\n",
       "    <tr>\n",
       "      <th>4</th>\n",
       "      <td>0.035572</td>\n",
       "      <td>-0.141469</td>\n",
       "      <td>7.792464</td>\n",
       "      <td>-4.398339</td>\n",
       "      <td>0.823660</td>\n",
       "      <td>-0.665133</td>\n",
       "      <td>11.329657</td>\n",
       "      <td>-12.837209</td>\n",
       "      <td>-5.064350</td>\n",
       "      <td>-3.699563</td>\n",
       "      <td>...</td>\n",
       "      <td>-8.381609</td>\n",
       "      <td>-2.068961</td>\n",
       "      <td>8.671673</td>\n",
       "      <td>1.373791</td>\n",
       "      <td>-1.182293</td>\n",
       "      <td>-0.110082</td>\n",
       "      <td>46.273615</td>\n",
       "      <td>2.625769</td>\n",
       "      <td>-3.100504</td>\n",
       "      <td>-1.482507</td>\n",
       "    </tr>\n",
       "  </tbody>\n",
       "</table>\n",
       "<p>5 rows × 45 columns</p>\n",
       "</div>"
      ],
      "text/plain": [
       "         x0         x1         x2        x3        x4         x5         x6  \\\n",
       "0 -0.522582   1.285266  -3.211278  6.435478 -3.355995  -6.222153  -4.668957   \n",
       "1 -0.327133  -2.874201  -8.628286 -4.543222 -0.687731  -0.306087 -12.544880   \n",
       "2 -0.173731 -11.401446   7.633143  7.298406 -5.554917 -17.192158  11.098016   \n",
       "3 -0.130836   4.716583 -18.537297 -2.334537 -3.697804  -0.162074 -26.951837   \n",
       "4  0.035572  -0.141469   7.792464 -4.398339  0.823660  -0.665133  11.329657   \n",
       "\n",
       "          x7         x8         x9    ...            x40        x41       x42  \\\n",
       "0  26.648275  -9.493768 -15.919583    ...       6.597750  -0.197808 -4.138974   \n",
       "1   9.719749 -14.072453   3.763146    ...       6.235120 -11.226443 -1.727902   \n",
       "2 -41.911009  12.719480  -7.320119    ...     -13.414719  28.987108 -3.532879   \n",
       "3 -21.238950   3.145513   0.661810    ...       2.890234   5.023080 -7.140230   \n",
       "4 -12.837209  -5.064350  -3.699563    ...      -8.381609  -2.068961  8.671673   \n",
       "\n",
       "        x43       x44       x45        x46       x47       x48        x49  \n",
       "0  1.148979  0.127080 -0.032610 -39.456039 -0.623131  0.405111   0.565209  \n",
       "1  2.983166  5.918433 -0.207522 -15.453140 -5.715456  2.596948 -13.330898  \n",
       "2  0.806915  0.476301  0.154757 -63.918116  1.310607  0.609384 -21.962528  \n",
       "3  0.208304  3.621499 -0.386714 -66.901730 -1.991627  1.363681  -1.916557  \n",
       "4  1.373791 -1.182293 -0.110082  46.273615  2.625769 -3.100504  -1.482507  \n",
       "\n",
       "[5 rows x 45 columns]"
      ]
     },
     "execution_count": 35,
     "metadata": {},
     "output_type": "execute_result"
    }
   ],
   "source": [
    "#Will check column datatypes\n",
    "#first will check numerical columns\n",
    "numeric_variables1 = list(TTdata.dtypes[TTdata.dtypes != \"object\"].index)\n",
    "TTdata[numeric_variables1].head()"
   ]
  },
  {
   "cell_type": "code",
   "execution_count": 36,
   "metadata": {
    "collapsed": false
   },
   "outputs": [
    {
     "data": {
      "text/plain": [
       "['x0',\n",
       " 'x1',\n",
       " 'x2',\n",
       " 'x3',\n",
       " 'x4',\n",
       " 'x5',\n",
       " 'x6',\n",
       " 'x7',\n",
       " 'x8',\n",
       " 'x9',\n",
       " 'x10',\n",
       " 'x11',\n",
       " 'x12',\n",
       " 'x13',\n",
       " 'x14',\n",
       " 'x15',\n",
       " 'x16',\n",
       " 'x17',\n",
       " 'x18',\n",
       " 'x19',\n",
       " 'x20',\n",
       " 'x21',\n",
       " 'x22',\n",
       " 'x23',\n",
       " 'x24',\n",
       " 'x25',\n",
       " 'x26',\n",
       " 'x27',\n",
       " 'x28',\n",
       " 'x29',\n",
       " 'x30',\n",
       " 'x31',\n",
       " 'x32',\n",
       " 'x33',\n",
       " 'x34',\n",
       " 'x35',\n",
       " 'x36',\n",
       " 'x37',\n",
       " 'x38',\n",
       " 'x39',\n",
       " 'x40',\n",
       " 'x41',\n",
       " 'x42',\n",
       " 'x43',\n",
       " 'x44',\n",
       " 'x45',\n",
       " 'x46',\n",
       " 'x47',\n",
       " 'x48',\n",
       " 'x49']"
      ]
     },
     "execution_count": 36,
     "metadata": {},
     "output_type": "execute_result"
    }
   ],
   "source": [
    "#will check is there any missing values\n",
    "[col1 for col1 in TTdata.columns \n",
    "     if TTdata[col1].isnull().any()]"
   ]
  },
  {
   "cell_type": "code",
   "execution_count": 37,
   "metadata": {
    "collapsed": true
   },
   "outputs": [],
   "source": [
    "#Here I am going to track categorial column of 'TTdata'\n",
    "# Here is a simple function to show descriptive stats on the categorical variables\n",
    "def describe_categorical1(TTdata):\n",
    "    from IPython.display import display, HTML\n",
    "    display(HTML(TTdata[TTdata.columns[TTdata.dtypes == \"object\"]].describe().to_html()))"
   ]
  },
  {
   "cell_type": "code",
   "execution_count": 38,
   "metadata": {
    "collapsed": false
   },
   "outputs": [
    {
     "data": {
      "text/html": [
       "<table border=\"1\" class=\"dataframe\">\n",
       "  <thead>\n",
       "    <tr style=\"text-align: right;\">\n",
       "      <th></th>\n",
       "      <th>x24</th>\n",
       "      <th>x29</th>\n",
       "      <th>x30</th>\n",
       "      <th>x32</th>\n",
       "      <th>x37</th>\n",
       "    </tr>\n",
       "  </thead>\n",
       "  <tbody>\n",
       "    <tr>\n",
       "      <th>count</th>\n",
       "      <td>39987</td>\n",
       "      <td>39993</td>\n",
       "      <td>39994</td>\n",
       "      <td>39990</td>\n",
       "      <td>39994</td>\n",
       "    </tr>\n",
       "    <tr>\n",
       "      <th>unique</th>\n",
       "      <td>3</td>\n",
       "      <td>12</td>\n",
       "      <td>5</td>\n",
       "      <td>11</td>\n",
       "      <td>37864</td>\n",
       "    </tr>\n",
       "    <tr>\n",
       "      <th>top</th>\n",
       "      <td>asia</td>\n",
       "      <td>July</td>\n",
       "      <td>wednesday</td>\n",
       "      <td>0.01%</td>\n",
       "      <td>$-881.11</td>\n",
       "    </tr>\n",
       "    <tr>\n",
       "      <th>freq</th>\n",
       "      <td>34665</td>\n",
       "      <td>11500</td>\n",
       "      <td>25153</td>\n",
       "      <td>10178</td>\n",
       "      <td>4</td>\n",
       "    </tr>\n",
       "  </tbody>\n",
       "</table>"
      ],
      "text/plain": [
       "<IPython.core.display.HTML object>"
      ]
     },
     "metadata": {},
     "output_type": "display_data"
    }
   ],
   "source": [
    "describe_categorical1(TTdata)"
   ]
  },
  {
   "cell_type": "markdown",
   "metadata": {},
   "source": [
    "### Here to generate a model I am going to use continous columns only\n",
    "### Not going to use categorial column for model building\n",
    "### Will store above five categorial columns into new data frame and then will drop them from 'Tdata' training dataset for remaining work\n",
    "### Will use them in later part of this assignment"
   ]
  },
  {
   "cell_type": "code",
   "execution_count": 39,
   "metadata": {
    "collapsed": true
   },
   "outputs": [],
   "source": [
    "# Will use new dataframe 'CTdata' for categorial variables\n",
    "CTdata=pd.DataFrame()\n",
    "CTdata['x24']=TTdata['x24']\n",
    "CTdata['x29']=TTdata['x29']\n",
    "CTdata['x30']=TTdata['x30']\n",
    "CTdata['x32']=TTdata['x32']\n",
    "CTdata['x37']=TTdata['x37']"
   ]
  },
  {
   "cell_type": "code",
   "execution_count": 40,
   "metadata": {
    "collapsed": true
   },
   "outputs": [],
   "source": [
    "#Here I am going to drop this categorial columns from'TTdata' so that I can use them for model building\n",
    "del TTdata['x24']\n",
    "del TTdata['x29']\n",
    "del TTdata['x30']\n",
    "del TTdata['x32']\n",
    "del TTdata['x37']"
   ]
  },
  {
   "cell_type": "markdown",
   "metadata": {},
   "source": [
    "### -------------------will handle missing data of continous columns ---------------------------\n",
    "Here I am going to replace each missing value of each column by its mean value"
   ]
  },
  {
   "cell_type": "code",
   "execution_count": 41,
   "metadata": {
    "collapsed": true
   },
   "outputs": [],
   "source": [
    "#will use for loop to fill missing value with its mean value for each column\n",
    "for col1 in TTdata.columns: \n",
    "     if TTdata[col1].isnull().any():\n",
    "            TTdata[col1].fillna(TTdata[col1].mean(), inplace=True)"
   ]
  },
  {
   "cell_type": "code",
   "execution_count": 42,
   "metadata": {
    "collapsed": false
   },
   "outputs": [
    {
     "data": {
      "text/plain": [
       "[]"
      ]
     },
     "execution_count": 42,
     "metadata": {},
     "output_type": "execute_result"
    }
   ],
   "source": [
    "#here i going to check is there any continous column present in Tdata dataframe with missing values.\n",
    "#will check is there any missing values\n",
    "[col1 for col1 in TTdata.columns \n",
    "     if TTdata[col1].isnull().any()]"
   ]
  },
  {
   "cell_type": "markdown",
   "metadata": {},
   "source": [
    "### --------------------Done with missing value handling-------------------------"
   ]
  },
  {
   "cell_type": "markdown",
   "metadata": {},
   "source": [
    "## ------------------------------Making Train and Test dataset Equal------------------\n",
    "<li> To predict y column value for test\n",
    "<li> We have to make train and test equal\n",
    "<li> To do so i will drop all columns which are dropped from train dataframe"
   ]
  },
  {
   "cell_type": "code",
   "execution_count": 43,
   "metadata": {
    "collapsed": true
   },
   "outputs": [],
   "source": [
    "Xtest=TTdata"
   ]
  },
  {
   "cell_type": "code",
   "execution_count": 44,
   "metadata": {
    "collapsed": true
   },
   "outputs": [],
   "source": [
    "#dropping columns from test dataset to make train and test of equal size \n",
    "#Dropping less important column\n",
    "del Xtest['x44']\n",
    "del Xtest['x8']\n",
    "del Xtest['x5']\n",
    "del Xtest['x33']\n",
    "del Xtest['x43']\n",
    "del Xtest['x1']\n",
    "del Xtest['x13']\n",
    "del Xtest['x39']\n",
    "del Xtest['x4']\n",
    "del Xtest['x35']\n",
    "del Xtest['x16']\n",
    "del Xtest['x9']\n",
    "del Xtest['x19']\n",
    "del Xtest['x31']\n",
    "del Xtest['x15']\n",
    "del Xtest['x3']\n",
    "del Xtest['x18']\n",
    "del Xtest['x36']\n",
    "del Xtest['x47']\n",
    "del Xtest['x11']\n",
    "del Xtest['x10']\n",
    "del Xtest['x14']\n",
    "del Xtest['x22']\n",
    "del Xtest['x45']\n",
    "del Xtest['x17']\n",
    "del Xtest['x26']\n",
    "del Xtest['x34']\n",
    "del Xtest['x0']\n",
    "del Xtest['x21']\n",
    "del Xtest['x25']"
   ]
  },
  {
   "cell_type": "code",
   "execution_count": 45,
   "metadata": {
    "collapsed": false
   },
   "outputs": [
    {
     "data": {
      "text/html": [
       "<div>\n",
       "<table border=\"1\" class=\"dataframe\">\n",
       "  <thead>\n",
       "    <tr style=\"text-align: right;\">\n",
       "      <th></th>\n",
       "      <th>x2</th>\n",
       "      <th>x6</th>\n",
       "      <th>x7</th>\n",
       "      <th>x12</th>\n",
       "      <th>x20</th>\n",
       "      <th>x23</th>\n",
       "      <th>x27</th>\n",
       "      <th>x28</th>\n",
       "      <th>x38</th>\n",
       "      <th>x40</th>\n",
       "      <th>x41</th>\n",
       "      <th>x42</th>\n",
       "      <th>x46</th>\n",
       "      <th>x48</th>\n",
       "      <th>x49</th>\n",
       "    </tr>\n",
       "  </thead>\n",
       "  <tbody>\n",
       "    <tr>\n",
       "      <th>0</th>\n",
       "      <td>4.621113</td>\n",
       "      <td>6.718751</td>\n",
       "      <td>-14.789997</td>\n",
       "      <td>25.665413</td>\n",
       "      <td>-1.909114</td>\n",
       "      <td>3.553013</td>\n",
       "      <td>1.005131</td>\n",
       "      <td>-18.473784</td>\n",
       "      <td>-1.353729</td>\n",
       "      <td>-10.612200</td>\n",
       "      <td>-1.497117</td>\n",
       "      <td>5.414063</td>\n",
       "      <td>60.781427</td>\n",
       "      <td>0.151589</td>\n",
       "      <td>-8.040166</td>\n",
       "    </tr>\n",
       "    <tr>\n",
       "      <th>1</th>\n",
       "      <td>27.839856</td>\n",
       "      <td>40.477058</td>\n",
       "      <td>-6.725709</td>\n",
       "      <td>-25.014934</td>\n",
       "      <td>-5.809984</td>\n",
       "      <td>10.590601</td>\n",
       "      <td>0.751086</td>\n",
       "      <td>3.749377</td>\n",
       "      <td>32.816804</td>\n",
       "      <td>2.147427</td>\n",
       "      <td>36.292790</td>\n",
       "      <td>4.490915</td>\n",
       "      <td>15.805696</td>\n",
       "      <td>-0.320283</td>\n",
       "      <td>16.719974</td>\n",
       "    </tr>\n",
       "    <tr>\n",
       "      <th>2</th>\n",
       "      <td>12.251561</td>\n",
       "      <td>17.812850</td>\n",
       "      <td>11.060572</td>\n",
       "      <td>12.078602</td>\n",
       "      <td>1.700321</td>\n",
       "      <td>-5.270615</td>\n",
       "      <td>4.171088</td>\n",
       "      <td>11.522448</td>\n",
       "      <td>-0.333199</td>\n",
       "      <td>-0.863137</td>\n",
       "      <td>-0.368491</td>\n",
       "      <td>9.088864</td>\n",
       "      <td>30.856417</td>\n",
       "      <td>-2.090804</td>\n",
       "      <td>-7.869421</td>\n",
       "    </tr>\n",
       "    <tr>\n",
       "      <th>3</th>\n",
       "      <td>-24.149632</td>\n",
       "      <td>-35.111751</td>\n",
       "      <td>-18.913592</td>\n",
       "      <td>10.995330</td>\n",
       "      <td>1.923670</td>\n",
       "      <td>-11.484431</td>\n",
       "      <td>9.215569</td>\n",
       "      <td>30.595226</td>\n",
       "      <td>14.188669</td>\n",
       "      <td>12.084421</td>\n",
       "      <td>15.691546</td>\n",
       "      <td>-7.467775</td>\n",
       "      <td>-72.424569</td>\n",
       "      <td>1.806070</td>\n",
       "      <td>-7.670847</td>\n",
       "    </tr>\n",
       "    <tr>\n",
       "      <th>4</th>\n",
       "      <td>-11.352593</td>\n",
       "      <td>-16.505817</td>\n",
       "      <td>27.532281</td>\n",
       "      <td>-28.106348</td>\n",
       "      <td>-9.026317</td>\n",
       "      <td>-15.998166</td>\n",
       "      <td>1.811182</td>\n",
       "      <td>-4.094084</td>\n",
       "      <td>-12.578926</td>\n",
       "      <td>30.004727</td>\n",
       "      <td>-13.911297</td>\n",
       "      <td>-5.229937</td>\n",
       "      <td>-14.085435</td>\n",
       "      <td>-0.894942</td>\n",
       "      <td>15.724742</td>\n",
       "    </tr>\n",
       "  </tbody>\n",
       "</table>\n",
       "</div>"
      ],
      "text/plain": [
       "          x2         x6         x7        x12       x20        x23       x27  \\\n",
       "0   4.621113   6.718751 -14.789997  25.665413 -1.909114   3.553013  1.005131   \n",
       "1  27.839856  40.477058  -6.725709 -25.014934 -5.809984  10.590601  0.751086   \n",
       "2  12.251561  17.812850  11.060572  12.078602  1.700321  -5.270615  4.171088   \n",
       "3 -24.149632 -35.111751 -18.913592  10.995330  1.923670 -11.484431  9.215569   \n",
       "4 -11.352593 -16.505817  27.532281 -28.106348 -9.026317 -15.998166  1.811182   \n",
       "\n",
       "         x28        x38        x40        x41       x42        x46       x48  \\\n",
       "0 -18.473784  -1.353729 -10.612200  -1.497117  5.414063  60.781427  0.151589   \n",
       "1   3.749377  32.816804   2.147427  36.292790  4.490915  15.805696 -0.320283   \n",
       "2  11.522448  -0.333199  -0.863137  -0.368491  9.088864  30.856417 -2.090804   \n",
       "3  30.595226  14.188669  12.084421  15.691546 -7.467775 -72.424569  1.806070   \n",
       "4  -4.094084 -12.578926  30.004727 -13.911297 -5.229937 -14.085435 -0.894942   \n",
       "\n",
       "         x49  \n",
       "0  -8.040166  \n",
       "1  16.719974  \n",
       "2  -7.869421  \n",
       "3  -7.670847  \n",
       "4  15.724742  "
      ]
     },
     "execution_count": 45,
     "metadata": {},
     "output_type": "execute_result"
    }
   ],
   "source": [
    "#Display Xtrain\n",
    "Xtrain.head()"
   ]
  },
  {
   "cell_type": "code",
   "execution_count": 46,
   "metadata": {
    "collapsed": false
   },
   "outputs": [
    {
     "data": {
      "text/html": [
       "<div>\n",
       "<table border=\"1\" class=\"dataframe\">\n",
       "  <thead>\n",
       "    <tr style=\"text-align: right;\">\n",
       "      <th></th>\n",
       "      <th>x2</th>\n",
       "      <th>x6</th>\n",
       "      <th>x7</th>\n",
       "      <th>x12</th>\n",
       "      <th>x20</th>\n",
       "      <th>x23</th>\n",
       "      <th>x27</th>\n",
       "      <th>x28</th>\n",
       "      <th>x38</th>\n",
       "      <th>x40</th>\n",
       "      <th>x41</th>\n",
       "      <th>x42</th>\n",
       "      <th>x46</th>\n",
       "      <th>x48</th>\n",
       "      <th>x49</th>\n",
       "    </tr>\n",
       "  </thead>\n",
       "  <tbody>\n",
       "    <tr>\n",
       "      <th>0</th>\n",
       "      <td>-3.211278</td>\n",
       "      <td>-4.668957</td>\n",
       "      <td>26.648275</td>\n",
       "      <td>-6.433375</td>\n",
       "      <td>-5.738290</td>\n",
       "      <td>-0.360678</td>\n",
       "      <td>-6.978839</td>\n",
       "      <td>8.382572</td>\n",
       "      <td>-0.178863</td>\n",
       "      <td>6.597750</td>\n",
       "      <td>-0.197808</td>\n",
       "      <td>-4.138974</td>\n",
       "      <td>-39.456039</td>\n",
       "      <td>0.405111</td>\n",
       "      <td>0.565209</td>\n",
       "    </tr>\n",
       "    <tr>\n",
       "      <th>1</th>\n",
       "      <td>-8.628286</td>\n",
       "      <td>-12.544880</td>\n",
       "      <td>9.719749</td>\n",
       "      <td>4.060372</td>\n",
       "      <td>1.359652</td>\n",
       "      <td>-8.579767</td>\n",
       "      <td>-4.068507</td>\n",
       "      <td>-22.626947</td>\n",
       "      <td>-10.151217</td>\n",
       "      <td>6.235120</td>\n",
       "      <td>-11.226443</td>\n",
       "      <td>-1.727902</td>\n",
       "      <td>-15.453140</td>\n",
       "      <td>2.596948</td>\n",
       "      <td>-13.330898</td>\n",
       "    </tr>\n",
       "    <tr>\n",
       "      <th>2</th>\n",
       "      <td>7.633143</td>\n",
       "      <td>11.098016</td>\n",
       "      <td>-41.911009</td>\n",
       "      <td>-12.845708</td>\n",
       "      <td>6.853290</td>\n",
       "      <td>17.208424</td>\n",
       "      <td>4.630021</td>\n",
       "      <td>-8.932673</td>\n",
       "      <td>26.210833</td>\n",
       "      <td>-13.414719</td>\n",
       "      <td>28.987108</td>\n",
       "      <td>-3.532879</td>\n",
       "      <td>-63.918116</td>\n",
       "      <td>0.609384</td>\n",
       "      <td>-21.962528</td>\n",
       "    </tr>\n",
       "    <tr>\n",
       "      <th>3</th>\n",
       "      <td>-18.537297</td>\n",
       "      <td>-26.951837</td>\n",
       "      <td>-21.238950</td>\n",
       "      <td>-10.579531</td>\n",
       "      <td>9.018779</td>\n",
       "      <td>-5.266130</td>\n",
       "      <td>5.515030</td>\n",
       "      <td>9.780103</td>\n",
       "      <td>4.541989</td>\n",
       "      <td>2.890234</td>\n",
       "      <td>5.023080</td>\n",
       "      <td>-7.140230</td>\n",
       "      <td>-66.901730</td>\n",
       "      <td>1.363681</td>\n",
       "      <td>-1.916557</td>\n",
       "    </tr>\n",
       "    <tr>\n",
       "      <th>4</th>\n",
       "      <td>7.792464</td>\n",
       "      <td>11.329657</td>\n",
       "      <td>-12.837209</td>\n",
       "      <td>3.960106</td>\n",
       "      <td>2.933502</td>\n",
       "      <td>5.386849</td>\n",
       "      <td>10.155110</td>\n",
       "      <td>0.358322</td>\n",
       "      <td>-1.870803</td>\n",
       "      <td>-8.381609</td>\n",
       "      <td>-2.068961</td>\n",
       "      <td>8.671673</td>\n",
       "      <td>46.273615</td>\n",
       "      <td>-3.100504</td>\n",
       "      <td>-1.482507</td>\n",
       "    </tr>\n",
       "  </tbody>\n",
       "</table>\n",
       "</div>"
      ],
      "text/plain": [
       "          x2         x6         x7        x12       x20        x23        x27  \\\n",
       "0  -3.211278  -4.668957  26.648275  -6.433375 -5.738290  -0.360678  -6.978839   \n",
       "1  -8.628286 -12.544880   9.719749   4.060372  1.359652  -8.579767  -4.068507   \n",
       "2   7.633143  11.098016 -41.911009 -12.845708  6.853290  17.208424   4.630021   \n",
       "3 -18.537297 -26.951837 -21.238950 -10.579531  9.018779  -5.266130   5.515030   \n",
       "4   7.792464  11.329657 -12.837209   3.960106  2.933502   5.386849  10.155110   \n",
       "\n",
       "         x28        x38        x40        x41       x42        x46       x48  \\\n",
       "0   8.382572  -0.178863   6.597750  -0.197808 -4.138974 -39.456039  0.405111   \n",
       "1 -22.626947 -10.151217   6.235120 -11.226443 -1.727902 -15.453140  2.596948   \n",
       "2  -8.932673  26.210833 -13.414719  28.987108 -3.532879 -63.918116  0.609384   \n",
       "3   9.780103   4.541989   2.890234   5.023080 -7.140230 -66.901730  1.363681   \n",
       "4   0.358322  -1.870803  -8.381609  -2.068961  8.671673  46.273615 -3.100504   \n",
       "\n",
       "         x49  \n",
       "0   0.565209  \n",
       "1 -13.330898  \n",
       "2 -21.962528  \n",
       "3  -1.916557  \n",
       "4  -1.482507  "
      ]
     },
     "execution_count": 46,
     "metadata": {},
     "output_type": "execute_result"
    }
   ],
   "source": [
    "#Display 'Xtest'\n",
    "Xtest.head()"
   ]
  },
  {
   "cell_type": "markdown",
   "metadata": {},
   "source": [
    "### ------------------------------------Prediction of y column of test dataset---------------------------"
   ]
  },
  {
   "cell_type": "code",
   "execution_count": 53,
   "metadata": {
    "collapsed": true
   },
   "outputs": [],
   "source": [
    "#using our modelM29\n",
    "YtestM29= modelM29.predict(Xtest)"
   ]
  },
  {
   "cell_type": "code",
   "execution_count": 54,
   "metadata": {
    "collapsed": true
   },
   "outputs": [],
   "source": [
    "#using our modelM28\n",
    "YtestM28= modelM28.predict(Xtest)"
   ]
  },
  {
   "cell_type": "code",
   "execution_count": 47,
   "metadata": {
    "collapsed": true
   },
   "outputs": [],
   "source": [
    "YtestM34= modelM34.predict(Xtest)"
   ]
  },
  {
   "cell_type": "code",
   "execution_count": 48,
   "metadata": {
    "collapsed": true
   },
   "outputs": [],
   "source": [
    "YtestM36= modelM36.predict(Xtest)"
   ]
  },
  {
   "cell_type": "code",
   "execution_count": 49,
   "metadata": {
    "collapsed": true
   },
   "outputs": [],
   "source": [
    "YtestM37= modelM37.predict(Xtest)"
   ]
  },
  {
   "cell_type": "code",
   "execution_count": 50,
   "metadata": {
    "collapsed": true
   },
   "outputs": [],
   "source": [
    "YtestM38= modelM38.predict(Xtest)"
   ]
  },
  {
   "cell_type": "code",
   "execution_count": 55,
   "metadata": {
    "collapsed": false
   },
   "outputs": [
    {
     "data": {
      "text/plain": [
       "array([ 0.341,  0.036,  0.015, ...,  0.024,  0.208,  0.041])"
      ]
     },
     "execution_count": 55,
     "metadata": {},
     "output_type": "execute_result"
    }
   ],
   "source": [
    "YtestM29"
   ]
  },
  {
   "cell_type": "code",
   "execution_count": 56,
   "metadata": {
    "collapsed": false
   },
   "outputs": [
    {
     "data": {
      "text/plain": [
       "array([ 0.294,  0.035,  0.014, ...,  0.019,  0.209,  0.046])"
      ]
     },
     "execution_count": 56,
     "metadata": {},
     "output_type": "execute_result"
    }
   ],
   "source": [
    "YtestM28"
   ]
  },
  {
   "cell_type": "code",
   "execution_count": 51,
   "metadata": {
    "collapsed": false
   },
   "outputs": [
    {
     "data": {
      "text/plain": [
       "array([ 0.321,  0.041,  0.026, ...,  0.021,  0.217,  0.046])"
      ]
     },
     "execution_count": 51,
     "metadata": {},
     "output_type": "execute_result"
    }
   ],
   "source": [
    "YtestM34"
   ]
  },
  {
   "cell_type": "code",
   "execution_count": 52,
   "metadata": {
    "collapsed": false
   },
   "outputs": [
    {
     "data": {
      "text/plain": [
       "array([ 0.31066667,  0.034     ,  0.026     , ...,  0.02      ,\n",
       "        0.20466667,  0.044     ])"
      ]
     },
     "execution_count": 52,
     "metadata": {},
     "output_type": "execute_result"
    }
   ],
   "source": [
    "YtestM36"
   ]
  },
  {
   "cell_type": "code",
   "execution_count": 53,
   "metadata": {
    "collapsed": false
   },
   "outputs": [
    {
     "data": {
      "text/plain": [
       "array([ 0.3135,  0.039 ,  0.022 , ...,  0.0195,  0.196 ,  0.0425])"
      ]
     },
     "execution_count": 53,
     "metadata": {},
     "output_type": "execute_result"
    }
   ],
   "source": [
    "YtestM37"
   ]
  },
  {
   "cell_type": "code",
   "execution_count": 54,
   "metadata": {
    "collapsed": false
   },
   "outputs": [
    {
     "data": {
      "text/plain": [
       "array([ 0.318 ,  0.0315,  0.0295, ...,  0.016 ,  0.2135,  0.04  ])"
      ]
     },
     "execution_count": 54,
     "metadata": {},
     "output_type": "execute_result"
    }
   ],
   "source": [
    "YtestM38"
   ]
  },
  {
   "cell_type": "markdown",
   "metadata": {},
   "source": [
    "### -------------------------------------Genaration of .CSV file for kaggle Submission-------------------\n",
    "<li> Will using our Randomforestmodel:modelM29 and modelM28\n",
    "<li> Y columns are :YtestM29 and YtestM28"
   ]
  },
  {
   "cell_type": "code",
   "execution_count": 57,
   "metadata": {
    "collapsed": true
   },
   "outputs": [],
   "source": [
    "#here I am going to create .CSV for submission\n",
    "STdataM29=pd.DataFrame()\n",
    "STdataM29['Id']=range(0,len(YtestM29))\n",
    "STdataM29['y']=YtestM29\n",
    "STdataM29.to_csv(\"RJMTTM29.csv\",index=False)"
   ]
  },
  {
   "cell_type": "code",
   "execution_count": 58,
   "metadata": {
    "collapsed": true
   },
   "outputs": [],
   "source": [
    "#here I am going to create .CSV for submission\n",
    "STdataM28=pd.DataFrame()\n",
    "STdataM28['Id']=range(0,len(YtestM28))\n",
    "STdataM28['y']=YtestM28\n",
    "STdataM28.to_csv(\"RJMTTM28.csv\",index=False)"
   ]
  },
  {
   "cell_type": "code",
   "execution_count": 55,
   "metadata": {
    "collapsed": true
   },
   "outputs": [],
   "source": [
    "#here I am going to create .CSV for submission\n",
    "STdataM34=pd.DataFrame()\n",
    "STdataM34['Id']=range(0,len(YtestM34))\n",
    "STdataM34['y']=YtestM34\n",
    "STdataM34.to_csv(\"RJMTTM34.csv\",index=False)"
   ]
  },
  {
   "cell_type": "code",
   "execution_count": 56,
   "metadata": {
    "collapsed": true
   },
   "outputs": [],
   "source": [
    "#here I am going to create .CSV for submission\n",
    "STdataM36=pd.DataFrame()\n",
    "STdataM36['Id']=range(0,len(YtestM36))\n",
    "STdataM36['y']=YtestM36\n",
    "STdataM36.to_csv(\"RJMTTM36.csv\",index=False)"
   ]
  },
  {
   "cell_type": "code",
   "execution_count": 57,
   "metadata": {
    "collapsed": true
   },
   "outputs": [],
   "source": [
    "#here I am going to create .CSV for submission\n",
    "STdataM37=pd.DataFrame()\n",
    "STdataM37['Id']=range(0,len(YtestM37))\n",
    "STdataM37['y']=YtestM37\n",
    "STdataM37.to_csv(\"RJMTTM37.csv\",index=False)"
   ]
  },
  {
   "cell_type": "code",
   "execution_count": 58,
   "metadata": {
    "collapsed": true
   },
   "outputs": [],
   "source": [
    "#here I am going to create .CSV for submission\n",
    "STdataM38=pd.DataFrame()\n",
    "STdataM38['Id']=range(0,len(YtestM38))\n",
    "STdataM38['y']=YtestM38\n",
    "STdataM38.to_csv(\"RJMTTM38.csv\",index=False)"
   ]
  },
  {
   "cell_type": "markdown",
   "metadata": {},
   "source": [
    "## -----------------------------End of Assignment-------------------------------------\n",
    "## Thank you For such wonderfull midterm challenge\n",
    "#### learned a lot and enjoyied leaderboard compittion"
   ]
  },
  {
   "cell_type": "markdown",
   "metadata": {
    "collapsed": true
   },
   "source": [
    "### -------------------------------Extra Model Tuning------------------------------------------"
   ]
  },
  {
   "cell_type": "code",
   "execution_count": 59,
   "metadata": {
    "collapsed": false
   },
   "outputs": [
    {
     "name": "stdout",
     "output_type": "stream",
     "text": [
      "C-stat:  0.981174169828\n"
     ]
    }
   ],
   "source": [
    "modelM40 = RandomForestRegressor(n_estimators=2000, \n",
    "                              oob_score=True, \n",
    "                              n_jobs=-1, \n",
    "                              random_state=42, \n",
    "                              max_features=\"sqrt\", \n",
    "                              min_samples_leaf=1)\n",
    "modelM40.fit(Xtrain, Ytrain)\n",
    "roc = roc_auc_score(Ytrain, modelM40.oob_prediction_)\n",
    "print \"C-stat: \", roc"
   ]
  },
  {
   "cell_type": "code",
   "execution_count": 60,
   "metadata": {
    "collapsed": true
   },
   "outputs": [],
   "source": [
    "YtestM40= modelM40.predict(Xtest)"
   ]
  },
  {
   "cell_type": "code",
   "execution_count": 61,
   "metadata": {
    "collapsed": false
   },
   "outputs": [
    {
     "data": {
      "text/plain": [
       "array([ 0.332 ,  0.0355,  0.022 , ...,  0.024 ,  0.2105,  0.0385])"
      ]
     },
     "execution_count": 61,
     "metadata": {},
     "output_type": "execute_result"
    }
   ],
   "source": [
    "YtestM40"
   ]
  },
  {
   "cell_type": "code",
   "execution_count": 62,
   "metadata": {
    "collapsed": true
   },
   "outputs": [],
   "source": [
    "#here I am going to create .CSV for submission\n",
    "STdataM40=pd.DataFrame()\n",
    "STdataM40['Id']=range(0,len(YtestM40))\n",
    "STdataM40['y']=YtestM40\n",
    "STdataM40.to_csv(\"RJMTTM40.csv\",index=False)"
   ]
  },
  {
   "cell_type": "code",
   "execution_count": 63,
   "metadata": {
    "collapsed": false
   },
   "outputs": [
    {
     "name": "stdout",
     "output_type": "stream",
     "text": [
      "C-stat:  0.981180978071\n"
     ]
    }
   ],
   "source": [
    "modelM41 = RandomForestRegressor(n_estimators=2000, \n",
    "                              oob_score=True, \n",
    "                              n_jobs=-1, \n",
    "                              random_state=52, \n",
    "                              max_features=\"sqrt\", \n",
    "                              min_samples_leaf=1)\n",
    "modelM41.fit(Xtrain, Ytrain)\n",
    "roc = roc_auc_score(Ytrain, modelM41.oob_prediction_)\n",
    "print \"C-stat: \", roc"
   ]
  },
  {
   "cell_type": "code",
   "execution_count": 64,
   "metadata": {
    "collapsed": true
   },
   "outputs": [],
   "source": [
    "YtestM41= modelM41.predict(Xtest)"
   ]
  },
  {
   "cell_type": "code",
   "execution_count": 65,
   "metadata": {
    "collapsed": false
   },
   "outputs": [
    {
     "data": {
      "text/plain": [
       "array([ 0.332 ,  0.043 ,  0.0195, ...,  0.021 ,  0.2165,  0.038 ])"
      ]
     },
     "execution_count": 65,
     "metadata": {},
     "output_type": "execute_result"
    }
   ],
   "source": [
    "YtestM41"
   ]
  },
  {
   "cell_type": "code",
   "execution_count": 66,
   "metadata": {
    "collapsed": true
   },
   "outputs": [],
   "source": [
    "#here I am going to create .CSV for submission\n",
    "STdataM41=pd.DataFrame()\n",
    "STdataM41['Id']=range(0,len(YtestM41))\n",
    "STdataM41['y']=YtestM41\n",
    "STdataM41.to_csv(\"RJMTTM41.csv\",index=False)"
   ]
  },
  {
   "cell_type": "code",
   "execution_count": 67,
   "metadata": {
    "collapsed": false
   },
   "outputs": [
    {
     "name": "stdout",
     "output_type": "stream",
     "text": [
      "C-stat:  0.981171026793\n"
     ]
    }
   ],
   "source": [
    "modelM42 = RandomForestRegressor(n_estimators=2000, \n",
    "                              oob_score=True, \n",
    "                              n_jobs=-1, \n",
    "                              random_state=72, \n",
    "                              max_features=\"sqrt\", \n",
    "                              min_samples_leaf=1)\n",
    "modelM42.fit(Xtrain, Ytrain)\n",
    "roc = roc_auc_score(Ytrain, modelM42.oob_prediction_)\n",
    "print \"C-stat: \", roc"
   ]
  },
  {
   "cell_type": "code",
   "execution_count": 68,
   "metadata": {
    "collapsed": true
   },
   "outputs": [],
   "source": [
    "YtestM42= modelM42.predict(Xtest)"
   ]
  },
  {
   "cell_type": "code",
   "execution_count": 69,
   "metadata": {
    "collapsed": false
   },
   "outputs": [
    {
     "data": {
      "text/plain": [
       "array([ 0.312 ,  0.0345,  0.0185, ...,  0.015 ,  0.201 ,  0.0445])"
      ]
     },
     "execution_count": 69,
     "metadata": {},
     "output_type": "execute_result"
    }
   ],
   "source": [
    "YtestM42"
   ]
  },
  {
   "cell_type": "code",
   "execution_count": 70,
   "metadata": {
    "collapsed": true
   },
   "outputs": [],
   "source": [
    "#here I am going to create .CSV for submission\n",
    "STdataM42=pd.DataFrame()\n",
    "STdataM42['Id']=range(0,len(YtestM42))\n",
    "STdataM42['y']=YtestM42\n",
    "STdataM42.to_csv(\"RJMTTM42.csv\",index=False)"
   ]
  },
  {
   "cell_type": "markdown",
   "metadata": {},
   "source": [
    "## --------------------------------------COMMENTS ON RESULT------------------------\n",
    "\n",
    "<li> I tried multiple combinationof tunning and tried multiple results in different files.\n",
    "<li> Model best suited for my observation is modelM38.\n",
    "<li> By using this my result give me a power of predicting cancellation of subscription is arround 98% and which is great accuracy that can help company for planning next subscribtion plan"
   ]
  },
  {
   "cell_type": "code",
   "execution_count": null,
   "metadata": {
    "collapsed": true
   },
   "outputs": [],
   "source": []
  },
  {
   "cell_type": "code",
   "execution_count": null,
   "metadata": {
    "collapsed": true
   },
   "outputs": [],
   "source": []
  }
 ],
 "metadata": {
  "anaconda-cloud": {},
  "kernelspec": {
   "display_name": "Python [Root]",
   "language": "python",
   "name": "Python [Root]"
  },
  "language_info": {
   "codemirror_mode": {
    "name": "ipython",
    "version": 2
   },
   "file_extension": ".py",
   "mimetype": "text/x-python",
   "name": "python",
   "nbconvert_exporter": "python",
   "pygments_lexer": "ipython2",
   "version": "2.7.12"
  }
 },
 "nbformat": 4,
 "nbformat_minor": 0
}
