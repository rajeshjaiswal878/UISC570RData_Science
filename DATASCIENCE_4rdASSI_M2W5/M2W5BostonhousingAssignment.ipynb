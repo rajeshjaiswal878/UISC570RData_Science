{
 "cells": [
  {
   "cell_type": "markdown",
   "metadata": {},
   "source": [
    "### ------------------------Start of Assignment------------------------------\n",
    "#### Module 2 / Week 5: Making Predictions - Linear Regression\n",
    "<li> DATA SCIENCE LR BOSTON HOUSING ASSIGNMENT\n",
    "<li> RAJESH ASHOK JAISWAL UIN:669012329\n",
    "<li> DATED:09/26/2016\n",
    "### -------------------------------------------------"
   ]
  },
  {
   "cell_type": "markdown",
   "metadata": {},
   "source": [
    "<Strong> In this steps we will import library files"
   ]
  },
  {
   "cell_type": "code",
   "execution_count": 79,
   "metadata": {
    "collapsed": true
   },
   "outputs": [],
   "source": [
    "from sklearn import datasets\n",
    "import pandas as pd\n",
    "from sklearn.preprocessing import StandardScaler\n",
    "from sklearn.cross_validation import train_test_split\n",
    "from sklearn.metrics import mean_squared_error\n",
    "from sklearn.metrics import r2_score\n",
    "from sklearn.linear_model import LinearRegression"
   ]
  },
  {
   "cell_type": "markdown",
   "metadata": {},
   "source": [
    "### In this step we will load boston data into mybean"
   ]
  },
  {
   "cell_type": "code",
   "execution_count": 80,
   "metadata": {
    "collapsed": true
   },
   "outputs": [],
   "source": [
    "#mybean is a local dataset defined by me\n",
    "mybean = datasets.load_boston()"
   ]
  },
  {
   "cell_type": "code",
   "execution_count": 81,
   "metadata": {
    "collapsed": false
   },
   "outputs": [
    {
     "data": {
      "text/plain": [
       "{'DESCR': \"Boston House Prices dataset\\n\\nNotes\\n------\\nData Set Characteristics:  \\n\\n    :Number of Instances: 506 \\n\\n    :Number of Attributes: 13 numeric/categorical predictive\\n    \\n    :Median Value (attribute 14) is usually the target\\n\\n    :Attribute Information (in order):\\n        - CRIM     per capita crime rate by town\\n        - ZN       proportion of residential land zoned for lots over 25,000 sq.ft.\\n        - INDUS    proportion of non-retail business acres per town\\n        - CHAS     Charles River dummy variable (= 1 if tract bounds river; 0 otherwise)\\n        - NOX      nitric oxides concentration (parts per 10 million)\\n        - RM       average number of rooms per dwelling\\n        - AGE      proportion of owner-occupied units built prior to 1940\\n        - DIS      weighted distances to five Boston employment centres\\n        - RAD      index of accessibility to radial highways\\n        - TAX      full-value property-tax rate per $10,000\\n        - PTRATIO  pupil-teacher ratio by town\\n        - B        1000(Bk - 0.63)^2 where Bk is the proportion of blacks by town\\n        - LSTAT    % lower status of the population\\n        - MEDV     Median value of owner-occupied homes in $1000's\\n\\n    :Missing Attribute Values: None\\n\\n    :Creator: Harrison, D. and Rubinfeld, D.L.\\n\\nThis is a copy of UCI ML housing dataset.\\nhttp://archive.ics.uci.edu/ml/datasets/Housing\\n\\n\\nThis dataset was taken from the StatLib library which is maintained at Carnegie Mellon University.\\n\\nThe Boston house-price data of Harrison, D. and Rubinfeld, D.L. 'Hedonic\\nprices and the demand for clean air', J. Environ. Economics & Management,\\nvol.5, 81-102, 1978.   Used in Belsley, Kuh & Welsch, 'Regression diagnostics\\n...', Wiley, 1980.   N.B. Various transformations are used in the table on\\npages 244-261 of the latter.\\n\\nThe Boston house-price data has been used in many machine learning papers that address regression\\nproblems.   \\n     \\n**References**\\n\\n   - Belsley, Kuh & Welsch, 'Regression diagnostics: Identifying Influential Data and Sources of Collinearity', Wiley, 1980. 244-261.\\n   - Quinlan,R. (1993). Combining Instance-Based and Model-Based Learning. In Proceedings on the Tenth International Conference of Machine Learning, 236-243, University of Massachusetts, Amherst. Morgan Kaufmann.\\n   - many more! (see http://archive.ics.uci.edu/ml/datasets/Housing)\\n\",\n",
       " 'data': array([[  6.32000000e-03,   1.80000000e+01,   2.31000000e+00, ...,\n",
       "           1.53000000e+01,   3.96900000e+02,   4.98000000e+00],\n",
       "        [  2.73100000e-02,   0.00000000e+00,   7.07000000e+00, ...,\n",
       "           1.78000000e+01,   3.96900000e+02,   9.14000000e+00],\n",
       "        [  2.72900000e-02,   0.00000000e+00,   7.07000000e+00, ...,\n",
       "           1.78000000e+01,   3.92830000e+02,   4.03000000e+00],\n",
       "        ..., \n",
       "        [  6.07600000e-02,   0.00000000e+00,   1.19300000e+01, ...,\n",
       "           2.10000000e+01,   3.96900000e+02,   5.64000000e+00],\n",
       "        [  1.09590000e-01,   0.00000000e+00,   1.19300000e+01, ...,\n",
       "           2.10000000e+01,   3.93450000e+02,   6.48000000e+00],\n",
       "        [  4.74100000e-02,   0.00000000e+00,   1.19300000e+01, ...,\n",
       "           2.10000000e+01,   3.96900000e+02,   7.88000000e+00]]),\n",
       " 'feature_names': array(['CRIM', 'ZN', 'INDUS', 'CHAS', 'NOX', 'RM', 'AGE', 'DIS', 'RAD',\n",
       "        'TAX', 'PTRATIO', 'B', 'LSTAT'], \n",
       "       dtype='|S7'),\n",
       " 'target': array([ 24. ,  21.6,  34.7,  33.4,  36.2,  28.7,  22.9,  27.1,  16.5,\n",
       "         18.9,  15. ,  18.9,  21.7,  20.4,  18.2,  19.9,  23.1,  17.5,\n",
       "         20.2,  18.2,  13.6,  19.6,  15.2,  14.5,  15.6,  13.9,  16.6,\n",
       "         14.8,  18.4,  21. ,  12.7,  14.5,  13.2,  13.1,  13.5,  18.9,\n",
       "         20. ,  21. ,  24.7,  30.8,  34.9,  26.6,  25.3,  24.7,  21.2,\n",
       "         19.3,  20. ,  16.6,  14.4,  19.4,  19.7,  20.5,  25. ,  23.4,\n",
       "         18.9,  35.4,  24.7,  31.6,  23.3,  19.6,  18.7,  16. ,  22.2,\n",
       "         25. ,  33. ,  23.5,  19.4,  22. ,  17.4,  20.9,  24.2,  21.7,\n",
       "         22.8,  23.4,  24.1,  21.4,  20. ,  20.8,  21.2,  20.3,  28. ,\n",
       "         23.9,  24.8,  22.9,  23.9,  26.6,  22.5,  22.2,  23.6,  28.7,\n",
       "         22.6,  22. ,  22.9,  25. ,  20.6,  28.4,  21.4,  38.7,  43.8,\n",
       "         33.2,  27.5,  26.5,  18.6,  19.3,  20.1,  19.5,  19.5,  20.4,\n",
       "         19.8,  19.4,  21.7,  22.8,  18.8,  18.7,  18.5,  18.3,  21.2,\n",
       "         19.2,  20.4,  19.3,  22. ,  20.3,  20.5,  17.3,  18.8,  21.4,\n",
       "         15.7,  16.2,  18. ,  14.3,  19.2,  19.6,  23. ,  18.4,  15.6,\n",
       "         18.1,  17.4,  17.1,  13.3,  17.8,  14. ,  14.4,  13.4,  15.6,\n",
       "         11.8,  13.8,  15.6,  14.6,  17.8,  15.4,  21.5,  19.6,  15.3,\n",
       "         19.4,  17. ,  15.6,  13.1,  41.3,  24.3,  23.3,  27. ,  50. ,\n",
       "         50. ,  50. ,  22.7,  25. ,  50. ,  23.8,  23.8,  22.3,  17.4,\n",
       "         19.1,  23.1,  23.6,  22.6,  29.4,  23.2,  24.6,  29.9,  37.2,\n",
       "         39.8,  36.2,  37.9,  32.5,  26.4,  29.6,  50. ,  32. ,  29.8,\n",
       "         34.9,  37. ,  30.5,  36.4,  31.1,  29.1,  50. ,  33.3,  30.3,\n",
       "         34.6,  34.9,  32.9,  24.1,  42.3,  48.5,  50. ,  22.6,  24.4,\n",
       "         22.5,  24.4,  20. ,  21.7,  19.3,  22.4,  28.1,  23.7,  25. ,\n",
       "         23.3,  28.7,  21.5,  23. ,  26.7,  21.7,  27.5,  30.1,  44.8,\n",
       "         50. ,  37.6,  31.6,  46.7,  31.5,  24.3,  31.7,  41.7,  48.3,\n",
       "         29. ,  24. ,  25.1,  31.5,  23.7,  23.3,  22. ,  20.1,  22.2,\n",
       "         23.7,  17.6,  18.5,  24.3,  20.5,  24.5,  26.2,  24.4,  24.8,\n",
       "         29.6,  42.8,  21.9,  20.9,  44. ,  50. ,  36. ,  30.1,  33.8,\n",
       "         43.1,  48.8,  31. ,  36.5,  22.8,  30.7,  50. ,  43.5,  20.7,\n",
       "         21.1,  25.2,  24.4,  35.2,  32.4,  32. ,  33.2,  33.1,  29.1,\n",
       "         35.1,  45.4,  35.4,  46. ,  50. ,  32.2,  22. ,  20.1,  23.2,\n",
       "         22.3,  24.8,  28.5,  37.3,  27.9,  23.9,  21.7,  28.6,  27.1,\n",
       "         20.3,  22.5,  29. ,  24.8,  22. ,  26.4,  33.1,  36.1,  28.4,\n",
       "         33.4,  28.2,  22.8,  20.3,  16.1,  22.1,  19.4,  21.6,  23.8,\n",
       "         16.2,  17.8,  19.8,  23.1,  21. ,  23.8,  23.1,  20.4,  18.5,\n",
       "         25. ,  24.6,  23. ,  22.2,  19.3,  22.6,  19.8,  17.1,  19.4,\n",
       "         22.2,  20.7,  21.1,  19.5,  18.5,  20.6,  19. ,  18.7,  32.7,\n",
       "         16.5,  23.9,  31.2,  17.5,  17.2,  23.1,  24.5,  26.6,  22.9,\n",
       "         24.1,  18.6,  30.1,  18.2,  20.6,  17.8,  21.7,  22.7,  22.6,\n",
       "         25. ,  19.9,  20.8,  16.8,  21.9,  27.5,  21.9,  23.1,  50. ,\n",
       "         50. ,  50. ,  50. ,  50. ,  13.8,  13.8,  15. ,  13.9,  13.3,\n",
       "         13.1,  10.2,  10.4,  10.9,  11.3,  12.3,   8.8,   7.2,  10.5,\n",
       "          7.4,  10.2,  11.5,  15.1,  23.2,   9.7,  13.8,  12.7,  13.1,\n",
       "         12.5,   8.5,   5. ,   6.3,   5.6,   7.2,  12.1,   8.3,   8.5,\n",
       "          5. ,  11.9,  27.9,  17.2,  27.5,  15. ,  17.2,  17.9,  16.3,\n",
       "          7. ,   7.2,   7.5,  10.4,   8.8,   8.4,  16.7,  14.2,  20.8,\n",
       "         13.4,  11.7,   8.3,  10.2,  10.9,  11. ,   9.5,  14.5,  14.1,\n",
       "         16.1,  14.3,  11.7,  13.4,   9.6,   8.7,   8.4,  12.8,  10.5,\n",
       "         17.1,  18.4,  15.4,  10.8,  11.8,  14.9,  12.6,  14.1,  13. ,\n",
       "         13.4,  15.2,  16.1,  17.8,  14.9,  14.1,  12.7,  13.5,  14.9,\n",
       "         20. ,  16.4,  17.7,  19.5,  20.2,  21.4,  19.9,  19. ,  19.1,\n",
       "         19.1,  20.1,  19.9,  19.6,  23.2,  29.8,  13.8,  13.3,  16.7,\n",
       "         12. ,  14.6,  21.4,  23. ,  23.7,  25. ,  21.8,  20.6,  21.2,\n",
       "         19.1,  20.6,  15.2,   7. ,   8.1,  13.6,  20.1,  21.8,  24.5,\n",
       "         23.1,  19.7,  18.3,  21.2,  17.5,  16.8,  22.4,  20.6,  23.9,\n",
       "         22. ,  11.9])}"
      ]
     },
     "execution_count": 81,
     "metadata": {},
     "output_type": "execute_result"
    }
   ],
   "source": [
    "mybean"
   ]
  },
  {
   "cell_type": "code",
   "execution_count": 82,
   "metadata": {
    "collapsed": false
   },
   "outputs": [
    {
     "name": "stdout",
     "output_type": "stream",
     "text": [
      "Boston House Prices dataset\n",
      "\n",
      "Notes\n",
      "------\n",
      "Data Set Characteristics:  \n",
      "\n",
      "    :Number of Instances: 506 \n",
      "\n",
      "    :Number of Attributes: 13 numeric/categorical predictive\n",
      "    \n",
      "    :Median Value (attribute 14) is usually the target\n",
      "\n",
      "    :Attribute Information (in order):\n",
      "        - CRIM     per capita crime rate by town\n",
      "        - ZN       proportion of residential land zoned for lots over 25,000 sq.ft.\n",
      "        - INDUS    proportion of non-retail business acres per town\n",
      "        - CHAS     Charles River dummy variable (= 1 if tract bounds river; 0 otherwise)\n",
      "        - NOX      nitric oxides concentration (parts per 10 million)\n",
      "        - RM       average number of rooms per dwelling\n",
      "        - AGE      proportion of owner-occupied units built prior to 1940\n",
      "        - DIS      weighted distances to five Boston employment centres\n",
      "        - RAD      index of accessibility to radial highways\n",
      "        - TAX      full-value property-tax rate per $10,000\n",
      "        - PTRATIO  pupil-teacher ratio by town\n",
      "        - B        1000(Bk - 0.63)^2 where Bk is the proportion of blacks by town\n",
      "        - LSTAT    % lower status of the population\n",
      "        - MEDV     Median value of owner-occupied homes in $1000's\n",
      "\n",
      "    :Missing Attribute Values: None\n",
      "\n",
      "    :Creator: Harrison, D. and Rubinfeld, D.L.\n",
      "\n",
      "This is a copy of UCI ML housing dataset.\n",
      "http://archive.ics.uci.edu/ml/datasets/Housing\n",
      "\n",
      "\n",
      "This dataset was taken from the StatLib library which is maintained at Carnegie Mellon University.\n",
      "\n",
      "The Boston house-price data of Harrison, D. and Rubinfeld, D.L. 'Hedonic\n",
      "prices and the demand for clean air', J. Environ. Economics & Management,\n",
      "vol.5, 81-102, 1978.   Used in Belsley, Kuh & Welsch, 'Regression diagnostics\n",
      "...', Wiley, 1980.   N.B. Various transformations are used in the table on\n",
      "pages 244-261 of the latter.\n",
      "\n",
      "The Boston house-price data has been used in many machine learning papers that address regression\n",
      "problems.   \n",
      "     \n",
      "**References**\n",
      "\n",
      "   - Belsley, Kuh & Welsch, 'Regression diagnostics: Identifying Influential Data and Sources of Collinearity', Wiley, 1980. 244-261.\n",
      "   - Quinlan,R. (1993). Combining Instance-Based and Model-Based Learning. In Proceedings on the Tenth International Conference of Machine Learning, 236-243, University of Massachusetts, Amherst. Morgan Kaufmann.\n",
      "   - many more! (see http://archive.ics.uci.edu/ml/datasets/Housing)\n",
      "\n"
     ]
    }
   ],
   "source": [
    "print mybean.DESCR"
   ]
  },
  {
   "cell_type": "code",
   "execution_count": 83,
   "metadata": {
    "collapsed": true
   },
   "outputs": [],
   "source": [
    "# IN THIS steps assigning values to attributes.\n",
    "\n",
    "def load_boston():\n",
    "    myscaler = StandardScaler()\n",
    "    myboston = datasets.load_boston()\n",
    "    X=myboston.data\n",
    "    y=myboston.target\n",
    "    X = myscaler.fit_transform(X)\n",
    "    return train_test_split(X,y)"
   ]
  },
  {
   "cell_type": "markdown",
   "metadata": {},
   "source": [
    "#### in this steps we are going to load value in two separate container test and train\n",
    "\n",
    "<li>X_trainr- X value of train dataset\n",
    "<li>X_testr- X value of test dataset\n",
    "<li>y_trainr- Y value of train dataset\n",
    "<li>y_testr- y value of test dataset"
   ]
  },
  {
   "cell_type": "code",
   "execution_count": 84,
   "metadata": {
    "collapsed": true
   },
   "outputs": [],
   "source": [
    "X_trainr, X_testr, y_trainr, y_testr = load_boston()"
   ]
  },
  {
   "cell_type": "code",
   "execution_count": 85,
   "metadata": {
    "collapsed": false
   },
   "outputs": [
    {
     "data": {
      "text/plain": [
       "((379, 13), (127, 13), (379,), (127,))"
      ]
     },
     "execution_count": 85,
     "metadata": {},
     "output_type": "execute_result"
    }
   ],
   "source": [
    "X_trainr.shape, X_testr.shape, y_trainr.shape, y_testr.shape"
   ]
  },
  {
   "cell_type": "code",
   "execution_count": 86,
   "metadata": {
    "collapsed": false
   },
   "outputs": [
    {
     "data": {
      "text/plain": [
       "LinearRegression(copy_X=True, fit_intercept=True, n_jobs=1, normalize=False)"
      ]
     },
     "execution_count": 86,
     "metadata": {},
     "output_type": "execute_result"
    }
   ],
   "source": [
    "myclf = LinearRegression()\n",
    "myclf.fit(X_trainr, y_trainr)"
   ]
  },
  {
   "cell_type": "code",
   "execution_count": 87,
   "metadata": {
    "collapsed": false
   },
   "outputs": [
    {
     "data": {
      "text/plain": [
       "[(36.399999999999999, 32.533544640570035),\n",
       " (19.600000000000001, 23.600961414525152),\n",
       " (19.199999999999999, 23.717717406089715),\n",
       " (16.699999999999999, 20.433316951258934),\n",
       " (22.800000000000001, 29.043272074892602),\n",
       " (12.0, 11.715244472703311),\n",
       " (27.899999999999999, 20.950926349884931),\n",
       " (50.0, 40.002385551615916),\n",
       " (17.0, 23.497189878440153),\n",
       " (19.899999999999999, 18.363195454525957),\n",
       " (20.100000000000001, 16.245745252870112),\n",
       " (15.6, 13.605961682402919),\n",
       " (23.199999999999999, 17.835341564432426),\n",
       " (16.100000000000001, 19.324604747506928),\n",
       " (30.800000000000001, 31.272958235477326),\n",
       " (28.199999999999999, 32.657855569654238),\n",
       " (44.799999999999997, 38.17345053468118),\n",
       " (19.600000000000001, 19.012725360171366),\n",
       " (19.699999999999999, 20.874769934107388),\n",
       " (14.6, 19.667967673877904),\n",
       " (18.199999999999999, 18.68985874142524),\n",
       " (22.899999999999999, 22.787915325806008),\n",
       " (8.5, 16.962991334523956),\n",
       " (23.800000000000001, 25.675764446919221),\n",
       " (13.9, 13.525014847410969),\n",
       " (17.199999999999999, 16.704108975263736),\n",
       " (29.100000000000001, 31.044030658828024),\n",
       " (5.0, 6.5274238769688431),\n",
       " (12.800000000000001, 13.629282529274837),\n",
       " (15.199999999999999, 12.040522768213529),\n",
       " (23.0, 30.529462735959275),\n",
       " (15.300000000000001, 21.600184361924835),\n",
       " (35.100000000000001, 34.632808617923288),\n",
       " (31.5, 32.762440493256641),\n",
       " (19.399999999999999, 23.377387155483881),\n",
       " (20.100000000000001, 18.938446802829059),\n",
       " (23.699999999999999, 9.3061989758868542),\n",
       " (22.199999999999999, 24.601675552364465),\n",
       " (16.600000000000001, 17.598629557812224),\n",
       " (16.600000000000001, 15.810210793062797),\n",
       " (48.5, 41.533096449729612),\n",
       " (17.800000000000001, 23.113286660318309),\n",
       " (20.5, 20.671739045216793),\n",
       " (37.600000000000001, 37.624619152804776),\n",
       " (23.199999999999999, 25.093709181729626),\n",
       " (12.6, 19.034833423337883),\n",
       " (50.0, 40.306248574134266),\n",
       " (20.399999999999999, 19.887693566219035),\n",
       " (23.100000000000001, 25.500696121792206),\n",
       " (18.0, 19.34044249383755),\n",
       " (16.5, 10.671916803490797),\n",
       " (21.0, 21.144973440324168),\n",
       " (18.399999999999999, 19.669345459429199),\n",
       " (20.100000000000001, 19.848652144089378),\n",
       " (35.399999999999999, 33.818718573609971),\n",
       " (18.5, 25.095481335719185),\n",
       " (17.399999999999999, 22.358261307990027),\n",
       " (24.399999999999999, 23.440945800797671),\n",
       " (7.0, 8.0420678791935085),\n",
       " (5.5999999999999996, 12.014138914077781),\n",
       " (20.100000000000001, 21.548488473043733),\n",
       " (17.399999999999999, 17.029928930329469),\n",
       " (21.399999999999999, 22.738761131141743),\n",
       " (32.5, 31.096915406165909),\n",
       " (15.4, 14.902799449169379),\n",
       " (20.800000000000001, 19.786314637587569),\n",
       " (27.899999999999999, 31.834624603489974),\n",
       " (22.600000000000001, 23.485721882619959),\n",
       " (27.5, 24.70120297223998),\n",
       " (29.399999999999999, 30.196696454687576),\n",
       " (20.0, 17.365803627722656),\n",
       " (19.899999999999999, 19.989941781066566),\n",
       " (22.699999999999999, 24.84112846541791),\n",
       " (11.699999999999999, 16.593605565885834),\n",
       " (21.399999999999999, 22.51399163851147),\n",
       " (33.399999999999999, 35.466640104281026),\n",
       " (19.600000000000001, 21.402454736375404),\n",
       " (13.1, 13.891508769790924),\n",
       " (22.0, 22.065925852949135),\n",
       " (17.699999999999999, 21.060308559576622),\n",
       " (7.4000000000000004, 5.5283602010205577),\n",
       " (23.199999999999999, 22.885094613744432),\n",
       " (50.0, 35.404163510264453),\n",
       " (20.300000000000001, 23.696577478273007),\n",
       " (20.800000000000001, 19.141880177823094),\n",
       " (18.5, 13.374406272230557),\n",
       " (8.0999999999999996, 3.1652209895221723),\n",
       " (31.5, 30.877707604888769),\n",
       " (12.1, 18.720261948591961),\n",
       " (12.300000000000001, 13.462118315813678),\n",
       " (46.0, 40.629126517585192),\n",
       " (22.0, 28.459933512678134),\n",
       " (18.899999999999999, 23.811324144853668),\n",
       " (28.5, 33.522881696301297),\n",
       " (33.799999999999997, 34.389446793856123),\n",
       " (20.600000000000001, 22.217112684690857),\n",
       " (28.699999999999999, 28.393129985245004),\n",
       " (28.100000000000001, 24.802792176656396),\n",
       " (23.899999999999999, 24.376048153626542),\n",
       " (20.300000000000001, 19.038695337543341),\n",
       " (7.5, 12.946511722048857),\n",
       " (18.300000000000001, 19.095342466707034),\n",
       " (32.200000000000003, 31.017285648108647),\n",
       " (45.399999999999999, 38.375737368608618),\n",
       " (20.899999999999999, 21.523629405113915),\n",
       " (31.600000000000001, 32.331649428784203),\n",
       " (16.199999999999999, 15.583079490568839),\n",
       " (24.699999999999999, 22.534322665223854),\n",
       " (10.4, 6.7772700095198832),\n",
       " (21.899999999999999, 39.054409153406098),\n",
       " (21.899999999999999, 16.645762584298119),\n",
       " (48.799999999999997, 40.668025205051919),\n",
       " (21.800000000000001, 20.533155292462581),\n",
       " (24.100000000000001, 28.910354642867595),\n",
       " (20.0, 22.160438865562007),\n",
       " (32.700000000000003, 29.991650721847726),\n",
       " (13.5, 13.480009121583862),\n",
       " (19.600000000000001, 20.074309738156103),\n",
       " (16.699999999999999, 20.898388614100693),\n",
       " (18.899999999999999, 15.383530151431707),\n",
       " (21.5, 21.352866952300658),\n",
       " (37.899999999999999, 33.868982203637117),\n",
       " (19.300000000000001, 20.369454393620021),\n",
       " (25.0, 24.2406528383435),\n",
       " (19.0, 21.321889801920513),\n",
       " (10.199999999999999, 6.5767470388954479),\n",
       " (13.300000000000001, 20.465133294821541)]"
      ]
     },
     "execution_count": 87,
     "metadata": {},
     "output_type": "execute_result"
    }
   ],
   "source": [
    "zip (y_testr, myclf.predict(X_testr))"
   ]
  },
  {
   "cell_type": "markdown",
   "metadata": {},
   "source": [
    "####------------------------- Now we will perform performance check of LR----------------------------"
   ]
  },
  {
   "cell_type": "markdown",
   "metadata": {},
   "source": [
    "### ### --------------------More evaluation work done on other group info--------------------------\n",
    "\n",
    "<li>r2 and\n",
    "<li>mse methods to measure the performance of my linear regressor."
   ]
  },
  {
   "cell_type": "code",
   "execution_count": 88,
   "metadata": {
    "collapsed": false
   },
   "outputs": [
    {
     "data": {
      "text/plain": [
       "0.78462614953580712"
      ]
     },
     "execution_count": 88,
     "metadata": {},
     "output_type": "execute_result"
    }
   ],
   "source": [
    "#scikit learn's r2\n",
    "r2_score (y_testr, myclf.predict(X_testr))"
   ]
  },
  {
   "cell_type": "code",
   "execution_count": 89,
   "metadata": {
    "collapsed": false
   },
   "outputs": [
    {
     "data": {
      "text/plain": [
       "19.18124479626524"
      ]
     },
     "execution_count": 89,
     "metadata": {},
     "output_type": "execute_result"
    }
   ],
   "source": [
    "#MSE performance testing\n",
    "mean_squared_error (y_testr, myclf.predict(X_testr))"
   ]
  },
  {
   "cell_type": "markdown",
   "metadata": {},
   "source": [
    "### In this Section we will Check  Impliment either sklearn.linear_model.Ridge or sklearn.linear_model.Lasso----\n",
    "\n",
    "<li>sklearn.linear_model.Ridge or \n",
    "<li>sklearn.linear_model.Lasso."
   ]
  },
  {
   "cell_type": "code",
   "execution_count": 90,
   "metadata": {
    "collapsed": false
   },
   "outputs": [],
   "source": [
    "#Implimentation of Ridge\n",
    "from sklearn import linear_model"
   ]
  },
  {
   "cell_type": "code",
   "execution_count": 91,
   "metadata": {
    "collapsed": true
   },
   "outputs": [],
   "source": [
    "clfridge = linear_model.Ridge (alpha = .5)"
   ]
  },
  {
   "cell_type": "code",
   "execution_count": 92,
   "metadata": {
    "collapsed": false
   },
   "outputs": [
    {
     "data": {
      "text/plain": [
       "Ridge(alpha=0.5, copy_X=True, fit_intercept=True, max_iter=None,\n",
       "   normalize=False, random_state=None, solver='auto', tol=0.001)"
      ]
     },
     "execution_count": 92,
     "metadata": {},
     "output_type": "execute_result"
    }
   ],
   "source": [
    "clfridge.fit(X_trainr,y_trainr)"
   ]
  },
  {
   "cell_type": "code",
   "execution_count": 93,
   "metadata": {
    "collapsed": false
   },
   "outputs": [],
   "source": [
    "clf.coef_"
   ]
  },
  {
   "cell_type": "code",
   "execution_count": 94,
   "metadata": {
    "collapsed": false
   },
   "outputs": [
    {
     "data": {
      "text/plain": [
       "0.0"
      ]
     },
     "execution_count": 94,
     "metadata": {},
     "output_type": "execute_result"
    }
   ],
   "source": [
    "clf.intercept_"
   ]
  },
  {
   "cell_type": "code",
   "execution_count": 95,
   "metadata": {
    "collapsed": false
   },
   "outputs": [
    {
     "data": {
      "text/plain": [
       "array([ 32.56055768,  23.5708937 ,  23.73840755,  20.42430333,\n",
       "        29.03069683,  11.70526867,  20.92021717,  39.97959204,\n",
       "        23.53860774,  18.35621697,  16.35521527,  13.63436128,\n",
       "        17.83011136,  19.31962111,  31.24184357,  32.59422922,\n",
       "        38.14436062,  19.02943077,  20.86598286,  19.65134223,\n",
       "        18.69770516,  22.78863642,  16.95009711,  25.67122388,\n",
       "        13.54211186,  16.69301678,  31.03804118,   6.5445382 ,\n",
       "        13.62943149,  12.14950057,  30.50590151,  21.62900411,\n",
       "        34.58531078,  32.73863568,  23.366397  ,  18.92401564,\n",
       "         9.32492844,  24.57687881,  17.59571662,  15.82617583,\n",
       "        41.47046169,  23.11623664,  20.60231066,  37.59274217,\n",
       "        25.0912951 ,  19.03176466,  40.27114633,  19.91597703,\n",
       "        25.51551625,  19.36549905,  10.69430098,  21.15198577,\n",
       "        19.66178829,  19.85896443,  33.7790813 ,  25.11424578,\n",
       "        22.35477968,  23.43222068,   8.15887186,  12.02269119,\n",
       "        21.56479199,  17.05964007,  22.66483302,  31.05436558,\n",
       "        14.93530532,  19.76648017,  31.78434109,  23.55452423,\n",
       "        24.72183648,  30.19062249,  17.36942441,  19.98594314,\n",
       "        24.8334508 ,  16.58950608,  22.49232531,  35.40458429,\n",
       "        21.38024454,  13.91650337,  21.99648637,  21.05312484,\n",
       "         5.53940194,  22.86673561,  35.38104649,  23.68748445,\n",
       "        19.11701415,  13.38747499,   3.28956185,  30.85173329,\n",
       "        18.71379342,  13.45502806,  40.60327554,  28.44224674,\n",
       "        23.79397605,  33.47109436,  34.36527754,  22.20128444,\n",
       "        28.35805846,  24.79346853,  24.37528411,  19.03169568,\n",
       "        12.95641783,  19.11693576,  31.01996153,  38.3309618 ,\n",
       "        21.54960647,  32.30007692,  15.60601728,  22.53012091,\n",
       "         6.78406338,  39.06142611,  16.62163415,  40.64591898,\n",
       "        20.55072674,  28.91726421,  22.14699891,  30.01879288,\n",
       "        13.50015819,  20.09760683,  20.88371903,  15.45497387,\n",
       "        21.37686905,  33.82914945,  20.39006252,  24.22774679,\n",
       "        21.30567017,   6.57860967,  20.45852093])"
      ]
     },
     "execution_count": 95,
     "metadata": {},
     "output_type": "execute_result"
    }
   ],
   "source": [
    "clfridge.predict(X_testr)"
   ]
  },
  {
   "cell_type": "code",
   "execution_count": 96,
   "metadata": {
    "collapsed": false
   },
   "outputs": [
    {
     "data": {
      "text/plain": [
       "0.78462614953580712"
      ]
     },
     "execution_count": 96,
     "metadata": {},
     "output_type": "execute_result"
    }
   ],
   "source": [
    "r2_score (y_testr, myclf.predict(X_testr))"
   ]
  },
  {
   "cell_type": "markdown",
   "metadata": {},
   "source": [
    "## -----------Ridge with: generalized Cross-Validation-------------"
   ]
  },
  {
   "cell_type": "code",
   "execution_count": 97,
   "metadata": {
    "collapsed": true
   },
   "outputs": [],
   "source": [
    "clfrcrs = linear_model.RidgeCV(alphas=[0.1, 1.0, 10.0])"
   ]
  },
  {
   "cell_type": "code",
   "execution_count": 98,
   "metadata": {
    "collapsed": false
   },
   "outputs": [
    {
     "data": {
      "text/plain": [
       "RidgeCV(alphas=[0.1, 1.0, 10.0], cv=None, fit_intercept=True, gcv_mode=None,\n",
       "    normalize=False, scoring=None, store_cv_values=False)"
      ]
     },
     "execution_count": 98,
     "metadata": {},
     "output_type": "execute_result"
    }
   ],
   "source": [
    "clfrcrs.fit(X_trainr,y_trainr)"
   ]
  },
  {
   "cell_type": "code",
   "execution_count": 99,
   "metadata": {
    "collapsed": false
   },
   "outputs": [
    {
     "data": {
      "text/plain": [
       "array([ 32.58586887,  23.54162953,  23.75757807,  20.41558779,\n",
       "        29.01832714,  11.69577623,  20.8902697 ,  39.95733504,\n",
       "        23.57865409,  18.34957726,  16.45895631,  13.66160581,\n",
       "        17.8251935 ,  19.31494484,  31.21169524,  32.5329806 ,\n",
       "        38.11601409,  19.04575759,  20.8581747 ,  19.63521287,\n",
       "        18.70530579,  22.78962439,  16.9377011 ,  25.6667988 ,\n",
       "        13.55890835,  16.68218161,  31.0319329 ,   6.56142402,\n",
       "        13.62985157,  12.252861  ,  30.4833237 ,  21.65680931,\n",
       "        34.53953816,  32.71566448,  23.35569385,  18.90999852,\n",
       "         9.34375652,  24.55360557,  17.5935734 ,  15.84185583,\n",
       "        41.40995397,  23.11918618,  20.53656752,  37.56173083,\n",
       "        25.08878697,  19.02893754,  40.23700106,  19.94259508,\n",
       "        25.52980552,  19.38933992,  10.71679423,  21.15892112,\n",
       "        19.65459402,  19.86946797,  33.74108299,  25.13146822,\n",
       "        22.35124674,  23.42406937,   8.26995   ,  12.03119536,\n",
       "        21.57988041,  17.0882694 ,  22.59463984,  31.01320573,\n",
       "        14.96711472,  19.74734871,  31.73584488,  23.61989198,\n",
       "        24.74107552,  30.18436355,  17.37324649,  19.98223428,\n",
       "        24.82578151,  16.58561574,  22.47115341,  35.34478974,\n",
       "        21.35952075,  13.94096552,  21.93067811,  21.04628193,\n",
       "         5.55049856,  22.84888927,  35.35867425,  23.6786209 ,\n",
       "        19.09280194,  13.40083478,   3.40810657,  30.82655922,\n",
       "        18.70759723,  13.4483739 ,  40.57830164,  28.42518434,\n",
       "        23.77719978,  33.42109624,  34.34186529,  22.18659752,\n",
       "        28.32455939,  24.78463606,  24.37462432,  19.02561911,\n",
       "        12.9662127 ,  19.13748906,  31.02235506,  38.28783753,\n",
       "        21.57473967,  32.26948393,  15.62788329,  22.52616549,\n",
       "         6.79088943,  39.06764829,  16.598319  ,  40.62438212,\n",
       "        20.56726146,  28.92321931,  22.13405876,  30.0447078 ,\n",
       "        13.51987336,  20.11974146,  20.86951194,  15.52310424,\n",
       "        21.40025082,  33.79054905,  20.40939392,  24.2154549 ,\n",
       "        21.290637  ,   6.58080862,  20.45210844])"
      ]
     },
     "execution_count": 99,
     "metadata": {},
     "output_type": "execute_result"
    }
   ],
   "source": [
    "clfrcrs.predict(X_testr)"
   ]
  },
  {
   "cell_type": "markdown",
   "metadata": {},
   "source": [
    "### ----------------------Implimentation of --sklearn.linear_model.Lasso---------------------\n",
    "\n",
    "Now we are implementing lasso"
   ]
  },
  {
   "cell_type": "code",
   "execution_count": 100,
   "metadata": {
    "collapsed": true
   },
   "outputs": [],
   "source": [
    "clflasso = linear_model.Lasso(alpha = 0.1)"
   ]
  },
  {
   "cell_type": "code",
   "execution_count": 101,
   "metadata": {
    "collapsed": false
   },
   "outputs": [
    {
     "data": {
      "text/plain": [
       "Lasso(alpha=0.1, copy_X=True, fit_intercept=True, max_iter=1000,\n",
       "   normalize=False, positive=False, precompute=False, random_state=None,\n",
       "   selection='cyclic', tol=0.0001, warm_start=False)"
      ]
     },
     "execution_count": 101,
     "metadata": {},
     "output_type": "execute_result"
    }
   ],
   "source": [
    "clflasso.fit(X_trainr,y_trainr)"
   ]
  },
  {
   "cell_type": "code",
   "execution_count": 102,
   "metadata": {
    "collapsed": false
   },
   "outputs": [
    {
     "data": {
      "text/plain": [
       "array([ 33.31362167,  22.5786943 ,  24.25026772,  20.22882615,\n",
       "        28.84552643,  11.17014744,  20.13146508,  39.13813681,\n",
       "        24.89220402,  18.36412673,  19.81417683,  14.7171592 ,\n",
       "        17.60438132,  19.10779704,  30.28660435,  30.47456226,\n",
       "        37.23985581,  19.97693433,  20.53431839,  19.01524409,\n",
       "        18.97660749,  22.75523323,  16.40189144,  25.57099438,\n",
       "        13.95746644,  16.34410707,  30.8596251 ,   6.91802069,\n",
       "        13.4734587 ,  15.43006216,  29.67372451,  22.76155582,\n",
       "        33.24595412,  32.08016274,  22.98907325,  18.64665659,\n",
       "         9.7064489 ,  23.83629626,  17.21208007,  16.18255619,\n",
       "        39.40643356,  23.11962197,  19.00226455,  36.62066957,\n",
       "        24.97257279,  18.95917209,  39.00598394,  20.57757255,\n",
       "        25.84425014,  20.25609275,  10.67238217,  21.44179591,\n",
       "        19.37900388,  19.90012884,  32.68681312,  25.53702826,\n",
       "        22.46193881,  23.33200867,  11.50544971,  12.08319332,\n",
       "        21.82957969,  17.84934572,  21.03700725,  29.66158307,\n",
       "        16.12071112,  19.38950111,  30.28508765,  25.59279097,\n",
       "        25.22881404,  30.13285081,  16.82818238,  19.96652382,\n",
       "        24.8518248 ,  16.75958393,  21.92895927,  33.32872234,\n",
       "        20.74259577,  15.25025493,  20.60209951,  20.85128298,\n",
       "         5.58098324,  22.27032322,  34.73195868,  23.48793252,\n",
       "        18.49632634,  13.43239418,   6.72271123,  30.38620252,\n",
       "        18.34407915,  12.94884153,  39.62209426,  27.80359809,\n",
       "        23.24562806,  31.93944619,  33.46214917,  21.94899867,\n",
       "        27.50180012,  24.79970888,  24.34842865,  18.92708313,\n",
       "        13.18629885,  19.681454  ,  30.86884169,  36.94609217,\n",
       "        22.18827006,  31.31801912,  16.42661655,  22.53300098,\n",
       "         7.0642836 ,  39.2149827 ,  16.02490614,  39.82949179,\n",
       "        21.11709345,  28.7821914 ,  21.70936757,  30.68906187,\n",
       "        13.84851017,  21.06366473,  20.2153302 ,  17.02401525,\n",
       "        22.47448205,  32.52781912,  20.76900453,  24.08671708,\n",
       "        20.97366005,   6.27510682,  20.00131131])"
      ]
     },
     "execution_count": 102,
     "metadata": {},
     "output_type": "execute_result"
    }
   ],
   "source": [
    "clflasso.predict(X_testr)"
   ]
  },
  {
   "cell_type": "code",
   "execution_count": 103,
   "metadata": {
    "collapsed": false
   },
   "outputs": [
    {
     "data": {
      "text/plain": [
       "0.78462614953580712"
      ]
     },
     "execution_count": 103,
     "metadata": {},
     "output_type": "execute_result"
    }
   ],
   "source": [
    "r2_score (y_testr, myclf.predict(X_testr))"
   ]
  },
  {
   "cell_type": "code",
   "execution_count": 104,
   "metadata": {
    "collapsed": false
   },
   "outputs": [
    {
     "data": {
      "text/plain": [
       "19.18124479626524"
      ]
     },
     "execution_count": 104,
     "metadata": {},
     "output_type": "execute_result"
    }
   ],
   "source": [
    "#MSE performance testing\n",
    "mean_squared_error (y_testr, myclf.predict(X_testr))"
   ]
  },
  {
   "cell_type": "code",
   "execution_count": 105,
   "metadata": {
    "collapsed": true
   },
   "outputs": [],
   "source": [
    "clflasso = linear_model.Lasso(alpha = 0.3)"
   ]
  },
  {
   "cell_type": "code",
   "execution_count": 106,
   "metadata": {
    "collapsed": false
   },
   "outputs": [
    {
     "data": {
      "text/plain": [
       "Lasso(alpha=0.3, copy_X=True, fit_intercept=True, max_iter=1000,\n",
       "   normalize=False, positive=False, precompute=False, random_state=None,\n",
       "   selection='cyclic', tol=0.0001, warm_start=False)"
      ]
     },
     "execution_count": 106,
     "metadata": {},
     "output_type": "execute_result"
    }
   ],
   "source": [
    "clflasso.fit(X_trainr,y_trainr)"
   ]
  },
  {
   "cell_type": "code",
   "execution_count": 107,
   "metadata": {
    "collapsed": false
   },
   "outputs": [
    {
     "data": {
      "text/plain": [
       "array([ 33.07389886,  21.33717433,  23.97478329,  20.31152852,\n",
       "        28.89994703,  10.54516407,  19.31160536,  37.94595881,\n",
       "        26.50271141,  18.20563831,  20.75435322,  15.67717058,\n",
       "        17.35466679,  19.08112306,  28.75248215,  28.54981284,\n",
       "        36.32233523,  21.69847796,  20.90547763,  18.23053017,\n",
       "        19.46920223,  23.22967927,  15.8304606 ,  25.79752611,\n",
       "        15.00043361,  15.85534789,  29.96050925,   7.50415569,\n",
       "        13.47668978,  16.18032629,  29.14509315,  24.14432903,\n",
       "        31.79564175,  31.84899722,  22.7283535 ,  17.98656608,\n",
       "         9.4602528 ,  24.40624598,  17.71731831,  17.230997  ,\n",
       "        36.73963783,  23.36903877,  18.68602492,  35.86822122,\n",
       "        24.5420347 ,  19.24922521,  37.08998481,  20.24803208,\n",
       "        25.99096507,  20.68539758,  11.49523425,  21.87973171,\n",
       "        19.36985337,  20.30324238,  31.91508385,  25.0041701 ,\n",
       "        22.49139039,  23.46202662,  12.32508277,  12.21959896,\n",
       "        21.43148046,  18.36525335,  20.64916972,  28.74688882,\n",
       "        17.87520018,  19.55748084,  28.27932172,  26.18205592,\n",
       "        25.0694497 ,  29.48627565,  16.34665107,  20.38727295,\n",
       "        24.72670713,  17.49981877,  21.1640795 ,  31.39722898,\n",
       "        21.10815632,  17.54561076,  20.34670344,  20.87080202,\n",
       "         5.57764012,  21.3298456 ,  34.12223678,  23.37792016,\n",
       "        17.7615927 ,  14.45329523,   7.62085578,  29.6286838 ,\n",
       "        17.93582178,  12.38210712,  38.60889354,  26.88410112,\n",
       "        22.7877872 ,  29.94729407,  32.61659072,  22.44705739,\n",
       "        27.32295265,  24.70290129,  24.40311607,  19.51191221,\n",
       "        13.49256161,  19.84662059,  29.92205543,  35.92613519,\n",
       "        22.59866871,  30.53632501,  16.79626596,  22.37326338,\n",
       "         7.57944574,  38.80828309,  15.63731618,  39.17745465,\n",
       "        20.96788761,  27.44585387,  21.29587762,  31.26178561,\n",
       "        14.66675066,  21.77729845,  19.28816993,  17.16527935,\n",
       "        24.21991101,  31.57556226,  20.54266013,  23.96362311,\n",
       "        21.46926949,   6.00910272,  19.24462709])"
      ]
     },
     "execution_count": 107,
     "metadata": {},
     "output_type": "execute_result"
    }
   ],
   "source": [
    "clflasso.predict(X_testr)"
   ]
  },
  {
   "cell_type": "code",
   "execution_count": 108,
   "metadata": {
    "collapsed": false
   },
   "outputs": [
    {
     "data": {
      "text/plain": [
       "0.78462614953580712"
      ]
     },
     "execution_count": 108,
     "metadata": {},
     "output_type": "execute_result"
    }
   ],
   "source": [
    "r2_score (y_testr, myclf.predict(X_testr))"
   ]
  },
  {
   "cell_type": "markdown",
   "metadata": {
    "collapsed": true
   },
   "source": [
    "#### -------------------------------- End of Assignment----------------------------------------"
   ]
  },
  {
   "cell_type": "code",
   "execution_count": null,
   "metadata": {
    "collapsed": true
   },
   "outputs": [],
   "source": []
  }
 ],
 "metadata": {
  "anaconda-cloud": {},
  "kernelspec": {
   "display_name": "Python [Root]",
   "language": "python",
   "name": "Python [Root]"
  },
  "language_info": {
   "codemirror_mode": {
    "name": "ipython",
    "version": 2
   },
   "file_extension": ".py",
   "mimetype": "text/x-python",
   "name": "python",
   "nbconvert_exporter": "python",
   "pygments_lexer": "ipython2",
   "version": "2.7.12"
  }
 },
 "nbformat": 4,
 "nbformat_minor": 0
}
